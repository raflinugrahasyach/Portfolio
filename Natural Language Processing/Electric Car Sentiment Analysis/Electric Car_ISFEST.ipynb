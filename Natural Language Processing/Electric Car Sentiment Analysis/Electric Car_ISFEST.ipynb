{
  "cells": [
    {
      "cell_type": "markdown",
      "metadata": {
        "id": "78lD5voXEpXn"
      },
      "source": [
        "# Import Dataset"
      ]
    },
    {
      "cell_type": "code",
      "execution_count": null,
      "metadata": {
        "colab": {
          "base_uri": "https://localhost:8080/"
        },
        "id": "Ypla3XLNDXYk",
        "outputId": "ef1b35d9-c82d-404c-8861-f1e9e32474c2"
      },
      "outputs": [
        {
          "output_type": "stream",
          "name": "stdout",
          "text": [
            "Collecting Sastrawi\n",
            "  Downloading Sastrawi-1.0.1-py2.py3-none-any.whl.metadata (909 bytes)\n",
            "Downloading Sastrawi-1.0.1-py2.py3-none-any.whl (209 kB)\n",
            "\u001b[?25l   \u001b[90m━━━━━━━━━━━━━━━━━━━━━━━━━━━━━━━━━━━━━━━━\u001b[0m \u001b[32m0.0/209.7 kB\u001b[0m \u001b[31m?\u001b[0m eta \u001b[36m-:--:--\u001b[0m\r\u001b[2K   \u001b[91m━━━━━━━━━━━━━━━\u001b[0m\u001b[91m╸\u001b[0m\u001b[90m━━━━━━━━━━━━━━━━━━━━━━━━\u001b[0m \u001b[32m81.9/209.7 kB\u001b[0m \u001b[31m2.9 MB/s\u001b[0m eta \u001b[36m0:00:01\u001b[0m\r\u001b[2K   \u001b[90m━━━━━━━━━━━━━━━━━━━━━━━━━━━━━━━━━━━━━━━━\u001b[0m \u001b[32m209.7/209.7 kB\u001b[0m \u001b[31m3.5 MB/s\u001b[0m eta \u001b[36m0:00:00\u001b[0m\n",
            "\u001b[?25hInstalling collected packages: Sastrawi\n",
            "Successfully installed Sastrawi-1.0.1\n"
          ]
        }
      ],
      "source": [
        "!pip install Sastrawi"
      ]
    },
    {
      "cell_type": "code",
      "execution_count": null,
      "metadata": {
        "id": "YR8iFYwSEpL_"
      },
      "outputs": [],
      "source": [
        "# Define Libraries\n",
        "import pandas as pd\n",
        "import numpy as np"
      ]
    },
    {
      "cell_type": "code",
      "execution_count": null,
      "metadata": {
        "id": "mT7ATmo8Eh-S"
      },
      "outputs": [],
      "source": [
        "df = pd.read_csv('mobil_listrik.csv')"
      ]
    },
    {
      "cell_type": "code",
      "execution_count": null,
      "metadata": {
        "colab": {
          "base_uri": "https://localhost:8080/",
          "height": 206
        },
        "id": "xlTGm3DeEgNZ",
        "outputId": "5bae8400-1ebf-4ee1-dbf4-6f6d5fb6405e"
      },
      "outputs": [
        {
          "output_type": "execute_result",
          "data": {
            "text/plain": [
              "                  id_komentar        nama_akun                    tanggal  \\\n",
              "0  Ugzbll5eyrIy3-gdUUJ4AaABAg          Sqn Ldr  2023-08-06 12:54:49+00:00   \n",
              "1  UgzEDUiV3OTrV943p8p4AaABAg       lushen ace  2023-08-04 12:16:23+00:00   \n",
              "2  UgwqJqu6JMF4EH2CsVV4AaABAg  Fatih Al-Ayyubi  2023-08-04 10:17:57+00:00   \n",
              "3  UgyYicCMR1rKwuOj2Y14AaABAg        yp office  2023-08-04 08:29:54+00:00   \n",
              "4  UgxKAcLuAwZOQK6es-x4AaABAg    Lembur Kuring  2023-08-04 07:55:37+00:00   \n",
              "\n",
              "                                       text_cleaning sentimen  \n",
              "0  saran sih bikin   harga ionic sama kayak brio ...  positif  \n",
              "1  problem subsidi kualitas diturunin harga dinai...  negatif  \n",
              "2  baik kualitas kembang dulu baik kualitas motor...  positif  \n",
              "3       model jelek kwalitas buruk harga mahal croot  negatif  \n",
              "4  syarat   ngaco woy anak muda   blom punya ruma...  negatif  "
            ],
            "text/html": [
              "\n",
              "  <div id=\"df-3824f5b3-5925-439b-8f74-0766a2322750\" class=\"colab-df-container\">\n",
              "    <div>\n",
              "<style scoped>\n",
              "    .dataframe tbody tr th:only-of-type {\n",
              "        vertical-align: middle;\n",
              "    }\n",
              "\n",
              "    .dataframe tbody tr th {\n",
              "        vertical-align: top;\n",
              "    }\n",
              "\n",
              "    .dataframe thead th {\n",
              "        text-align: right;\n",
              "    }\n",
              "</style>\n",
              "<table border=\"1\" class=\"dataframe\">\n",
              "  <thead>\n",
              "    <tr style=\"text-align: right;\">\n",
              "      <th></th>\n",
              "      <th>id_komentar</th>\n",
              "      <th>nama_akun</th>\n",
              "      <th>tanggal</th>\n",
              "      <th>text_cleaning</th>\n",
              "      <th>sentimen</th>\n",
              "    </tr>\n",
              "  </thead>\n",
              "  <tbody>\n",
              "    <tr>\n",
              "      <th>0</th>\n",
              "      <td>Ugzbll5eyrIy3-gdUUJ4AaABAg</td>\n",
              "      <td>Sqn Ldr</td>\n",
              "      <td>2023-08-06 12:54:49+00:00</td>\n",
              "      <td>saran sih bikin   harga ionic sama kayak brio ...</td>\n",
              "      <td>positif</td>\n",
              "    </tr>\n",
              "    <tr>\n",
              "      <th>1</th>\n",
              "      <td>UgzEDUiV3OTrV943p8p4AaABAg</td>\n",
              "      <td>lushen ace</td>\n",
              "      <td>2023-08-04 12:16:23+00:00</td>\n",
              "      <td>problem subsidi kualitas diturunin harga dinai...</td>\n",
              "      <td>negatif</td>\n",
              "    </tr>\n",
              "    <tr>\n",
              "      <th>2</th>\n",
              "      <td>UgwqJqu6JMF4EH2CsVV4AaABAg</td>\n",
              "      <td>Fatih Al-Ayyubi</td>\n",
              "      <td>2023-08-04 10:17:57+00:00</td>\n",
              "      <td>baik kualitas kembang dulu baik kualitas motor...</td>\n",
              "      <td>positif</td>\n",
              "    </tr>\n",
              "    <tr>\n",
              "      <th>3</th>\n",
              "      <td>UgyYicCMR1rKwuOj2Y14AaABAg</td>\n",
              "      <td>yp office</td>\n",
              "      <td>2023-08-04 08:29:54+00:00</td>\n",
              "      <td>model jelek kwalitas buruk harga mahal croot</td>\n",
              "      <td>negatif</td>\n",
              "    </tr>\n",
              "    <tr>\n",
              "      <th>4</th>\n",
              "      <td>UgxKAcLuAwZOQK6es-x4AaABAg</td>\n",
              "      <td>Lembur Kuring</td>\n",
              "      <td>2023-08-04 07:55:37+00:00</td>\n",
              "      <td>syarat   ngaco woy anak muda   blom punya ruma...</td>\n",
              "      <td>negatif</td>\n",
              "    </tr>\n",
              "  </tbody>\n",
              "</table>\n",
              "</div>\n",
              "    <div class=\"colab-df-buttons\">\n",
              "\n",
              "  <div class=\"colab-df-container\">\n",
              "    <button class=\"colab-df-convert\" onclick=\"convertToInteractive('df-3824f5b3-5925-439b-8f74-0766a2322750')\"\n",
              "            title=\"Convert this dataframe to an interactive table.\"\n",
              "            style=\"display:none;\">\n",
              "\n",
              "  <svg xmlns=\"http://www.w3.org/2000/svg\" height=\"24px\" viewBox=\"0 -960 960 960\">\n",
              "    <path d=\"M120-120v-720h720v720H120Zm60-500h600v-160H180v160Zm220 220h160v-160H400v160Zm0 220h160v-160H400v160ZM180-400h160v-160H180v160Zm440 0h160v-160H620v160ZM180-180h160v-160H180v160Zm440 0h160v-160H620v160Z\"/>\n",
              "  </svg>\n",
              "    </button>\n",
              "\n",
              "  <style>\n",
              "    .colab-df-container {\n",
              "      display:flex;\n",
              "      gap: 12px;\n",
              "    }\n",
              "\n",
              "    .colab-df-convert {\n",
              "      background-color: #E8F0FE;\n",
              "      border: none;\n",
              "      border-radius: 50%;\n",
              "      cursor: pointer;\n",
              "      display: none;\n",
              "      fill: #1967D2;\n",
              "      height: 32px;\n",
              "      padding: 0 0 0 0;\n",
              "      width: 32px;\n",
              "    }\n",
              "\n",
              "    .colab-df-convert:hover {\n",
              "      background-color: #E2EBFA;\n",
              "      box-shadow: 0px 1px 2px rgba(60, 64, 67, 0.3), 0px 1px 3px 1px rgba(60, 64, 67, 0.15);\n",
              "      fill: #174EA6;\n",
              "    }\n",
              "\n",
              "    .colab-df-buttons div {\n",
              "      margin-bottom: 4px;\n",
              "    }\n",
              "\n",
              "    [theme=dark] .colab-df-convert {\n",
              "      background-color: #3B4455;\n",
              "      fill: #D2E3FC;\n",
              "    }\n",
              "\n",
              "    [theme=dark] .colab-df-convert:hover {\n",
              "      background-color: #434B5C;\n",
              "      box-shadow: 0px 1px 3px 1px rgba(0, 0, 0, 0.15);\n",
              "      filter: drop-shadow(0px 1px 2px rgba(0, 0, 0, 0.3));\n",
              "      fill: #FFFFFF;\n",
              "    }\n",
              "  </style>\n",
              "\n",
              "    <script>\n",
              "      const buttonEl =\n",
              "        document.querySelector('#df-3824f5b3-5925-439b-8f74-0766a2322750 button.colab-df-convert');\n",
              "      buttonEl.style.display =\n",
              "        google.colab.kernel.accessAllowed ? 'block' : 'none';\n",
              "\n",
              "      async function convertToInteractive(key) {\n",
              "        const element = document.querySelector('#df-3824f5b3-5925-439b-8f74-0766a2322750');\n",
              "        const dataTable =\n",
              "          await google.colab.kernel.invokeFunction('convertToInteractive',\n",
              "                                                    [key], {});\n",
              "        if (!dataTable) return;\n",
              "\n",
              "        const docLinkHtml = 'Like what you see? Visit the ' +\n",
              "          '<a target=\"_blank\" href=https://colab.research.google.com/notebooks/data_table.ipynb>data table notebook</a>'\n",
              "          + ' to learn more about interactive tables.';\n",
              "        element.innerHTML = '';\n",
              "        dataTable['output_type'] = 'display_data';\n",
              "        await google.colab.output.renderOutput(dataTable, element);\n",
              "        const docLink = document.createElement('div');\n",
              "        docLink.innerHTML = docLinkHtml;\n",
              "        element.appendChild(docLink);\n",
              "      }\n",
              "    </script>\n",
              "  </div>\n",
              "\n",
              "\n",
              "<div id=\"df-5424c38f-7dfe-4f88-aeb8-d2c02e2b4b27\">\n",
              "  <button class=\"colab-df-quickchart\" onclick=\"quickchart('df-5424c38f-7dfe-4f88-aeb8-d2c02e2b4b27')\"\n",
              "            title=\"Suggest charts\"\n",
              "            style=\"display:none;\">\n",
              "\n",
              "<svg xmlns=\"http://www.w3.org/2000/svg\" height=\"24px\"viewBox=\"0 0 24 24\"\n",
              "     width=\"24px\">\n",
              "    <g>\n",
              "        <path d=\"M19 3H5c-1.1 0-2 .9-2 2v14c0 1.1.9 2 2 2h14c1.1 0 2-.9 2-2V5c0-1.1-.9-2-2-2zM9 17H7v-7h2v7zm4 0h-2V7h2v10zm4 0h-2v-4h2v4z\"/>\n",
              "    </g>\n",
              "</svg>\n",
              "  </button>\n",
              "\n",
              "<style>\n",
              "  .colab-df-quickchart {\n",
              "      --bg-color: #E8F0FE;\n",
              "      --fill-color: #1967D2;\n",
              "      --hover-bg-color: #E2EBFA;\n",
              "      --hover-fill-color: #174EA6;\n",
              "      --disabled-fill-color: #AAA;\n",
              "      --disabled-bg-color: #DDD;\n",
              "  }\n",
              "\n",
              "  [theme=dark] .colab-df-quickchart {\n",
              "      --bg-color: #3B4455;\n",
              "      --fill-color: #D2E3FC;\n",
              "      --hover-bg-color: #434B5C;\n",
              "      --hover-fill-color: #FFFFFF;\n",
              "      --disabled-bg-color: #3B4455;\n",
              "      --disabled-fill-color: #666;\n",
              "  }\n",
              "\n",
              "  .colab-df-quickchart {\n",
              "    background-color: var(--bg-color);\n",
              "    border: none;\n",
              "    border-radius: 50%;\n",
              "    cursor: pointer;\n",
              "    display: none;\n",
              "    fill: var(--fill-color);\n",
              "    height: 32px;\n",
              "    padding: 0;\n",
              "    width: 32px;\n",
              "  }\n",
              "\n",
              "  .colab-df-quickchart:hover {\n",
              "    background-color: var(--hover-bg-color);\n",
              "    box-shadow: 0 1px 2px rgba(60, 64, 67, 0.3), 0 1px 3px 1px rgba(60, 64, 67, 0.15);\n",
              "    fill: var(--button-hover-fill-color);\n",
              "  }\n",
              "\n",
              "  .colab-df-quickchart-complete:disabled,\n",
              "  .colab-df-quickchart-complete:disabled:hover {\n",
              "    background-color: var(--disabled-bg-color);\n",
              "    fill: var(--disabled-fill-color);\n",
              "    box-shadow: none;\n",
              "  }\n",
              "\n",
              "  .colab-df-spinner {\n",
              "    border: 2px solid var(--fill-color);\n",
              "    border-color: transparent;\n",
              "    border-bottom-color: var(--fill-color);\n",
              "    animation:\n",
              "      spin 1s steps(1) infinite;\n",
              "  }\n",
              "\n",
              "  @keyframes spin {\n",
              "    0% {\n",
              "      border-color: transparent;\n",
              "      border-bottom-color: var(--fill-color);\n",
              "      border-left-color: var(--fill-color);\n",
              "    }\n",
              "    20% {\n",
              "      border-color: transparent;\n",
              "      border-left-color: var(--fill-color);\n",
              "      border-top-color: var(--fill-color);\n",
              "    }\n",
              "    30% {\n",
              "      border-color: transparent;\n",
              "      border-left-color: var(--fill-color);\n",
              "      border-top-color: var(--fill-color);\n",
              "      border-right-color: var(--fill-color);\n",
              "    }\n",
              "    40% {\n",
              "      border-color: transparent;\n",
              "      border-right-color: var(--fill-color);\n",
              "      border-top-color: var(--fill-color);\n",
              "    }\n",
              "    60% {\n",
              "      border-color: transparent;\n",
              "      border-right-color: var(--fill-color);\n",
              "    }\n",
              "    80% {\n",
              "      border-color: transparent;\n",
              "      border-right-color: var(--fill-color);\n",
              "      border-bottom-color: var(--fill-color);\n",
              "    }\n",
              "    90% {\n",
              "      border-color: transparent;\n",
              "      border-bottom-color: var(--fill-color);\n",
              "    }\n",
              "  }\n",
              "</style>\n",
              "\n",
              "  <script>\n",
              "    async function quickchart(key) {\n",
              "      const quickchartButtonEl =\n",
              "        document.querySelector('#' + key + ' button');\n",
              "      quickchartButtonEl.disabled = true;  // To prevent multiple clicks.\n",
              "      quickchartButtonEl.classList.add('colab-df-spinner');\n",
              "      try {\n",
              "        const charts = await google.colab.kernel.invokeFunction(\n",
              "            'suggestCharts', [key], {});\n",
              "      } catch (error) {\n",
              "        console.error('Error during call to suggestCharts:', error);\n",
              "      }\n",
              "      quickchartButtonEl.classList.remove('colab-df-spinner');\n",
              "      quickchartButtonEl.classList.add('colab-df-quickchart-complete');\n",
              "    }\n",
              "    (() => {\n",
              "      let quickchartButtonEl =\n",
              "        document.querySelector('#df-5424c38f-7dfe-4f88-aeb8-d2c02e2b4b27 button');\n",
              "      quickchartButtonEl.style.display =\n",
              "        google.colab.kernel.accessAllowed ? 'block' : 'none';\n",
              "    })();\n",
              "  </script>\n",
              "</div>\n",
              "\n",
              "    </div>\n",
              "  </div>\n"
            ],
            "application/vnd.google.colaboratory.intrinsic+json": {
              "type": "dataframe",
              "variable_name": "df",
              "summary": "{\n  \"name\": \"df\",\n  \"rows\": 1517,\n  \"fields\": [\n    {\n      \"column\": \"id_komentar\",\n      \"properties\": {\n        \"dtype\": \"string\",\n        \"num_unique_values\": 1517,\n        \"samples\": [\n          \"Ugx_pygvl9f3SjGopoN4AaABAg\",\n          \"UgziyBx2qgREdB1GdNN4AaABAg\",\n          \"UgzqjsnqcRWbIacru8t4AaABAg\"\n        ],\n        \"semantic_type\": \"\",\n        \"description\": \"\"\n      }\n    },\n    {\n      \"column\": \"nama_akun\",\n      \"properties\": {\n        \"dtype\": \"string\",\n        \"num_unique_values\": 1515,\n        \"samples\": [\n          \"Indra Fahri ( shadow TV MAN )\",\n          \"PANDI Kartini PANDI Kartini iii\",\n          \"Rara Beni\"\n        ],\n        \"semantic_type\": \"\",\n        \"description\": \"\"\n      }\n    },\n    {\n      \"column\": \"tanggal\",\n      \"properties\": {\n        \"dtype\": \"object\",\n        \"num_unique_values\": 1514,\n        \"samples\": [\n          \"2023-07-06 02:57:10+00:00\",\n          \"2023-06-29 02:01:15+00:00\",\n          \"2023-03-07 03:28:17+00:00\"\n        ],\n        \"semantic_type\": \"\",\n        \"description\": \"\"\n      }\n    },\n    {\n      \"column\": \"text_cleaning\",\n      \"properties\": {\n        \"dtype\": \"string\",\n        \"num_unique_values\": 1514,\n        \"samples\": [\n          \"iya   jalan sering banget ketemu kendara jalan\",\n          \"susah pas jalan jauh kalimantan kalbar tambh cager habis gimana mau cager\",\n          \"apa bau itu\"\n        ],\n        \"semantic_type\": \"\",\n        \"description\": \"\"\n      }\n    },\n    {\n      \"column\": \"sentimen\",\n      \"properties\": {\n        \"dtype\": \"category\",\n        \"num_unique_values\": 3,\n        \"samples\": [\n          \"positif\",\n          \"negatif\",\n          \"netral\"\n        ],\n        \"semantic_type\": \"\",\n        \"description\": \"\"\n      }\n    }\n  ]\n}"
            }
          },
          "metadata": {},
          "execution_count": 4
        }
      ],
      "source": [
        "df.head()"
      ]
    },
    {
      "cell_type": "code",
      "execution_count": null,
      "metadata": {
        "colab": {
          "base_uri": "https://localhost:8080/"
        },
        "id": "7DR12yCcIQvT",
        "outputId": "a9524cf5-184d-4bb0-a996-9b17d9632944"
      },
      "outputs": [
        {
          "output_type": "stream",
          "name": "stdout",
          "text": [
            "<class 'pandas.core.frame.DataFrame'>\n",
            "RangeIndex: 1517 entries, 0 to 1516\n",
            "Data columns (total 5 columns):\n",
            " #   Column         Non-Null Count  Dtype \n",
            "---  ------         --------------  ----- \n",
            " 0   id_komentar    1517 non-null   object\n",
            " 1   nama_akun      1516 non-null   object\n",
            " 2   tanggal        1517 non-null   object\n",
            " 3   text_cleaning  1515 non-null   object\n",
            " 4   sentimen       1517 non-null   object\n",
            "dtypes: object(5)\n",
            "memory usage: 59.4+ KB\n"
          ]
        }
      ],
      "source": [
        "df.info()"
      ]
    },
    {
      "cell_type": "code",
      "execution_count": null,
      "metadata": {
        "colab": {
          "base_uri": "https://localhost:8080/"
        },
        "id": "pnvYLT4mK169",
        "outputId": "b818074d-aef1-4399-e49b-961ecbe832df"
      },
      "outputs": [
        {
          "output_type": "execute_result",
          "data": {
            "text/plain": [
              "array(['positif', 'negatif', 'netral'], dtype=object)"
            ]
          },
          "metadata": {},
          "execution_count": 6
        }
      ],
      "source": [
        "df['sentimen'].unique()"
      ]
    },
    {
      "cell_type": "markdown",
      "metadata": {
        "id": "EkCI35EPEJOG"
      },
      "source": [
        "# Business Understanding"
      ]
    },
    {
      "cell_type": "markdown",
      "metadata": {
        "id": "stBfRLZvKhf6"
      },
      "source": [
        "**Tujuan Penelitian**\n",
        "\n",
        "* Memahami Persepsi Publik Terhadap Mobil Listrik:\n",
        "Menilai pandangan masyarakat yang terbagi menjadi positif, negatif, dan netral berdasarkan komentar dari media sosial.\n",
        "\n",
        "* Mengukur Perubahan Persepsi dari Waktu ke Waktu:\n",
        "Mengevaluasi perubahan sentimen publik terkait kampanye pemasaran, kebijakan pemerintah, dan peluncuran produk baru.\n",
        "\n",
        "* Menyediakan Insight bagi Pengambil Keputusan:\n",
        "Memberikan rekomendasi strategi pemasaran, pengembangan produk, dan kebijakan pemerintah berdasarkan hasil analisis sentimen.\n",
        "\n",
        "* Membangun Dasar untuk Penelitian Lebih Lanjut:\n",
        "Menyediakan dasar metodologis untuk studi lanjutan terkait persepsi publik terhadap teknologi inovatif lainnya."
      ]
    },
    {
      "cell_type": "markdown",
      "metadata": {
        "id": "wXhOkW3fLjFh"
      },
      "source": [
        "**Permasalahan**\n",
        "\n",
        "* Penilaian Sentimen Publik:\n",
        "\n",
        "Deskripsi: Permasalahan utama yang ingin dipecahkan adalah bagaimana masyarakat secara keseluruhan memandang mobil listrik—apakah mereka lebih cenderung memiliki pandangan positif, negatif, atau netral. Memahami distribusi sentimen ini penting untuk menilai penerimaan masyarakat terhadap mobil listrik.\n",
        "\n",
        "* Analisis Temporal Sentimen:\n",
        "\n",
        "Deskripsi: Mengamati bagaimana sentimen terhadap mobil listrik berubah dari waktu ke waktu, terutama dalam konteks peluncuran produk baru, kampanye pemasaran, atau perubahan kebijakan. Ini akan membantu dalam menilai reaksi masyarakat terhadap inisiatif tertentu."
      ]
    },
    {
      "cell_type": "markdown",
      "metadata": {
        "id": "fyTmsQJ1Khds"
      },
      "source": [
        "**Kebutuhan**\n",
        "\n",
        "* Data sentimen diperlukan untuk **memahami persepsi publik**, dan ini bisa digunakan oleh bisnis untuk mengambil keputusan terkait pengembangan produk, strategi pemasaran, atau kebijakan harga.\n",
        "\n",
        "* Dengan memahami persepsi masyarakat, perusahaan mobil listrik dan yang berkaitan (bekerja sama) dapat melakukan **pengambilan keputusan yang tepat** untuk memaksimalkan profit dan pemerintah dapat membuat **kebijakan dan regulasi yang tepat** terhadap penggunaan mobil listrik."
      ]
    },
    {
      "cell_type": "code",
      "execution_count": null,
      "metadata": {
        "id": "GZgkzdS6Re7B"
      },
      "outputs": [],
      "source": []
    },
    {
      "cell_type": "code",
      "execution_count": null,
      "metadata": {
        "id": "sp7jJxGbUh7f"
      },
      "outputs": [],
      "source": []
    },
    {
      "cell_type": "markdown",
      "metadata": {
        "id": "lWsxIoXcEOm8"
      },
      "source": [
        "#Data Understanding"
      ]
    },
    {
      "cell_type": "code",
      "execution_count": null,
      "metadata": {
        "colab": {
          "base_uri": "https://localhost:8080/",
          "height": 143
        },
        "id": "0GWtsGuoNMWH",
        "outputId": "5bbd194f-3530-46d3-b086-476de1cb8c98"
      },
      "outputs": [
        {
          "output_type": "execute_result",
          "data": {
            "text/plain": [
              "                  id_komentar        nama_akun                    tanggal  \\\n",
              "0  Ugzbll5eyrIy3-gdUUJ4AaABAg          Sqn Ldr  2023-08-06 12:54:49+00:00   \n",
              "1  UgzEDUiV3OTrV943p8p4AaABAg       lushen ace  2023-08-04 12:16:23+00:00   \n",
              "2  UgwqJqu6JMF4EH2CsVV4AaABAg  Fatih Al-Ayyubi  2023-08-04 10:17:57+00:00   \n",
              "\n",
              "                                       text_cleaning sentimen  \n",
              "0  saran sih bikin   harga ionic sama kayak brio ...  positif  \n",
              "1  problem subsidi kualitas diturunin harga dinai...  negatif  \n",
              "2  baik kualitas kembang dulu baik kualitas motor...  positif  "
            ],
            "text/html": [
              "\n",
              "  <div id=\"df-438cdcb7-cce9-4e8d-b5ee-8295cbad4d7b\" class=\"colab-df-container\">\n",
              "    <div>\n",
              "<style scoped>\n",
              "    .dataframe tbody tr th:only-of-type {\n",
              "        vertical-align: middle;\n",
              "    }\n",
              "\n",
              "    .dataframe tbody tr th {\n",
              "        vertical-align: top;\n",
              "    }\n",
              "\n",
              "    .dataframe thead th {\n",
              "        text-align: right;\n",
              "    }\n",
              "</style>\n",
              "<table border=\"1\" class=\"dataframe\">\n",
              "  <thead>\n",
              "    <tr style=\"text-align: right;\">\n",
              "      <th></th>\n",
              "      <th>id_komentar</th>\n",
              "      <th>nama_akun</th>\n",
              "      <th>tanggal</th>\n",
              "      <th>text_cleaning</th>\n",
              "      <th>sentimen</th>\n",
              "    </tr>\n",
              "  </thead>\n",
              "  <tbody>\n",
              "    <tr>\n",
              "      <th>0</th>\n",
              "      <td>Ugzbll5eyrIy3-gdUUJ4AaABAg</td>\n",
              "      <td>Sqn Ldr</td>\n",
              "      <td>2023-08-06 12:54:49+00:00</td>\n",
              "      <td>saran sih bikin   harga ionic sama kayak brio ...</td>\n",
              "      <td>positif</td>\n",
              "    </tr>\n",
              "    <tr>\n",
              "      <th>1</th>\n",
              "      <td>UgzEDUiV3OTrV943p8p4AaABAg</td>\n",
              "      <td>lushen ace</td>\n",
              "      <td>2023-08-04 12:16:23+00:00</td>\n",
              "      <td>problem subsidi kualitas diturunin harga dinai...</td>\n",
              "      <td>negatif</td>\n",
              "    </tr>\n",
              "    <tr>\n",
              "      <th>2</th>\n",
              "      <td>UgwqJqu6JMF4EH2CsVV4AaABAg</td>\n",
              "      <td>Fatih Al-Ayyubi</td>\n",
              "      <td>2023-08-04 10:17:57+00:00</td>\n",
              "      <td>baik kualitas kembang dulu baik kualitas motor...</td>\n",
              "      <td>positif</td>\n",
              "    </tr>\n",
              "  </tbody>\n",
              "</table>\n",
              "</div>\n",
              "    <div class=\"colab-df-buttons\">\n",
              "\n",
              "  <div class=\"colab-df-container\">\n",
              "    <button class=\"colab-df-convert\" onclick=\"convertToInteractive('df-438cdcb7-cce9-4e8d-b5ee-8295cbad4d7b')\"\n",
              "            title=\"Convert this dataframe to an interactive table.\"\n",
              "            style=\"display:none;\">\n",
              "\n",
              "  <svg xmlns=\"http://www.w3.org/2000/svg\" height=\"24px\" viewBox=\"0 -960 960 960\">\n",
              "    <path d=\"M120-120v-720h720v720H120Zm60-500h600v-160H180v160Zm220 220h160v-160H400v160Zm0 220h160v-160H400v160ZM180-400h160v-160H180v160Zm440 0h160v-160H620v160ZM180-180h160v-160H180v160Zm440 0h160v-160H620v160Z\"/>\n",
              "  </svg>\n",
              "    </button>\n",
              "\n",
              "  <style>\n",
              "    .colab-df-container {\n",
              "      display:flex;\n",
              "      gap: 12px;\n",
              "    }\n",
              "\n",
              "    .colab-df-convert {\n",
              "      background-color: #E8F0FE;\n",
              "      border: none;\n",
              "      border-radius: 50%;\n",
              "      cursor: pointer;\n",
              "      display: none;\n",
              "      fill: #1967D2;\n",
              "      height: 32px;\n",
              "      padding: 0 0 0 0;\n",
              "      width: 32px;\n",
              "    }\n",
              "\n",
              "    .colab-df-convert:hover {\n",
              "      background-color: #E2EBFA;\n",
              "      box-shadow: 0px 1px 2px rgba(60, 64, 67, 0.3), 0px 1px 3px 1px rgba(60, 64, 67, 0.15);\n",
              "      fill: #174EA6;\n",
              "    }\n",
              "\n",
              "    .colab-df-buttons div {\n",
              "      margin-bottom: 4px;\n",
              "    }\n",
              "\n",
              "    [theme=dark] .colab-df-convert {\n",
              "      background-color: #3B4455;\n",
              "      fill: #D2E3FC;\n",
              "    }\n",
              "\n",
              "    [theme=dark] .colab-df-convert:hover {\n",
              "      background-color: #434B5C;\n",
              "      box-shadow: 0px 1px 3px 1px rgba(0, 0, 0, 0.15);\n",
              "      filter: drop-shadow(0px 1px 2px rgba(0, 0, 0, 0.3));\n",
              "      fill: #FFFFFF;\n",
              "    }\n",
              "  </style>\n",
              "\n",
              "    <script>\n",
              "      const buttonEl =\n",
              "        document.querySelector('#df-438cdcb7-cce9-4e8d-b5ee-8295cbad4d7b button.colab-df-convert');\n",
              "      buttonEl.style.display =\n",
              "        google.colab.kernel.accessAllowed ? 'block' : 'none';\n",
              "\n",
              "      async function convertToInteractive(key) {\n",
              "        const element = document.querySelector('#df-438cdcb7-cce9-4e8d-b5ee-8295cbad4d7b');\n",
              "        const dataTable =\n",
              "          await google.colab.kernel.invokeFunction('convertToInteractive',\n",
              "                                                    [key], {});\n",
              "        if (!dataTable) return;\n",
              "\n",
              "        const docLinkHtml = 'Like what you see? Visit the ' +\n",
              "          '<a target=\"_blank\" href=https://colab.research.google.com/notebooks/data_table.ipynb>data table notebook</a>'\n",
              "          + ' to learn more about interactive tables.';\n",
              "        element.innerHTML = '';\n",
              "        dataTable['output_type'] = 'display_data';\n",
              "        await google.colab.output.renderOutput(dataTable, element);\n",
              "        const docLink = document.createElement('div');\n",
              "        docLink.innerHTML = docLinkHtml;\n",
              "        element.appendChild(docLink);\n",
              "      }\n",
              "    </script>\n",
              "  </div>\n",
              "\n",
              "\n",
              "<div id=\"df-4be979cd-3f8b-41d0-88cc-1475cea1ce5f\">\n",
              "  <button class=\"colab-df-quickchart\" onclick=\"quickchart('df-4be979cd-3f8b-41d0-88cc-1475cea1ce5f')\"\n",
              "            title=\"Suggest charts\"\n",
              "            style=\"display:none;\">\n",
              "\n",
              "<svg xmlns=\"http://www.w3.org/2000/svg\" height=\"24px\"viewBox=\"0 0 24 24\"\n",
              "     width=\"24px\">\n",
              "    <g>\n",
              "        <path d=\"M19 3H5c-1.1 0-2 .9-2 2v14c0 1.1.9 2 2 2h14c1.1 0 2-.9 2-2V5c0-1.1-.9-2-2-2zM9 17H7v-7h2v7zm4 0h-2V7h2v10zm4 0h-2v-4h2v4z\"/>\n",
              "    </g>\n",
              "</svg>\n",
              "  </button>\n",
              "\n",
              "<style>\n",
              "  .colab-df-quickchart {\n",
              "      --bg-color: #E8F0FE;\n",
              "      --fill-color: #1967D2;\n",
              "      --hover-bg-color: #E2EBFA;\n",
              "      --hover-fill-color: #174EA6;\n",
              "      --disabled-fill-color: #AAA;\n",
              "      --disabled-bg-color: #DDD;\n",
              "  }\n",
              "\n",
              "  [theme=dark] .colab-df-quickchart {\n",
              "      --bg-color: #3B4455;\n",
              "      --fill-color: #D2E3FC;\n",
              "      --hover-bg-color: #434B5C;\n",
              "      --hover-fill-color: #FFFFFF;\n",
              "      --disabled-bg-color: #3B4455;\n",
              "      --disabled-fill-color: #666;\n",
              "  }\n",
              "\n",
              "  .colab-df-quickchart {\n",
              "    background-color: var(--bg-color);\n",
              "    border: none;\n",
              "    border-radius: 50%;\n",
              "    cursor: pointer;\n",
              "    display: none;\n",
              "    fill: var(--fill-color);\n",
              "    height: 32px;\n",
              "    padding: 0;\n",
              "    width: 32px;\n",
              "  }\n",
              "\n",
              "  .colab-df-quickchart:hover {\n",
              "    background-color: var(--hover-bg-color);\n",
              "    box-shadow: 0 1px 2px rgba(60, 64, 67, 0.3), 0 1px 3px 1px rgba(60, 64, 67, 0.15);\n",
              "    fill: var(--button-hover-fill-color);\n",
              "  }\n",
              "\n",
              "  .colab-df-quickchart-complete:disabled,\n",
              "  .colab-df-quickchart-complete:disabled:hover {\n",
              "    background-color: var(--disabled-bg-color);\n",
              "    fill: var(--disabled-fill-color);\n",
              "    box-shadow: none;\n",
              "  }\n",
              "\n",
              "  .colab-df-spinner {\n",
              "    border: 2px solid var(--fill-color);\n",
              "    border-color: transparent;\n",
              "    border-bottom-color: var(--fill-color);\n",
              "    animation:\n",
              "      spin 1s steps(1) infinite;\n",
              "  }\n",
              "\n",
              "  @keyframes spin {\n",
              "    0% {\n",
              "      border-color: transparent;\n",
              "      border-bottom-color: var(--fill-color);\n",
              "      border-left-color: var(--fill-color);\n",
              "    }\n",
              "    20% {\n",
              "      border-color: transparent;\n",
              "      border-left-color: var(--fill-color);\n",
              "      border-top-color: var(--fill-color);\n",
              "    }\n",
              "    30% {\n",
              "      border-color: transparent;\n",
              "      border-left-color: var(--fill-color);\n",
              "      border-top-color: var(--fill-color);\n",
              "      border-right-color: var(--fill-color);\n",
              "    }\n",
              "    40% {\n",
              "      border-color: transparent;\n",
              "      border-right-color: var(--fill-color);\n",
              "      border-top-color: var(--fill-color);\n",
              "    }\n",
              "    60% {\n",
              "      border-color: transparent;\n",
              "      border-right-color: var(--fill-color);\n",
              "    }\n",
              "    80% {\n",
              "      border-color: transparent;\n",
              "      border-right-color: var(--fill-color);\n",
              "      border-bottom-color: var(--fill-color);\n",
              "    }\n",
              "    90% {\n",
              "      border-color: transparent;\n",
              "      border-bottom-color: var(--fill-color);\n",
              "    }\n",
              "  }\n",
              "</style>\n",
              "\n",
              "  <script>\n",
              "    async function quickchart(key) {\n",
              "      const quickchartButtonEl =\n",
              "        document.querySelector('#' + key + ' button');\n",
              "      quickchartButtonEl.disabled = true;  // To prevent multiple clicks.\n",
              "      quickchartButtonEl.classList.add('colab-df-spinner');\n",
              "      try {\n",
              "        const charts = await google.colab.kernel.invokeFunction(\n",
              "            'suggestCharts', [key], {});\n",
              "      } catch (error) {\n",
              "        console.error('Error during call to suggestCharts:', error);\n",
              "      }\n",
              "      quickchartButtonEl.classList.remove('colab-df-spinner');\n",
              "      quickchartButtonEl.classList.add('colab-df-quickchart-complete');\n",
              "    }\n",
              "    (() => {\n",
              "      let quickchartButtonEl =\n",
              "        document.querySelector('#df-4be979cd-3f8b-41d0-88cc-1475cea1ce5f button');\n",
              "      quickchartButtonEl.style.display =\n",
              "        google.colab.kernel.accessAllowed ? 'block' : 'none';\n",
              "    })();\n",
              "  </script>\n",
              "</div>\n",
              "\n",
              "    </div>\n",
              "  </div>\n"
            ],
            "application/vnd.google.colaboratory.intrinsic+json": {
              "type": "dataframe",
              "variable_name": "df",
              "summary": "{\n  \"name\": \"df\",\n  \"rows\": 1517,\n  \"fields\": [\n    {\n      \"column\": \"id_komentar\",\n      \"properties\": {\n        \"dtype\": \"string\",\n        \"num_unique_values\": 1517,\n        \"samples\": [\n          \"Ugx_pygvl9f3SjGopoN4AaABAg\",\n          \"UgziyBx2qgREdB1GdNN4AaABAg\",\n          \"UgzqjsnqcRWbIacru8t4AaABAg\"\n        ],\n        \"semantic_type\": \"\",\n        \"description\": \"\"\n      }\n    },\n    {\n      \"column\": \"nama_akun\",\n      \"properties\": {\n        \"dtype\": \"string\",\n        \"num_unique_values\": 1515,\n        \"samples\": [\n          \"Indra Fahri ( shadow TV MAN )\",\n          \"PANDI Kartini PANDI Kartini iii\",\n          \"Rara Beni\"\n        ],\n        \"semantic_type\": \"\",\n        \"description\": \"\"\n      }\n    },\n    {\n      \"column\": \"tanggal\",\n      \"properties\": {\n        \"dtype\": \"object\",\n        \"num_unique_values\": 1514,\n        \"samples\": [\n          \"2023-07-06 02:57:10+00:00\",\n          \"2023-06-29 02:01:15+00:00\",\n          \"2023-03-07 03:28:17+00:00\"\n        ],\n        \"semantic_type\": \"\",\n        \"description\": \"\"\n      }\n    },\n    {\n      \"column\": \"text_cleaning\",\n      \"properties\": {\n        \"dtype\": \"string\",\n        \"num_unique_values\": 1514,\n        \"samples\": [\n          \"iya   jalan sering banget ketemu kendara jalan\",\n          \"susah pas jalan jauh kalimantan kalbar tambh cager habis gimana mau cager\",\n          \"apa bau itu\"\n        ],\n        \"semantic_type\": \"\",\n        \"description\": \"\"\n      }\n    },\n    {\n      \"column\": \"sentimen\",\n      \"properties\": {\n        \"dtype\": \"category\",\n        \"num_unique_values\": 3,\n        \"samples\": [\n          \"positif\",\n          \"negatif\",\n          \"netral\"\n        ],\n        \"semantic_type\": \"\",\n        \"description\": \"\"\n      }\n    }\n  ]\n}"
            }
          },
          "metadata": {},
          "execution_count": 7
        }
      ],
      "source": [
        "df.head(3)"
      ]
    },
    {
      "cell_type": "code",
      "execution_count": null,
      "metadata": {
        "colab": {
          "base_uri": "https://localhost:8080/"
        },
        "id": "T3rdwpf4NMUM",
        "outputId": "14abb00c-2099-4442-9ab1-84205b1fb804"
      },
      "outputs": [
        {
          "output_type": "stream",
          "name": "stdout",
          "text": [
            "<class 'pandas.core.frame.DataFrame'>\n",
            "RangeIndex: 1517 entries, 0 to 1516\n",
            "Data columns (total 5 columns):\n",
            " #   Column         Non-Null Count  Dtype \n",
            "---  ------         --------------  ----- \n",
            " 0   id_komentar    1517 non-null   object\n",
            " 1   nama_akun      1516 non-null   object\n",
            " 2   tanggal        1517 non-null   object\n",
            " 3   text_cleaning  1515 non-null   object\n",
            " 4   sentimen       1517 non-null   object\n",
            "dtypes: object(5)\n",
            "memory usage: 59.4+ KB\n"
          ]
        }
      ],
      "source": [
        "df.info()"
      ]
    },
    {
      "cell_type": "markdown",
      "metadata": {
        "id": "zppRC0FJKhb7"
      },
      "source": [
        "**Isi dan Variabel Data:**\n",
        "\n",
        "* id_komentar: ID unik dari setiap komentar.\n",
        "* nama_akun: Nama akun pengguna yang memberikan komentar.\n",
        "* tanggal: Tanggal dan waktu ketika komentar diposting.\n",
        "* text_cleaning: Komentar yang telah dibersihkan dari karakter tidak relevan.\n",
        "* sentimen: Kategori sentimen dari komentar (positif, negatif, dan netral)."
      ]
    },
    {
      "cell_type": "code",
      "execution_count": null,
      "metadata": {
        "colab": {
          "base_uri": "https://localhost:8080/"
        },
        "id": "jB3MjMpYON9J",
        "outputId": "611ff5c6-7dab-483b-98ee-78d71d902ba9"
      },
      "outputs": [
        {
          "output_type": "stream",
          "name": "stdout",
          "text": [
            "isnull:\n",
            " id_komentar      0\n",
            "nama_akun        1\n",
            "tanggal          0\n",
            "text_cleaning    2\n",
            "sentimen         0\n",
            "dtype: int64\n",
            "duplicates: 0\n"
          ]
        }
      ],
      "source": [
        "print('isnull:\\n', df.isna().sum())\n",
        "print('duplicates:', df.duplicated().sum())"
      ]
    },
    {
      "cell_type": "code",
      "execution_count": null,
      "metadata": {
        "colab": {
          "base_uri": "https://localhost:8080/",
          "height": 112
        },
        "id": "h4NbUOUHOoox",
        "outputId": "4a2e4695-5237-46ab-9d27-336876cfae23"
      },
      "outputs": [
        {
          "output_type": "execute_result",
          "data": {
            "text/plain": [
              "                     id_komentar          nama_akun  \\\n",
              "1422  UgyqmNp8--s6MVo7Fft4AaABAg     Jansen Gunawan   \n",
              "1423  UgxstQlQ7hpqGWJm3xt4AaABAg  Hidayati Christen   \n",
              "\n",
              "                        tanggal text_cleaning sentimen  \n",
              "1422  2023-03-16 04:17:35+00:00           NaN   netral  \n",
              "1423  2023-03-16 03:42:02+00:00           NaN   netral  "
            ],
            "text/html": [
              "\n",
              "  <div id=\"df-408a78ba-6454-4cfd-9bce-de57f23837c4\" class=\"colab-df-container\">\n",
              "    <div>\n",
              "<style scoped>\n",
              "    .dataframe tbody tr th:only-of-type {\n",
              "        vertical-align: middle;\n",
              "    }\n",
              "\n",
              "    .dataframe tbody tr th {\n",
              "        vertical-align: top;\n",
              "    }\n",
              "\n",
              "    .dataframe thead th {\n",
              "        text-align: right;\n",
              "    }\n",
              "</style>\n",
              "<table border=\"1\" class=\"dataframe\">\n",
              "  <thead>\n",
              "    <tr style=\"text-align: right;\">\n",
              "      <th></th>\n",
              "      <th>id_komentar</th>\n",
              "      <th>nama_akun</th>\n",
              "      <th>tanggal</th>\n",
              "      <th>text_cleaning</th>\n",
              "      <th>sentimen</th>\n",
              "    </tr>\n",
              "  </thead>\n",
              "  <tbody>\n",
              "    <tr>\n",
              "      <th>1422</th>\n",
              "      <td>UgyqmNp8--s6MVo7Fft4AaABAg</td>\n",
              "      <td>Jansen Gunawan</td>\n",
              "      <td>2023-03-16 04:17:35+00:00</td>\n",
              "      <td>NaN</td>\n",
              "      <td>netral</td>\n",
              "    </tr>\n",
              "    <tr>\n",
              "      <th>1423</th>\n",
              "      <td>UgxstQlQ7hpqGWJm3xt4AaABAg</td>\n",
              "      <td>Hidayati Christen</td>\n",
              "      <td>2023-03-16 03:42:02+00:00</td>\n",
              "      <td>NaN</td>\n",
              "      <td>netral</td>\n",
              "    </tr>\n",
              "  </tbody>\n",
              "</table>\n",
              "</div>\n",
              "    <div class=\"colab-df-buttons\">\n",
              "\n",
              "  <div class=\"colab-df-container\">\n",
              "    <button class=\"colab-df-convert\" onclick=\"convertToInteractive('df-408a78ba-6454-4cfd-9bce-de57f23837c4')\"\n",
              "            title=\"Convert this dataframe to an interactive table.\"\n",
              "            style=\"display:none;\">\n",
              "\n",
              "  <svg xmlns=\"http://www.w3.org/2000/svg\" height=\"24px\" viewBox=\"0 -960 960 960\">\n",
              "    <path d=\"M120-120v-720h720v720H120Zm60-500h600v-160H180v160Zm220 220h160v-160H400v160Zm0 220h160v-160H400v160ZM180-400h160v-160H180v160Zm440 0h160v-160H620v160ZM180-180h160v-160H180v160Zm440 0h160v-160H620v160Z\"/>\n",
              "  </svg>\n",
              "    </button>\n",
              "\n",
              "  <style>\n",
              "    .colab-df-container {\n",
              "      display:flex;\n",
              "      gap: 12px;\n",
              "    }\n",
              "\n",
              "    .colab-df-convert {\n",
              "      background-color: #E8F0FE;\n",
              "      border: none;\n",
              "      border-radius: 50%;\n",
              "      cursor: pointer;\n",
              "      display: none;\n",
              "      fill: #1967D2;\n",
              "      height: 32px;\n",
              "      padding: 0 0 0 0;\n",
              "      width: 32px;\n",
              "    }\n",
              "\n",
              "    .colab-df-convert:hover {\n",
              "      background-color: #E2EBFA;\n",
              "      box-shadow: 0px 1px 2px rgba(60, 64, 67, 0.3), 0px 1px 3px 1px rgba(60, 64, 67, 0.15);\n",
              "      fill: #174EA6;\n",
              "    }\n",
              "\n",
              "    .colab-df-buttons div {\n",
              "      margin-bottom: 4px;\n",
              "    }\n",
              "\n",
              "    [theme=dark] .colab-df-convert {\n",
              "      background-color: #3B4455;\n",
              "      fill: #D2E3FC;\n",
              "    }\n",
              "\n",
              "    [theme=dark] .colab-df-convert:hover {\n",
              "      background-color: #434B5C;\n",
              "      box-shadow: 0px 1px 3px 1px rgba(0, 0, 0, 0.15);\n",
              "      filter: drop-shadow(0px 1px 2px rgba(0, 0, 0, 0.3));\n",
              "      fill: #FFFFFF;\n",
              "    }\n",
              "  </style>\n",
              "\n",
              "    <script>\n",
              "      const buttonEl =\n",
              "        document.querySelector('#df-408a78ba-6454-4cfd-9bce-de57f23837c4 button.colab-df-convert');\n",
              "      buttonEl.style.display =\n",
              "        google.colab.kernel.accessAllowed ? 'block' : 'none';\n",
              "\n",
              "      async function convertToInteractive(key) {\n",
              "        const element = document.querySelector('#df-408a78ba-6454-4cfd-9bce-de57f23837c4');\n",
              "        const dataTable =\n",
              "          await google.colab.kernel.invokeFunction('convertToInteractive',\n",
              "                                                    [key], {});\n",
              "        if (!dataTable) return;\n",
              "\n",
              "        const docLinkHtml = 'Like what you see? Visit the ' +\n",
              "          '<a target=\"_blank\" href=https://colab.research.google.com/notebooks/data_table.ipynb>data table notebook</a>'\n",
              "          + ' to learn more about interactive tables.';\n",
              "        element.innerHTML = '';\n",
              "        dataTable['output_type'] = 'display_data';\n",
              "        await google.colab.output.renderOutput(dataTable, element);\n",
              "        const docLink = document.createElement('div');\n",
              "        docLink.innerHTML = docLinkHtml;\n",
              "        element.appendChild(docLink);\n",
              "      }\n",
              "    </script>\n",
              "  </div>\n",
              "\n",
              "\n",
              "<div id=\"df-3f550b42-d5a2-4464-8278-93f7801200c5\">\n",
              "  <button class=\"colab-df-quickchart\" onclick=\"quickchart('df-3f550b42-d5a2-4464-8278-93f7801200c5')\"\n",
              "            title=\"Suggest charts\"\n",
              "            style=\"display:none;\">\n",
              "\n",
              "<svg xmlns=\"http://www.w3.org/2000/svg\" height=\"24px\"viewBox=\"0 0 24 24\"\n",
              "     width=\"24px\">\n",
              "    <g>\n",
              "        <path d=\"M19 3H5c-1.1 0-2 .9-2 2v14c0 1.1.9 2 2 2h14c1.1 0 2-.9 2-2V5c0-1.1-.9-2-2-2zM9 17H7v-7h2v7zm4 0h-2V7h2v10zm4 0h-2v-4h2v4z\"/>\n",
              "    </g>\n",
              "</svg>\n",
              "  </button>\n",
              "\n",
              "<style>\n",
              "  .colab-df-quickchart {\n",
              "      --bg-color: #E8F0FE;\n",
              "      --fill-color: #1967D2;\n",
              "      --hover-bg-color: #E2EBFA;\n",
              "      --hover-fill-color: #174EA6;\n",
              "      --disabled-fill-color: #AAA;\n",
              "      --disabled-bg-color: #DDD;\n",
              "  }\n",
              "\n",
              "  [theme=dark] .colab-df-quickchart {\n",
              "      --bg-color: #3B4455;\n",
              "      --fill-color: #D2E3FC;\n",
              "      --hover-bg-color: #434B5C;\n",
              "      --hover-fill-color: #FFFFFF;\n",
              "      --disabled-bg-color: #3B4455;\n",
              "      --disabled-fill-color: #666;\n",
              "  }\n",
              "\n",
              "  .colab-df-quickchart {\n",
              "    background-color: var(--bg-color);\n",
              "    border: none;\n",
              "    border-radius: 50%;\n",
              "    cursor: pointer;\n",
              "    display: none;\n",
              "    fill: var(--fill-color);\n",
              "    height: 32px;\n",
              "    padding: 0;\n",
              "    width: 32px;\n",
              "  }\n",
              "\n",
              "  .colab-df-quickchart:hover {\n",
              "    background-color: var(--hover-bg-color);\n",
              "    box-shadow: 0 1px 2px rgba(60, 64, 67, 0.3), 0 1px 3px 1px rgba(60, 64, 67, 0.15);\n",
              "    fill: var(--button-hover-fill-color);\n",
              "  }\n",
              "\n",
              "  .colab-df-quickchart-complete:disabled,\n",
              "  .colab-df-quickchart-complete:disabled:hover {\n",
              "    background-color: var(--disabled-bg-color);\n",
              "    fill: var(--disabled-fill-color);\n",
              "    box-shadow: none;\n",
              "  }\n",
              "\n",
              "  .colab-df-spinner {\n",
              "    border: 2px solid var(--fill-color);\n",
              "    border-color: transparent;\n",
              "    border-bottom-color: var(--fill-color);\n",
              "    animation:\n",
              "      spin 1s steps(1) infinite;\n",
              "  }\n",
              "\n",
              "  @keyframes spin {\n",
              "    0% {\n",
              "      border-color: transparent;\n",
              "      border-bottom-color: var(--fill-color);\n",
              "      border-left-color: var(--fill-color);\n",
              "    }\n",
              "    20% {\n",
              "      border-color: transparent;\n",
              "      border-left-color: var(--fill-color);\n",
              "      border-top-color: var(--fill-color);\n",
              "    }\n",
              "    30% {\n",
              "      border-color: transparent;\n",
              "      border-left-color: var(--fill-color);\n",
              "      border-top-color: var(--fill-color);\n",
              "      border-right-color: var(--fill-color);\n",
              "    }\n",
              "    40% {\n",
              "      border-color: transparent;\n",
              "      border-right-color: var(--fill-color);\n",
              "      border-top-color: var(--fill-color);\n",
              "    }\n",
              "    60% {\n",
              "      border-color: transparent;\n",
              "      border-right-color: var(--fill-color);\n",
              "    }\n",
              "    80% {\n",
              "      border-color: transparent;\n",
              "      border-right-color: var(--fill-color);\n",
              "      border-bottom-color: var(--fill-color);\n",
              "    }\n",
              "    90% {\n",
              "      border-color: transparent;\n",
              "      border-bottom-color: var(--fill-color);\n",
              "    }\n",
              "  }\n",
              "</style>\n",
              "\n",
              "  <script>\n",
              "    async function quickchart(key) {\n",
              "      const quickchartButtonEl =\n",
              "        document.querySelector('#' + key + ' button');\n",
              "      quickchartButtonEl.disabled = true;  // To prevent multiple clicks.\n",
              "      quickchartButtonEl.classList.add('colab-df-spinner');\n",
              "      try {\n",
              "        const charts = await google.colab.kernel.invokeFunction(\n",
              "            'suggestCharts', [key], {});\n",
              "      } catch (error) {\n",
              "        console.error('Error during call to suggestCharts:', error);\n",
              "      }\n",
              "      quickchartButtonEl.classList.remove('colab-df-spinner');\n",
              "      quickchartButtonEl.classList.add('colab-df-quickchart-complete');\n",
              "    }\n",
              "    (() => {\n",
              "      let quickchartButtonEl =\n",
              "        document.querySelector('#df-3f550b42-d5a2-4464-8278-93f7801200c5 button');\n",
              "      quickchartButtonEl.style.display =\n",
              "        google.colab.kernel.accessAllowed ? 'block' : 'none';\n",
              "    })();\n",
              "  </script>\n",
              "</div>\n",
              "\n",
              "    </div>\n",
              "  </div>\n"
            ],
            "application/vnd.google.colaboratory.intrinsic+json": {
              "type": "dataframe",
              "repr_error": "0"
            }
          },
          "metadata": {},
          "execution_count": 10
        }
      ],
      "source": [
        "df[df['text_cleaning'].isna()]"
      ]
    },
    {
      "cell_type": "code",
      "execution_count": null,
      "metadata": {
        "id": "dNujh-FBOom_"
      },
      "outputs": [],
      "source": []
    },
    {
      "cell_type": "markdown",
      "metadata": {
        "id": "jimLLuwWOBWL"
      },
      "source": [
        "**Format dan Kelengkapan Data:**\n",
        "\n",
        "* Data memiliki 5 kolom dan 1517 baris/entri\n",
        "* Terdapat data kosong (null) pada kolom **nama_akun** sebanyak 1 dan **text_cleaning** sebanyak 2\n",
        "* Semua kolom bertipe data object. Kolom tanggal perlu diformat ulang ke tipe datetime untuk dapat analisis lebih lanjut.\n",
        "\n"
      ]
    },
    {
      "cell_type": "code",
      "execution_count": null,
      "metadata": {
        "id": "t5HKtHq8Uqj8"
      },
      "outputs": [],
      "source": []
    },
    {
      "cell_type": "markdown",
      "metadata": {
        "id": "P35ssHrMQzz9"
      },
      "source": [
        "**Kualitas Data:**\n",
        "\n",
        "* Data text banyak yang **tidak baku dalam bahasa indonesia** seperti banyak singkatan dan kata-kata alay, sehingga data harus dipreprocess terlebih dahulu supaya menjadi baku agar menghasilkan hasil yang akurat.\n",
        "\n",
        "* Ada 3 **nilai kosong (null) dan duplikasi data**, sehingga harus dilakukan penanganan terlebih dahulu.\n",
        "\n",
        "* Format **tanggal harus dikonversi** dari object ke datetime agar analisis waktu dapat dilakukan dengan akurat."
      ]
    },
    {
      "cell_type": "code",
      "execution_count": null,
      "metadata": {
        "id": "BPhNKe8oOAvF"
      },
      "outputs": [],
      "source": []
    },
    {
      "cell_type": "code",
      "execution_count": null,
      "metadata": {
        "id": "AmkJ--oKOAtL"
      },
      "outputs": [],
      "source": []
    },
    {
      "cell_type": "markdown",
      "metadata": {
        "id": "C95G7GWkKhZt"
      },
      "source": []
    },
    {
      "cell_type": "markdown",
      "metadata": {
        "id": "BcCD80S2EOf6"
      },
      "source": [
        "#Data Preparation"
      ]
    },
    {
      "cell_type": "code",
      "execution_count": null,
      "metadata": {
        "colab": {
          "base_uri": "https://localhost:8080/",
          "height": 206
        },
        "id": "c_6f3eZiEhl_",
        "outputId": "0b65bb44-5c92-41d7-8cf8-61d9287e7ea0"
      },
      "outputs": [
        {
          "output_type": "execute_result",
          "data": {
            "text/plain": [
              "                  id_komentar        nama_akun                    tanggal  \\\n",
              "0  Ugzbll5eyrIy3-gdUUJ4AaABAg          Sqn Ldr  2023-08-06 12:54:49+00:00   \n",
              "1  UgzEDUiV3OTrV943p8p4AaABAg       lushen ace  2023-08-04 12:16:23+00:00   \n",
              "2  UgwqJqu6JMF4EH2CsVV4AaABAg  Fatih Al-Ayyubi  2023-08-04 10:17:57+00:00   \n",
              "3  UgyYicCMR1rKwuOj2Y14AaABAg        yp office  2023-08-04 08:29:54+00:00   \n",
              "4  UgxKAcLuAwZOQK6es-x4AaABAg    Lembur Kuring  2023-08-04 07:55:37+00:00   \n",
              "\n",
              "                                       text_cleaning sentimen  \n",
              "0  saran sih bikin   harga ionic sama kayak brio ...  positif  \n",
              "1  problem subsidi kualitas diturunin harga dinai...  negatif  \n",
              "2  baik kualitas kembang dulu baik kualitas motor...  positif  \n",
              "3       model jelek kwalitas buruk harga mahal croot  negatif  \n",
              "4  syarat   ngaco woy anak muda   blom punya ruma...  negatif  "
            ],
            "text/html": [
              "\n",
              "  <div id=\"df-4c8dcd8d-000d-4aed-9bbb-b0492082aa08\" class=\"colab-df-container\">\n",
              "    <div>\n",
              "<style scoped>\n",
              "    .dataframe tbody tr th:only-of-type {\n",
              "        vertical-align: middle;\n",
              "    }\n",
              "\n",
              "    .dataframe tbody tr th {\n",
              "        vertical-align: top;\n",
              "    }\n",
              "\n",
              "    .dataframe thead th {\n",
              "        text-align: right;\n",
              "    }\n",
              "</style>\n",
              "<table border=\"1\" class=\"dataframe\">\n",
              "  <thead>\n",
              "    <tr style=\"text-align: right;\">\n",
              "      <th></th>\n",
              "      <th>id_komentar</th>\n",
              "      <th>nama_akun</th>\n",
              "      <th>tanggal</th>\n",
              "      <th>text_cleaning</th>\n",
              "      <th>sentimen</th>\n",
              "    </tr>\n",
              "  </thead>\n",
              "  <tbody>\n",
              "    <tr>\n",
              "      <th>0</th>\n",
              "      <td>Ugzbll5eyrIy3-gdUUJ4AaABAg</td>\n",
              "      <td>Sqn Ldr</td>\n",
              "      <td>2023-08-06 12:54:49+00:00</td>\n",
              "      <td>saran sih bikin   harga ionic sama kayak brio ...</td>\n",
              "      <td>positif</td>\n",
              "    </tr>\n",
              "    <tr>\n",
              "      <th>1</th>\n",
              "      <td>UgzEDUiV3OTrV943p8p4AaABAg</td>\n",
              "      <td>lushen ace</td>\n",
              "      <td>2023-08-04 12:16:23+00:00</td>\n",
              "      <td>problem subsidi kualitas diturunin harga dinai...</td>\n",
              "      <td>negatif</td>\n",
              "    </tr>\n",
              "    <tr>\n",
              "      <th>2</th>\n",
              "      <td>UgwqJqu6JMF4EH2CsVV4AaABAg</td>\n",
              "      <td>Fatih Al-Ayyubi</td>\n",
              "      <td>2023-08-04 10:17:57+00:00</td>\n",
              "      <td>baik kualitas kembang dulu baik kualitas motor...</td>\n",
              "      <td>positif</td>\n",
              "    </tr>\n",
              "    <tr>\n",
              "      <th>3</th>\n",
              "      <td>UgyYicCMR1rKwuOj2Y14AaABAg</td>\n",
              "      <td>yp office</td>\n",
              "      <td>2023-08-04 08:29:54+00:00</td>\n",
              "      <td>model jelek kwalitas buruk harga mahal croot</td>\n",
              "      <td>negatif</td>\n",
              "    </tr>\n",
              "    <tr>\n",
              "      <th>4</th>\n",
              "      <td>UgxKAcLuAwZOQK6es-x4AaABAg</td>\n",
              "      <td>Lembur Kuring</td>\n",
              "      <td>2023-08-04 07:55:37+00:00</td>\n",
              "      <td>syarat   ngaco woy anak muda   blom punya ruma...</td>\n",
              "      <td>negatif</td>\n",
              "    </tr>\n",
              "  </tbody>\n",
              "</table>\n",
              "</div>\n",
              "    <div class=\"colab-df-buttons\">\n",
              "\n",
              "  <div class=\"colab-df-container\">\n",
              "    <button class=\"colab-df-convert\" onclick=\"convertToInteractive('df-4c8dcd8d-000d-4aed-9bbb-b0492082aa08')\"\n",
              "            title=\"Convert this dataframe to an interactive table.\"\n",
              "            style=\"display:none;\">\n",
              "\n",
              "  <svg xmlns=\"http://www.w3.org/2000/svg\" height=\"24px\" viewBox=\"0 -960 960 960\">\n",
              "    <path d=\"M120-120v-720h720v720H120Zm60-500h600v-160H180v160Zm220 220h160v-160H400v160Zm0 220h160v-160H400v160ZM180-400h160v-160H180v160Zm440 0h160v-160H620v160ZM180-180h160v-160H180v160Zm440 0h160v-160H620v160Z\"/>\n",
              "  </svg>\n",
              "    </button>\n",
              "\n",
              "  <style>\n",
              "    .colab-df-container {\n",
              "      display:flex;\n",
              "      gap: 12px;\n",
              "    }\n",
              "\n",
              "    .colab-df-convert {\n",
              "      background-color: #E8F0FE;\n",
              "      border: none;\n",
              "      border-radius: 50%;\n",
              "      cursor: pointer;\n",
              "      display: none;\n",
              "      fill: #1967D2;\n",
              "      height: 32px;\n",
              "      padding: 0 0 0 0;\n",
              "      width: 32px;\n",
              "    }\n",
              "\n",
              "    .colab-df-convert:hover {\n",
              "      background-color: #E2EBFA;\n",
              "      box-shadow: 0px 1px 2px rgba(60, 64, 67, 0.3), 0px 1px 3px 1px rgba(60, 64, 67, 0.15);\n",
              "      fill: #174EA6;\n",
              "    }\n",
              "\n",
              "    .colab-df-buttons div {\n",
              "      margin-bottom: 4px;\n",
              "    }\n",
              "\n",
              "    [theme=dark] .colab-df-convert {\n",
              "      background-color: #3B4455;\n",
              "      fill: #D2E3FC;\n",
              "    }\n",
              "\n",
              "    [theme=dark] .colab-df-convert:hover {\n",
              "      background-color: #434B5C;\n",
              "      box-shadow: 0px 1px 3px 1px rgba(0, 0, 0, 0.15);\n",
              "      filter: drop-shadow(0px 1px 2px rgba(0, 0, 0, 0.3));\n",
              "      fill: #FFFFFF;\n",
              "    }\n",
              "  </style>\n",
              "\n",
              "    <script>\n",
              "      const buttonEl =\n",
              "        document.querySelector('#df-4c8dcd8d-000d-4aed-9bbb-b0492082aa08 button.colab-df-convert');\n",
              "      buttonEl.style.display =\n",
              "        google.colab.kernel.accessAllowed ? 'block' : 'none';\n",
              "\n",
              "      async function convertToInteractive(key) {\n",
              "        const element = document.querySelector('#df-4c8dcd8d-000d-4aed-9bbb-b0492082aa08');\n",
              "        const dataTable =\n",
              "          await google.colab.kernel.invokeFunction('convertToInteractive',\n",
              "                                                    [key], {});\n",
              "        if (!dataTable) return;\n",
              "\n",
              "        const docLinkHtml = 'Like what you see? Visit the ' +\n",
              "          '<a target=\"_blank\" href=https://colab.research.google.com/notebooks/data_table.ipynb>data table notebook</a>'\n",
              "          + ' to learn more about interactive tables.';\n",
              "        element.innerHTML = '';\n",
              "        dataTable['output_type'] = 'display_data';\n",
              "        await google.colab.output.renderOutput(dataTable, element);\n",
              "        const docLink = document.createElement('div');\n",
              "        docLink.innerHTML = docLinkHtml;\n",
              "        element.appendChild(docLink);\n",
              "      }\n",
              "    </script>\n",
              "  </div>\n",
              "\n",
              "\n",
              "<div id=\"df-10a44ec5-0f93-45c0-bc5a-e33dab48db8e\">\n",
              "  <button class=\"colab-df-quickchart\" onclick=\"quickchart('df-10a44ec5-0f93-45c0-bc5a-e33dab48db8e')\"\n",
              "            title=\"Suggest charts\"\n",
              "            style=\"display:none;\">\n",
              "\n",
              "<svg xmlns=\"http://www.w3.org/2000/svg\" height=\"24px\"viewBox=\"0 0 24 24\"\n",
              "     width=\"24px\">\n",
              "    <g>\n",
              "        <path d=\"M19 3H5c-1.1 0-2 .9-2 2v14c0 1.1.9 2 2 2h14c1.1 0 2-.9 2-2V5c0-1.1-.9-2-2-2zM9 17H7v-7h2v7zm4 0h-2V7h2v10zm4 0h-2v-4h2v4z\"/>\n",
              "    </g>\n",
              "</svg>\n",
              "  </button>\n",
              "\n",
              "<style>\n",
              "  .colab-df-quickchart {\n",
              "      --bg-color: #E8F0FE;\n",
              "      --fill-color: #1967D2;\n",
              "      --hover-bg-color: #E2EBFA;\n",
              "      --hover-fill-color: #174EA6;\n",
              "      --disabled-fill-color: #AAA;\n",
              "      --disabled-bg-color: #DDD;\n",
              "  }\n",
              "\n",
              "  [theme=dark] .colab-df-quickchart {\n",
              "      --bg-color: #3B4455;\n",
              "      --fill-color: #D2E3FC;\n",
              "      --hover-bg-color: #434B5C;\n",
              "      --hover-fill-color: #FFFFFF;\n",
              "      --disabled-bg-color: #3B4455;\n",
              "      --disabled-fill-color: #666;\n",
              "  }\n",
              "\n",
              "  .colab-df-quickchart {\n",
              "    background-color: var(--bg-color);\n",
              "    border: none;\n",
              "    border-radius: 50%;\n",
              "    cursor: pointer;\n",
              "    display: none;\n",
              "    fill: var(--fill-color);\n",
              "    height: 32px;\n",
              "    padding: 0;\n",
              "    width: 32px;\n",
              "  }\n",
              "\n",
              "  .colab-df-quickchart:hover {\n",
              "    background-color: var(--hover-bg-color);\n",
              "    box-shadow: 0 1px 2px rgba(60, 64, 67, 0.3), 0 1px 3px 1px rgba(60, 64, 67, 0.15);\n",
              "    fill: var(--button-hover-fill-color);\n",
              "  }\n",
              "\n",
              "  .colab-df-quickchart-complete:disabled,\n",
              "  .colab-df-quickchart-complete:disabled:hover {\n",
              "    background-color: var(--disabled-bg-color);\n",
              "    fill: var(--disabled-fill-color);\n",
              "    box-shadow: none;\n",
              "  }\n",
              "\n",
              "  .colab-df-spinner {\n",
              "    border: 2px solid var(--fill-color);\n",
              "    border-color: transparent;\n",
              "    border-bottom-color: var(--fill-color);\n",
              "    animation:\n",
              "      spin 1s steps(1) infinite;\n",
              "  }\n",
              "\n",
              "  @keyframes spin {\n",
              "    0% {\n",
              "      border-color: transparent;\n",
              "      border-bottom-color: var(--fill-color);\n",
              "      border-left-color: var(--fill-color);\n",
              "    }\n",
              "    20% {\n",
              "      border-color: transparent;\n",
              "      border-left-color: var(--fill-color);\n",
              "      border-top-color: var(--fill-color);\n",
              "    }\n",
              "    30% {\n",
              "      border-color: transparent;\n",
              "      border-left-color: var(--fill-color);\n",
              "      border-top-color: var(--fill-color);\n",
              "      border-right-color: var(--fill-color);\n",
              "    }\n",
              "    40% {\n",
              "      border-color: transparent;\n",
              "      border-right-color: var(--fill-color);\n",
              "      border-top-color: var(--fill-color);\n",
              "    }\n",
              "    60% {\n",
              "      border-color: transparent;\n",
              "      border-right-color: var(--fill-color);\n",
              "    }\n",
              "    80% {\n",
              "      border-color: transparent;\n",
              "      border-right-color: var(--fill-color);\n",
              "      border-bottom-color: var(--fill-color);\n",
              "    }\n",
              "    90% {\n",
              "      border-color: transparent;\n",
              "      border-bottom-color: var(--fill-color);\n",
              "    }\n",
              "  }\n",
              "</style>\n",
              "\n",
              "  <script>\n",
              "    async function quickchart(key) {\n",
              "      const quickchartButtonEl =\n",
              "        document.querySelector('#' + key + ' button');\n",
              "      quickchartButtonEl.disabled = true;  // To prevent multiple clicks.\n",
              "      quickchartButtonEl.classList.add('colab-df-spinner');\n",
              "      try {\n",
              "        const charts = await google.colab.kernel.invokeFunction(\n",
              "            'suggestCharts', [key], {});\n",
              "      } catch (error) {\n",
              "        console.error('Error during call to suggestCharts:', error);\n",
              "      }\n",
              "      quickchartButtonEl.classList.remove('colab-df-spinner');\n",
              "      quickchartButtonEl.classList.add('colab-df-quickchart-complete');\n",
              "    }\n",
              "    (() => {\n",
              "      let quickchartButtonEl =\n",
              "        document.querySelector('#df-10a44ec5-0f93-45c0-bc5a-e33dab48db8e button');\n",
              "      quickchartButtonEl.style.display =\n",
              "        google.colab.kernel.accessAllowed ? 'block' : 'none';\n",
              "    })();\n",
              "  </script>\n",
              "</div>\n",
              "\n",
              "    </div>\n",
              "  </div>\n"
            ],
            "application/vnd.google.colaboratory.intrinsic+json": {
              "type": "dataframe",
              "variable_name": "df",
              "summary": "{\n  \"name\": \"df\",\n  \"rows\": 1517,\n  \"fields\": [\n    {\n      \"column\": \"id_komentar\",\n      \"properties\": {\n        \"dtype\": \"string\",\n        \"num_unique_values\": 1517,\n        \"samples\": [\n          \"Ugx_pygvl9f3SjGopoN4AaABAg\",\n          \"UgziyBx2qgREdB1GdNN4AaABAg\",\n          \"UgzqjsnqcRWbIacru8t4AaABAg\"\n        ],\n        \"semantic_type\": \"\",\n        \"description\": \"\"\n      }\n    },\n    {\n      \"column\": \"nama_akun\",\n      \"properties\": {\n        \"dtype\": \"string\",\n        \"num_unique_values\": 1515,\n        \"samples\": [\n          \"Indra Fahri ( shadow TV MAN )\",\n          \"PANDI Kartini PANDI Kartini iii\",\n          \"Rara Beni\"\n        ],\n        \"semantic_type\": \"\",\n        \"description\": \"\"\n      }\n    },\n    {\n      \"column\": \"tanggal\",\n      \"properties\": {\n        \"dtype\": \"object\",\n        \"num_unique_values\": 1514,\n        \"samples\": [\n          \"2023-07-06 02:57:10+00:00\",\n          \"2023-06-29 02:01:15+00:00\",\n          \"2023-03-07 03:28:17+00:00\"\n        ],\n        \"semantic_type\": \"\",\n        \"description\": \"\"\n      }\n    },\n    {\n      \"column\": \"text_cleaning\",\n      \"properties\": {\n        \"dtype\": \"string\",\n        \"num_unique_values\": 1514,\n        \"samples\": [\n          \"iya   jalan sering banget ketemu kendara jalan\",\n          \"susah pas jalan jauh kalimantan kalbar tambh cager habis gimana mau cager\",\n          \"apa bau itu\"\n        ],\n        \"semantic_type\": \"\",\n        \"description\": \"\"\n      }\n    },\n    {\n      \"column\": \"sentimen\",\n      \"properties\": {\n        \"dtype\": \"category\",\n        \"num_unique_values\": 3,\n        \"samples\": [\n          \"positif\",\n          \"negatif\",\n          \"netral\"\n        ],\n        \"semantic_type\": \"\",\n        \"description\": \"\"\n      }\n    }\n  ]\n}"
            }
          },
          "metadata": {},
          "execution_count": 11
        }
      ],
      "source": [
        "df.head()"
      ]
    },
    {
      "cell_type": "code",
      "execution_count": null,
      "metadata": {
        "id": "pZsk0FOAQROS"
      },
      "outputs": [],
      "source": [
        "df['tanggal'] = pd.to_datetime(df['tanggal'])"
      ]
    },
    {
      "cell_type": "code",
      "execution_count": null,
      "metadata": {
        "colab": {
          "base_uri": "https://localhost:8080/"
        },
        "id": "qPf6VkrKQPUn",
        "outputId": "62d2a5ee-c596-452f-beef-ef3880761276"
      },
      "outputs": [
        {
          "output_type": "stream",
          "name": "stdout",
          "text": [
            "<class 'pandas.core.frame.DataFrame'>\n",
            "RangeIndex: 1517 entries, 0 to 1516\n",
            "Data columns (total 5 columns):\n",
            " #   Column         Non-Null Count  Dtype              \n",
            "---  ------         --------------  -----              \n",
            " 0   id_komentar    1517 non-null   object             \n",
            " 1   nama_akun      1516 non-null   object             \n",
            " 2   tanggal        1517 non-null   datetime64[ns, UTC]\n",
            " 3   text_cleaning  1515 non-null   object             \n",
            " 4   sentimen       1517 non-null   object             \n",
            "dtypes: datetime64[ns, UTC](1), object(4)\n",
            "memory usage: 59.4+ KB\n"
          ]
        }
      ],
      "source": [
        "df.info()"
      ]
    },
    {
      "cell_type": "code",
      "execution_count": null,
      "metadata": {
        "id": "5pvULwd-FOiW"
      },
      "outputs": [],
      "source": []
    },
    {
      "cell_type": "code",
      "execution_count": null,
      "metadata": {
        "colab": {
          "base_uri": "https://localhost:8080/"
        },
        "id": "zTIwruInB_c4",
        "outputId": "353f3d32-e5c2-468c-e70c-29664f03a4ed"
      },
      "outputs": [
        {
          "output_type": "stream",
          "name": "stderr",
          "text": [
            "[nltk_data] Downloading package stopwords to /root/nltk_data...\n",
            "[nltk_data]   Unzipping corpora/stopwords.zip.\n",
            "[nltk_data] Downloading package wordnet to /root/nltk_data...\n"
          ]
        },
        {
          "output_type": "execute_result",
          "data": {
            "text/plain": [
              "True"
            ]
          },
          "metadata": {},
          "execution_count": 14
        }
      ],
      "source": [
        "import string\n",
        "import nltk\n",
        "from nltk.corpus import stopwords\n",
        "from nltk.stem import WordNetLemmatizer\n",
        "\n",
        "# Download necessary NLTK data\n",
        "nltk.download('stopwords')\n",
        "nltk.download('wordnet')"
      ]
    },
    {
      "cell_type": "markdown",
      "metadata": {
        "id": "2JBi21oeScrz"
      },
      "source": [
        "Berikutnya dilakukan pembersihan data text untuk mengambil teks yang berinformasi penting saja. Pembersihan teks dilakukan dengan sebagai berikut.\n",
        "\n",
        "* **Lowercase**: Mengubah semua huruf menjadi huruf kecil.\n",
        "* **Remove Punctuation**: Menghapus tanda baca.\n",
        "* **Remove Numbers**: Menghapus angka.\n",
        "* **Tokenization**: Memecah teks menjadi kata-kata.\n",
        "* **Remove Stopwords**: Menghapus kata-kata umum yang tidak signifikan (seperti \"dan\", \"adalah\").\n",
        "* **Lemmatization**: Mengubah kata ke bentuk dasarnya (misalnya, \"berlari\" menjadi \"lari\")."
      ]
    },
    {
      "cell_type": "markdown",
      "metadata": {
        "id": "nWOeOOB0Jlaz"
      },
      "source": [
        "##Remove Emoticons"
      ]
    },
    {
      "cell_type": "code",
      "execution_count": null,
      "metadata": {
        "id": "ujNmFLgHGbHv",
        "colab": {
          "base_uri": "https://localhost:8080/",
          "height": 388
        },
        "outputId": "6c0004e0-8dd6-4e74-a3f9-518026dafe68"
      },
      "outputs": [
        {
          "output_type": "error",
          "ename": "FileNotFoundError",
          "evalue": "[Errno 2] No such file or directory: 'new_kamusalay.csv'",
          "traceback": [
            "\u001b[0;31m---------------------------------------------------------------------------\u001b[0m",
            "\u001b[0;31mFileNotFoundError\u001b[0m                         Traceback (most recent call last)",
            "\u001b[0;32m<ipython-input-15-99681e413a49>\u001b[0m in \u001b[0;36m<cell line: 9>\u001b[0;34m()\u001b[0m\n\u001b[1;32m      7\u001b[0m \u001b[0;34m\u001b[0m\u001b[0m\n\u001b[1;32m      8\u001b[0m \u001b[0;31m# Load the abusive words and alay dictionary from the uploaded files\u001b[0m\u001b[0;34m\u001b[0m\u001b[0;34m\u001b[0m\u001b[0m\n\u001b[0;32m----> 9\u001b[0;31m \u001b[0mdf_kamus_alay\u001b[0m \u001b[0;34m=\u001b[0m \u001b[0mpd\u001b[0m\u001b[0;34m.\u001b[0m\u001b[0mread_csv\u001b[0m\u001b[0;34m(\u001b[0m\u001b[0;34m'new_kamusalay.csv'\u001b[0m\u001b[0;34m,\u001b[0m \u001b[0mencoding\u001b[0m\u001b[0;34m=\u001b[0m\u001b[0;34m'ISO-8859-1'\u001b[0m\u001b[0;34m,\u001b[0m \u001b[0mnames\u001b[0m\u001b[0;34m=\u001b[0m\u001b[0;34m[\u001b[0m\u001b[0;34m'alay'\u001b[0m\u001b[0;34m,\u001b[0m \u001b[0;34m'normal'\u001b[0m\u001b[0;34m]\u001b[0m\u001b[0;34m)\u001b[0m\u001b[0;34m\u001b[0m\u001b[0;34m\u001b[0m\u001b[0m\n\u001b[0m\u001b[1;32m     10\u001b[0m \u001b[0;34m\u001b[0m\u001b[0m\n\u001b[1;32m     11\u001b[0m \u001b[0;31m# Create the alay dictionary\u001b[0m\u001b[0;34m\u001b[0m\u001b[0;34m\u001b[0m\u001b[0m\n",
            "\u001b[0;32m/usr/local/lib/python3.10/dist-packages/pandas/io/parsers/readers.py\u001b[0m in \u001b[0;36mread_csv\u001b[0;34m(filepath_or_buffer, sep, delimiter, header, names, index_col, usecols, dtype, engine, converters, true_values, false_values, skipinitialspace, skiprows, skipfooter, nrows, na_values, keep_default_na, na_filter, verbose, skip_blank_lines, parse_dates, infer_datetime_format, keep_date_col, date_parser, date_format, dayfirst, cache_dates, iterator, chunksize, compression, thousands, decimal, lineterminator, quotechar, quoting, doublequote, escapechar, comment, encoding, encoding_errors, dialect, on_bad_lines, delim_whitespace, low_memory, memory_map, float_precision, storage_options, dtype_backend)\u001b[0m\n\u001b[1;32m    946\u001b[0m     \u001b[0mkwds\u001b[0m\u001b[0;34m.\u001b[0m\u001b[0mupdate\u001b[0m\u001b[0;34m(\u001b[0m\u001b[0mkwds_defaults\u001b[0m\u001b[0;34m)\u001b[0m\u001b[0;34m\u001b[0m\u001b[0;34m\u001b[0m\u001b[0m\n\u001b[1;32m    947\u001b[0m \u001b[0;34m\u001b[0m\u001b[0m\n\u001b[0;32m--> 948\u001b[0;31m     \u001b[0;32mreturn\u001b[0m \u001b[0m_read\u001b[0m\u001b[0;34m(\u001b[0m\u001b[0mfilepath_or_buffer\u001b[0m\u001b[0;34m,\u001b[0m \u001b[0mkwds\u001b[0m\u001b[0;34m)\u001b[0m\u001b[0;34m\u001b[0m\u001b[0;34m\u001b[0m\u001b[0m\n\u001b[0m\u001b[1;32m    949\u001b[0m \u001b[0;34m\u001b[0m\u001b[0m\n\u001b[1;32m    950\u001b[0m \u001b[0;34m\u001b[0m\u001b[0m\n",
            "\u001b[0;32m/usr/local/lib/python3.10/dist-packages/pandas/io/parsers/readers.py\u001b[0m in \u001b[0;36m_read\u001b[0;34m(filepath_or_buffer, kwds)\u001b[0m\n\u001b[1;32m    609\u001b[0m \u001b[0;34m\u001b[0m\u001b[0m\n\u001b[1;32m    610\u001b[0m     \u001b[0;31m# Create the parser.\u001b[0m\u001b[0;34m\u001b[0m\u001b[0;34m\u001b[0m\u001b[0m\n\u001b[0;32m--> 611\u001b[0;31m     \u001b[0mparser\u001b[0m \u001b[0;34m=\u001b[0m \u001b[0mTextFileReader\u001b[0m\u001b[0;34m(\u001b[0m\u001b[0mfilepath_or_buffer\u001b[0m\u001b[0;34m,\u001b[0m \u001b[0;34m**\u001b[0m\u001b[0mkwds\u001b[0m\u001b[0;34m)\u001b[0m\u001b[0;34m\u001b[0m\u001b[0;34m\u001b[0m\u001b[0m\n\u001b[0m\u001b[1;32m    612\u001b[0m \u001b[0;34m\u001b[0m\u001b[0m\n\u001b[1;32m    613\u001b[0m     \u001b[0;32mif\u001b[0m \u001b[0mchunksize\u001b[0m \u001b[0;32mor\u001b[0m \u001b[0miterator\u001b[0m\u001b[0;34m:\u001b[0m\u001b[0;34m\u001b[0m\u001b[0;34m\u001b[0m\u001b[0m\n",
            "\u001b[0;32m/usr/local/lib/python3.10/dist-packages/pandas/io/parsers/readers.py\u001b[0m in \u001b[0;36m__init__\u001b[0;34m(self, f, engine, **kwds)\u001b[0m\n\u001b[1;32m   1446\u001b[0m \u001b[0;34m\u001b[0m\u001b[0m\n\u001b[1;32m   1447\u001b[0m         \u001b[0mself\u001b[0m\u001b[0;34m.\u001b[0m\u001b[0mhandles\u001b[0m\u001b[0;34m:\u001b[0m \u001b[0mIOHandles\u001b[0m \u001b[0;34m|\u001b[0m \u001b[0;32mNone\u001b[0m \u001b[0;34m=\u001b[0m \u001b[0;32mNone\u001b[0m\u001b[0;34m\u001b[0m\u001b[0;34m\u001b[0m\u001b[0m\n\u001b[0;32m-> 1448\u001b[0;31m         \u001b[0mself\u001b[0m\u001b[0;34m.\u001b[0m\u001b[0m_engine\u001b[0m \u001b[0;34m=\u001b[0m \u001b[0mself\u001b[0m\u001b[0;34m.\u001b[0m\u001b[0m_make_engine\u001b[0m\u001b[0;34m(\u001b[0m\u001b[0mf\u001b[0m\u001b[0;34m,\u001b[0m \u001b[0mself\u001b[0m\u001b[0;34m.\u001b[0m\u001b[0mengine\u001b[0m\u001b[0;34m)\u001b[0m\u001b[0;34m\u001b[0m\u001b[0;34m\u001b[0m\u001b[0m\n\u001b[0m\u001b[1;32m   1449\u001b[0m \u001b[0;34m\u001b[0m\u001b[0m\n\u001b[1;32m   1450\u001b[0m     \u001b[0;32mdef\u001b[0m \u001b[0mclose\u001b[0m\u001b[0;34m(\u001b[0m\u001b[0mself\u001b[0m\u001b[0;34m)\u001b[0m \u001b[0;34m->\u001b[0m \u001b[0;32mNone\u001b[0m\u001b[0;34m:\u001b[0m\u001b[0;34m\u001b[0m\u001b[0;34m\u001b[0m\u001b[0m\n",
            "\u001b[0;32m/usr/local/lib/python3.10/dist-packages/pandas/io/parsers/readers.py\u001b[0m in \u001b[0;36m_make_engine\u001b[0;34m(self, f, engine)\u001b[0m\n\u001b[1;32m   1703\u001b[0m                 \u001b[0;32mif\u001b[0m \u001b[0;34m\"b\"\u001b[0m \u001b[0;32mnot\u001b[0m \u001b[0;32min\u001b[0m \u001b[0mmode\u001b[0m\u001b[0;34m:\u001b[0m\u001b[0;34m\u001b[0m\u001b[0;34m\u001b[0m\u001b[0m\n\u001b[1;32m   1704\u001b[0m                     \u001b[0mmode\u001b[0m \u001b[0;34m+=\u001b[0m \u001b[0;34m\"b\"\u001b[0m\u001b[0;34m\u001b[0m\u001b[0;34m\u001b[0m\u001b[0m\n\u001b[0;32m-> 1705\u001b[0;31m             self.handles = get_handle(\n\u001b[0m\u001b[1;32m   1706\u001b[0m                 \u001b[0mf\u001b[0m\u001b[0;34m,\u001b[0m\u001b[0;34m\u001b[0m\u001b[0;34m\u001b[0m\u001b[0m\n\u001b[1;32m   1707\u001b[0m                 \u001b[0mmode\u001b[0m\u001b[0;34m,\u001b[0m\u001b[0;34m\u001b[0m\u001b[0;34m\u001b[0m\u001b[0m\n",
            "\u001b[0;32m/usr/local/lib/python3.10/dist-packages/pandas/io/common.py\u001b[0m in \u001b[0;36mget_handle\u001b[0;34m(path_or_buf, mode, encoding, compression, memory_map, is_text, errors, storage_options)\u001b[0m\n\u001b[1;32m    861\u001b[0m         \u001b[0;32mif\u001b[0m \u001b[0mioargs\u001b[0m\u001b[0;34m.\u001b[0m\u001b[0mencoding\u001b[0m \u001b[0;32mand\u001b[0m \u001b[0;34m\"b\"\u001b[0m \u001b[0;32mnot\u001b[0m \u001b[0;32min\u001b[0m \u001b[0mioargs\u001b[0m\u001b[0;34m.\u001b[0m\u001b[0mmode\u001b[0m\u001b[0;34m:\u001b[0m\u001b[0;34m\u001b[0m\u001b[0;34m\u001b[0m\u001b[0m\n\u001b[1;32m    862\u001b[0m             \u001b[0;31m# Encoding\u001b[0m\u001b[0;34m\u001b[0m\u001b[0;34m\u001b[0m\u001b[0m\n\u001b[0;32m--> 863\u001b[0;31m             handle = open(\n\u001b[0m\u001b[1;32m    864\u001b[0m                 \u001b[0mhandle\u001b[0m\u001b[0;34m,\u001b[0m\u001b[0;34m\u001b[0m\u001b[0;34m\u001b[0m\u001b[0m\n\u001b[1;32m    865\u001b[0m                 \u001b[0mioargs\u001b[0m\u001b[0;34m.\u001b[0m\u001b[0mmode\u001b[0m\u001b[0;34m,\u001b[0m\u001b[0;34m\u001b[0m\u001b[0;34m\u001b[0m\u001b[0m\n",
            "\u001b[0;31mFileNotFoundError\u001b[0m: [Errno 2] No such file or directory: 'new_kamusalay.csv'"
          ]
        }
      ],
      "source": [
        "import re\n",
        "import pandas as pd\n",
        "\n",
        "# Assuming 'df' is your DataFrame with a column 'text_cleaning'\n",
        "# Convert 'text_cleaning' column to string if not already in string format\n",
        "df['text_cleaning'] = df['text_cleaning'].astype(str)\n",
        "\n",
        "# Load the abusive words and alay dictionary from the uploaded files\n",
        "df_kamus_alay = pd.read_csv('new_kamusalay.csv', encoding='ISO-8859-1', names=['alay', 'normal'])\n",
        "\n",
        "# Create the alay dictionary\n",
        "kamus_alay = {str(k).strip(): str(v).strip() for k, v in zip(df_kamus_alay['alay'], df_kamus_alay['normal'])}\n",
        "\n",
        "def clean_text(text):\n",
        "    # Check if the input is None or not a string\n",
        "    if not isinstance(text, str):\n",
        "        print(f\"Error: Expected a string but got {type(text).__name__}\")\n",
        "        return text  # Return the input as-is if it's not a string\n",
        "\n",
        "    # Convert alay words to normal words\n",
        "    for alay, normal in kamus_alay.items():\n",
        "        text = re.sub(r'\\b' + re.escape(alay) + r'\\b', normal, text, flags=re.IGNORECASE)\n",
        "\n",
        "    # Remove emojis\n",
        "    emoji_pattern = re.compile(\n",
        "        \"[\"\n",
        "        u\"\\U0001F600-\\U0001F64F\"  # emoticons\n",
        "        u\"\\U0001F300-\\U0001F5FF\"  # symbols & pictographs\n",
        "        u\"\\U0001F680-\\U0001F6FF\"  # transport & map symbols\n",
        "        u\"\\U0001F1E0-\\U0001F1FF\"  # flags (iOS)\n",
        "        u\"\\U00002702-\\U000027B0\"  # Dingbats\n",
        "        u\"\\U000024C2-\\U0001F251\"  # Enclosed characters\n",
        "        \"]+\", flags=re.UNICODE)\n",
        "    text = emoji_pattern.sub(r'', text)\n",
        "\n",
        "    return text\n",
        "\n",
        "# Apply the clean_text function to each element in the 'text_cleaning' column\n",
        "df['text_cleaning_cleaned'] = df['text_cleaning'].apply(clean_text)"
      ]
    },
    {
      "cell_type": "code",
      "execution_count": null,
      "metadata": {
        "id": "T-2_9kvWNima"
      },
      "outputs": [],
      "source": [
        "df = df[[col for col in df.columns if col != 'sentimen'] + ['sentimen']]"
      ]
    },
    {
      "cell_type": "code",
      "execution_count": null,
      "metadata": {
        "id": "dVYrK0nTN448"
      },
      "outputs": [],
      "source": [
        "df.head()"
      ]
    },
    {
      "cell_type": "markdown",
      "metadata": {
        "id": "mME2wdiQJ3RF"
      },
      "source": [
        "##Tokenize & Remove Stopwords"
      ]
    },
    {
      "cell_type": "code",
      "execution_count": null,
      "metadata": {
        "id": "4bNvRsr4HVjG"
      },
      "outputs": [],
      "source": [
        "import re\n",
        "import nltk\n",
        "from nltk.corpus import stopwords\n",
        "from nltk.tokenize import word_tokenize\n",
        "\n",
        "# Pastikan untuk mengunduh stopwords dan punkt jika belum dilakukan\n",
        "nltk.download('stopwords')\n",
        "nltk.download('punkt')\n",
        "\n",
        "# Dictionary more_dict berisi stopwords dan kata-kata redundant\n",
        "more_dict = {\n",
        "    \"general_stopwords\": [\n",
        "        \"sih\", \"insya\", \"allah\", \"teh\", \"oi\", \"ari\", \"iraha\", \"ya\",\n",
        "        \"wewenang\", \"pnp\", \"oi\", \"kayak\", \"nih\", \"loh\", \"deh\", \"was\",\n",
        "        \"goyang\", \"iya\", \"dong\", \"gusti\", \"banget\", \"loh\", \"dong\",\n",
        "        \"woi\", \"nah\", \"loh\", \"nih\", \"loh\"\n",
        "    ]\n",
        "}\n",
        "\n",
        "# Fungsi untuk menghapus karakter non-alfabetik\n",
        "def clean_text(text):\n",
        "    if not isinstance(text, str):\n",
        "        return text\n",
        "    return re.sub(r'[^a-zA-Z\\s]', '', text)\n",
        "\n",
        "# Fungsi untuk mengubah teks menjadi huruf kecil\n",
        "def to_lowercase(text):\n",
        "    if not isinstance(text, str):\n",
        "        return text\n",
        "    return text.lower()\n",
        "\n",
        "# Fungsi untuk menghapus stopwords, kata-kata redundant, dan melakukan tokenisasi\n",
        "def preprocess_text(text):\n",
        "    if not isinstance(text, str):\n",
        "        return text\n",
        "\n",
        "    # Tokenisasi\n",
        "    tokens = word_tokenize(text)\n",
        "\n",
        "    # Menggabungkan stopwords dari NLTK dan more_dict\n",
        "    stop_words = set(stopwords.words('indonesian'))\n",
        "    custom_stop_words = set(more_dict[\"general_stopwords\"])\n",
        "\n",
        "    # Menghapus stopwords dan kata-kata redundant\n",
        "    filtered_tokens = [word for word in tokens if word.lower() not in stop_words and word.lower() not in custom_stop_words]\n",
        "\n",
        "    return ' '.join(filtered_tokens)\n",
        "\n",
        "# Langkah-langkah pembersihan teks dalam urutan yang benar\n",
        "text_cleaning_steps = {\n",
        "    'text_cleaning_initial': ['text_cleaning_cleaned'],\n",
        "    'text_cleaning_cleaned': [clean_text, to_lowercase, preprocess_text]\n",
        "}\n",
        "\n",
        "# Terapkan langkah-langkah pembersihan teks ke DataFrame\n",
        "for new_column, steps in text_cleaning_steps.items():\n",
        "    if len(steps) == 1:  # Salin kolom asli ke kolom baru\n",
        "        df[new_column] = df[steps[0]]\n",
        "    else:  # Terapkan fungsi pembersihan secara berurutan\n",
        "        df[new_column] = df['text_cleaning_cleaned']\n",
        "        for step in steps:\n",
        "            df[new_column] = df[new_column].apply(step)\n",
        "\n",
        "# Tampilkan DataFrame hasil pembersihan\n",
        "print(df)\n"
      ]
    },
    {
      "cell_type": "markdown",
      "metadata": {
        "id": "x4nv2Qe0N8bx"
      },
      "source": [
        "Teks sudah dibersihkan\n",
        "\n",
        "Setelah itu dilakukan stemming kata dengan menggunakan sastrawi"
      ]
    },
    {
      "cell_type": "markdown",
      "metadata": {
        "id": "8ngWokctKJTZ"
      },
      "source": [
        "##Stemming - Sastrawi"
      ]
    },
    {
      "cell_type": "code",
      "execution_count": null,
      "metadata": {
        "id": "8oChfvyhN469"
      },
      "outputs": [],
      "source": [
        "from Sastrawi.Stemmer.StemmerFactory import StemmerFactory\n",
        "\n",
        "# Create stemmer\n",
        "factory = StemmerFactory()\n",
        "stemmer = factory.create_stemmer()\n",
        "\n",
        "# Stemming process\n",
        "def stemming(text):\n",
        "  text = stemmer.stem(text)\n",
        "  return text\n",
        "\n",
        "df['text_cleaning_cleaned'] = df['text_cleaning_cleaned'].apply(stemming)"
      ]
    },
    {
      "cell_type": "code",
      "execution_count": null,
      "metadata": {
        "id": "vlqFOFGQh3wi"
      },
      "outputs": [],
      "source": [
        "df['text_cleaning_cleaned'].head()"
      ]
    },
    {
      "cell_type": "code",
      "execution_count": null,
      "metadata": {
        "id": "-vHcg-nvRNAt"
      },
      "outputs": [],
      "source": [
        "df.head()"
      ]
    },
    {
      "cell_type": "markdown",
      "source": [
        "##Call Ready to Process csv"
      ],
      "metadata": {
        "id": "XnmB06hNR_3g"
      }
    },
    {
      "cell_type": "code",
      "source": [
        "df = pd.read_csv('df_ready_to_process.csv')"
      ],
      "metadata": {
        "id": "C3ZeKK1FR_xo"
      },
      "execution_count": null,
      "outputs": []
    },
    {
      "cell_type": "code",
      "source": [
        "df.isna().sum()"
      ],
      "metadata": {
        "colab": {
          "base_uri": "https://localhost:8080/",
          "height": 335
        },
        "id": "CNtTTKMGR_vc",
        "outputId": "2a18e697-b24d-4201-e9f7-8a7b75b1a315"
      },
      "execution_count": null,
      "outputs": [
        {
          "output_type": "execute_result",
          "data": {
            "text/plain": [
              "Unnamed: 0               0\n",
              "id_komentar              0\n",
              "nama_akun                1\n",
              "tanggal                  0\n",
              "text_cleaning            2\n",
              "text_cleaning_cleaned    3\n",
              "sentimen                 0\n",
              "text_cleaning_initial    2\n",
              "dtype: int64"
            ],
            "text/html": [
              "<div>\n",
              "<style scoped>\n",
              "    .dataframe tbody tr th:only-of-type {\n",
              "        vertical-align: middle;\n",
              "    }\n",
              "\n",
              "    .dataframe tbody tr th {\n",
              "        vertical-align: top;\n",
              "    }\n",
              "\n",
              "    .dataframe thead th {\n",
              "        text-align: right;\n",
              "    }\n",
              "</style>\n",
              "<table border=\"1\" class=\"dataframe\">\n",
              "  <thead>\n",
              "    <tr style=\"text-align: right;\">\n",
              "      <th></th>\n",
              "      <th>0</th>\n",
              "    </tr>\n",
              "  </thead>\n",
              "  <tbody>\n",
              "    <tr>\n",
              "      <th>Unnamed: 0</th>\n",
              "      <td>0</td>\n",
              "    </tr>\n",
              "    <tr>\n",
              "      <th>id_komentar</th>\n",
              "      <td>0</td>\n",
              "    </tr>\n",
              "    <tr>\n",
              "      <th>nama_akun</th>\n",
              "      <td>1</td>\n",
              "    </tr>\n",
              "    <tr>\n",
              "      <th>tanggal</th>\n",
              "      <td>0</td>\n",
              "    </tr>\n",
              "    <tr>\n",
              "      <th>text_cleaning</th>\n",
              "      <td>2</td>\n",
              "    </tr>\n",
              "    <tr>\n",
              "      <th>text_cleaning_cleaned</th>\n",
              "      <td>3</td>\n",
              "    </tr>\n",
              "    <tr>\n",
              "      <th>sentimen</th>\n",
              "      <td>0</td>\n",
              "    </tr>\n",
              "    <tr>\n",
              "      <th>text_cleaning_initial</th>\n",
              "      <td>2</td>\n",
              "    </tr>\n",
              "  </tbody>\n",
              "</table>\n",
              "</div><br><label><b>dtype:</b> int64</label>"
            ]
          },
          "metadata": {},
          "execution_count": 17
        }
      ]
    },
    {
      "cell_type": "code",
      "source": [
        "df = df.dropna()"
      ],
      "metadata": {
        "id": "2X87CTdtR_tZ"
      },
      "execution_count": null,
      "outputs": []
    },
    {
      "cell_type": "markdown",
      "metadata": {
        "id": "2QxKev_1KR6Q"
      },
      "source": [
        "##TF-IDF Vectorizer"
      ]
    },
    {
      "cell_type": "code",
      "execution_count": null,
      "metadata": {
        "id": "62IpRKN7HVf8"
      },
      "outputs": [],
      "source": [
        "from sklearn.feature_extraction.text import TfidfVectorizer, CountVectorizer\n",
        "\n",
        "# TF-IDF Vectorization\n",
        "tfidf_vectorizer = TfidfVectorizer()\n",
        "tfidf_matrix = tfidf_vectorizer.fit_transform(df['text_cleaning_cleaned'])\n",
        "\n",
        "# Count Vectorization\n",
        "count_vectorizer = CountVectorizer()\n",
        "count_matrix = count_vectorizer.fit_transform(df['text_cleaning_cleaned'])\n"
      ]
    },
    {
      "cell_type": "code",
      "execution_count": null,
      "metadata": {
        "colab": {
          "base_uri": "https://localhost:8080/"
        },
        "id": "DvGiAXiCGkzf",
        "outputId": "cfe7460a-6041-4544-d43c-f955430fa28e"
      },
      "outputs": [
        {
          "output_type": "stream",
          "name": "stdout",
          "text": [
            "  (0, 1652)\t0.39130125581184805\n",
            "  (0, 1500)\t0.3485936680963921\n",
            "  (0, 399)\t0.4211533798261171\n",
            "  (0, 1079)\t0.5038942346274959\n",
            "  (0, 958)\t0.17165043104413638\n",
            "  (0, 338)\t0.2953847878899353\n",
            "  (0, 2462)\t0.4211533798261171\n",
            "  (1, 878)\t0.3130588188652883\n",
            "  (1, 1044)\t0.36920807843124137\n",
            "  (1, 555)\t0.30767392102398883\n",
            "  (1, 460)\t0.2608429810531164\n",
            "  (1, 2966)\t0.20607513689393275\n",
            "  (1, 1899)\t0.2983556014289082\n",
            "  (1, 682)\t0.38993109949602783\n",
            "  (1, 1434)\t0.25883843948197194\n",
            "  (1, 2670)\t0.3138350742191698\n",
            "  (1, 2248)\t0.36920807843124137\n",
            "  (1, 958)\t0.1328291468853312\n",
            "  (2, 1150)\t0.34934809886156115\n",
            "  (2, 2051)\t0.4110878589236787\n",
            "  (2, 1839)\t0.4359293829396435\n",
            "  (2, 1267)\t0.3353019952454169\n",
            "  (2, 1434)\t0.6375741706983296\n",
            "  (3, 550)\t0.5523001847428567\n",
            "  (3, 1616)\t0.2116975872361511\n",
            "  :\t:\n",
            "  (1509, 81)\t0.30453554747011913\n",
            "  (1510, 771)\t0.5386104078409479\n",
            "  (1510, 2615)\t0.5957763122873414\n",
            "  (1510, 202)\t0.5957763122873414\n",
            "  (1511, 483)\t0.4183525753186917\n",
            "  (1511, 1111)\t0.34030698116251473\n",
            "  (1511, 2103)\t0.34322334858684234\n",
            "  (1511, 1935)\t0.3250990650519643\n",
            "  (1511, 2034)\t0.2035244976453514\n",
            "  (1511, 1415)\t0.2701595851165122\n",
            "  (1511, 1108)\t0.22977235532659993\n",
            "  (1511, 1784)\t0.22468395623839177\n",
            "  (1511, 188)\t0.2126407505978583\n",
            "  (1511, 174)\t0.2168477982881725\n",
            "  (1511, 1899)\t0.3829903816585742\n",
            "  (1511, 958)\t0.17050890084635328\n",
            "  (1512, 2500)\t0.4435761132448221\n",
            "  (1512, 1954)\t0.4729387651960647\n",
            "  (1512, 1882)\t0.2629586616797479\n",
            "  (1512, 780)\t0.25246294395037067\n",
            "  (1512, 1229)\t0.3270251096814517\n",
            "  (1512, 2159)\t0.25660219681851093\n",
            "  (1512, 284)\t0.19862451974576711\n",
            "  (1512, 2308)\t0.23607397873470148\n",
            "  (1512, 1899)\t0.4227429801413926\n"
          ]
        }
      ],
      "source": [
        "print(tfidf_matrix)"
      ]
    },
    {
      "cell_type": "code",
      "execution_count": null,
      "metadata": {
        "colab": {
          "base_uri": "https://localhost:8080/"
        },
        "id": "9EvHYWmDB8e9",
        "outputId": "ceee5161-95bf-4362-d349-32e653b56399"
      },
      "outputs": [
        {
          "output_type": "execute_result",
          "data": {
            "text/plain": [
              "array(['saran bikin harga ionic brio laris manis',\n",
              "       'problem subsidi kualitas diturunin harga naik usaha cari cuan subsidi inflasi gede',\n",
              "       'kualitas kembang kualitas motor motor pabrikan jepang', ...,\n",
              "       'esemka bangga solo',\n",
              "       'cerdas orang pasar jalan x kota ngecas jam harga bahan bakar minyak naik',\n",
              "       'niat beli ev murah naik perintah rakyat kasih sejahtera'],\n",
              "      dtype=object)"
            ]
          },
          "metadata": {},
          "execution_count": 21
        }
      ],
      "source": [
        "df['text_cleaning_cleaned'].unique()"
      ]
    },
    {
      "cell_type": "markdown",
      "metadata": {
        "id": "Frsr8Vf3S__Z"
      },
      "source": [
        "Data sudah bersih dan siap dilakukan EDA"
      ]
    },
    {
      "cell_type": "markdown",
      "metadata": {
        "id": "rNT5r_S1EOdu"
      },
      "source": [
        "#Exploratory Data Analysis (EDA)"
      ]
    },
    {
      "cell_type": "code",
      "execution_count": null,
      "metadata": {
        "colab": {
          "base_uri": "https://localhost:8080/",
          "height": 484
        },
        "id": "9cpEArwLEjLZ",
        "outputId": "db3fe0ce-4d5d-49d7-99a8-e4f0bdf5a88a"
      },
      "outputs": [
        {
          "output_type": "execute_result",
          "data": {
            "text/plain": [
              "   Unnamed: 0                 id_komentar        nama_akun  \\\n",
              "0           0  Ugzbll5eyrIy3-gdUUJ4AaABAg          Sqn Ldr   \n",
              "1           1  UgzEDUiV3OTrV943p8p4AaABAg       lushen ace   \n",
              "2           2  UgwqJqu6JMF4EH2CsVV4AaABAg  Fatih Al-Ayyubi   \n",
              "3           3  UgyYicCMR1rKwuOj2Y14AaABAg        yp office   \n",
              "4           4  UgxKAcLuAwZOQK6es-x4AaABAg    Lembur Kuring   \n",
              "\n",
              "                     tanggal  \\\n",
              "0  2023-08-06 12:54:49+00:00   \n",
              "1  2023-08-04 12:16:23+00:00   \n",
              "2  2023-08-04 10:17:57+00:00   \n",
              "3  2023-08-04 08:29:54+00:00   \n",
              "4  2023-08-04 07:55:37+00:00   \n",
              "\n",
              "                                       text_cleaning  \\\n",
              "0  saran sih bikin   harga ionic sama kayak brio ...   \n",
              "1  problem subsidi kualitas diturunin harga dinai...   \n",
              "2  baik kualitas kembang dulu baik kualitas motor...   \n",
              "3       model jelek kwalitas buruk harga mahal croot   \n",
              "4  syarat   ngaco woy anak muda   blom punya ruma...   \n",
              "\n",
              "                               text_cleaning_cleaned sentimen  \\\n",
              "0           saran bikin harga ionic brio laris manis  positif   \n",
              "1  problem subsidi kualitas diturunin harga naik ...  negatif   \n",
              "2  kualitas kembang kualitas motor motor pabrikan...  positif   \n",
              "3        model jelek kualitas buruk harga mahal crot  negatif   \n",
              "4  syarat kacau anak muda rumah usaha mikro tenga...  negatif   \n",
              "\n",
              "                               text_cleaning_initial  \n",
              "0  saran sih bikin   harga ionic sama kayak brio ...  \n",
              "1  problem subsidi kualitas diturunin harga dinai...  \n",
              "2  baik kualitas kembang dulu baik kualitas motor...  \n",
              "3        model jelek kualitas buruk harga mahal crot  \n",
              "4  syarat   kacau oi anak muda   belum punya ruma...  "
            ],
            "text/html": [
              "\n",
              "  <div id=\"df-55b90238-e2d6-4f09-8b0d-8d58080f35e3\" class=\"colab-df-container\">\n",
              "    <div>\n",
              "<style scoped>\n",
              "    .dataframe tbody tr th:only-of-type {\n",
              "        vertical-align: middle;\n",
              "    }\n",
              "\n",
              "    .dataframe tbody tr th {\n",
              "        vertical-align: top;\n",
              "    }\n",
              "\n",
              "    .dataframe thead th {\n",
              "        text-align: right;\n",
              "    }\n",
              "</style>\n",
              "<table border=\"1\" class=\"dataframe\">\n",
              "  <thead>\n",
              "    <tr style=\"text-align: right;\">\n",
              "      <th></th>\n",
              "      <th>Unnamed: 0</th>\n",
              "      <th>id_komentar</th>\n",
              "      <th>nama_akun</th>\n",
              "      <th>tanggal</th>\n",
              "      <th>text_cleaning</th>\n",
              "      <th>text_cleaning_cleaned</th>\n",
              "      <th>sentimen</th>\n",
              "      <th>text_cleaning_initial</th>\n",
              "    </tr>\n",
              "  </thead>\n",
              "  <tbody>\n",
              "    <tr>\n",
              "      <th>0</th>\n",
              "      <td>0</td>\n",
              "      <td>Ugzbll5eyrIy3-gdUUJ4AaABAg</td>\n",
              "      <td>Sqn Ldr</td>\n",
              "      <td>2023-08-06 12:54:49+00:00</td>\n",
              "      <td>saran sih bikin   harga ionic sama kayak brio ...</td>\n",
              "      <td>saran bikin harga ionic brio laris manis</td>\n",
              "      <td>positif</td>\n",
              "      <td>saran sih bikin   harga ionic sama kayak brio ...</td>\n",
              "    </tr>\n",
              "    <tr>\n",
              "      <th>1</th>\n",
              "      <td>1</td>\n",
              "      <td>UgzEDUiV3OTrV943p8p4AaABAg</td>\n",
              "      <td>lushen ace</td>\n",
              "      <td>2023-08-04 12:16:23+00:00</td>\n",
              "      <td>problem subsidi kualitas diturunin harga dinai...</td>\n",
              "      <td>problem subsidi kualitas diturunin harga naik ...</td>\n",
              "      <td>negatif</td>\n",
              "      <td>problem subsidi kualitas diturunin harga dinai...</td>\n",
              "    </tr>\n",
              "    <tr>\n",
              "      <th>2</th>\n",
              "      <td>2</td>\n",
              "      <td>UgwqJqu6JMF4EH2CsVV4AaABAg</td>\n",
              "      <td>Fatih Al-Ayyubi</td>\n",
              "      <td>2023-08-04 10:17:57+00:00</td>\n",
              "      <td>baik kualitas kembang dulu baik kualitas motor...</td>\n",
              "      <td>kualitas kembang kualitas motor motor pabrikan...</td>\n",
              "      <td>positif</td>\n",
              "      <td>baik kualitas kembang dulu baik kualitas motor...</td>\n",
              "    </tr>\n",
              "    <tr>\n",
              "      <th>3</th>\n",
              "      <td>3</td>\n",
              "      <td>UgyYicCMR1rKwuOj2Y14AaABAg</td>\n",
              "      <td>yp office</td>\n",
              "      <td>2023-08-04 08:29:54+00:00</td>\n",
              "      <td>model jelek kwalitas buruk harga mahal croot</td>\n",
              "      <td>model jelek kualitas buruk harga mahal crot</td>\n",
              "      <td>negatif</td>\n",
              "      <td>model jelek kualitas buruk harga mahal crot</td>\n",
              "    </tr>\n",
              "    <tr>\n",
              "      <th>4</th>\n",
              "      <td>4</td>\n",
              "      <td>UgxKAcLuAwZOQK6es-x4AaABAg</td>\n",
              "      <td>Lembur Kuring</td>\n",
              "      <td>2023-08-04 07:55:37+00:00</td>\n",
              "      <td>syarat   ngaco woy anak muda   blom punya ruma...</td>\n",
              "      <td>syarat kacau anak muda rumah usaha mikro tenga...</td>\n",
              "      <td>negatif</td>\n",
              "      <td>syarat   kacau oi anak muda   belum punya ruma...</td>\n",
              "    </tr>\n",
              "  </tbody>\n",
              "</table>\n",
              "</div>\n",
              "    <div class=\"colab-df-buttons\">\n",
              "\n",
              "  <div class=\"colab-df-container\">\n",
              "    <button class=\"colab-df-convert\" onclick=\"convertToInteractive('df-55b90238-e2d6-4f09-8b0d-8d58080f35e3')\"\n",
              "            title=\"Convert this dataframe to an interactive table.\"\n",
              "            style=\"display:none;\">\n",
              "\n",
              "  <svg xmlns=\"http://www.w3.org/2000/svg\" height=\"24px\" viewBox=\"0 -960 960 960\">\n",
              "    <path d=\"M120-120v-720h720v720H120Zm60-500h600v-160H180v160Zm220 220h160v-160H400v160Zm0 220h160v-160H400v160ZM180-400h160v-160H180v160Zm440 0h160v-160H620v160ZM180-180h160v-160H180v160Zm440 0h160v-160H620v160Z\"/>\n",
              "  </svg>\n",
              "    </button>\n",
              "\n",
              "  <style>\n",
              "    .colab-df-container {\n",
              "      display:flex;\n",
              "      gap: 12px;\n",
              "    }\n",
              "\n",
              "    .colab-df-convert {\n",
              "      background-color: #E8F0FE;\n",
              "      border: none;\n",
              "      border-radius: 50%;\n",
              "      cursor: pointer;\n",
              "      display: none;\n",
              "      fill: #1967D2;\n",
              "      height: 32px;\n",
              "      padding: 0 0 0 0;\n",
              "      width: 32px;\n",
              "    }\n",
              "\n",
              "    .colab-df-convert:hover {\n",
              "      background-color: #E2EBFA;\n",
              "      box-shadow: 0px 1px 2px rgba(60, 64, 67, 0.3), 0px 1px 3px 1px rgba(60, 64, 67, 0.15);\n",
              "      fill: #174EA6;\n",
              "    }\n",
              "\n",
              "    .colab-df-buttons div {\n",
              "      margin-bottom: 4px;\n",
              "    }\n",
              "\n",
              "    [theme=dark] .colab-df-convert {\n",
              "      background-color: #3B4455;\n",
              "      fill: #D2E3FC;\n",
              "    }\n",
              "\n",
              "    [theme=dark] .colab-df-convert:hover {\n",
              "      background-color: #434B5C;\n",
              "      box-shadow: 0px 1px 3px 1px rgba(0, 0, 0, 0.15);\n",
              "      filter: drop-shadow(0px 1px 2px rgba(0, 0, 0, 0.3));\n",
              "      fill: #FFFFFF;\n",
              "    }\n",
              "  </style>\n",
              "\n",
              "    <script>\n",
              "      const buttonEl =\n",
              "        document.querySelector('#df-55b90238-e2d6-4f09-8b0d-8d58080f35e3 button.colab-df-convert');\n",
              "      buttonEl.style.display =\n",
              "        google.colab.kernel.accessAllowed ? 'block' : 'none';\n",
              "\n",
              "      async function convertToInteractive(key) {\n",
              "        const element = document.querySelector('#df-55b90238-e2d6-4f09-8b0d-8d58080f35e3');\n",
              "        const dataTable =\n",
              "          await google.colab.kernel.invokeFunction('convertToInteractive',\n",
              "                                                    [key], {});\n",
              "        if (!dataTable) return;\n",
              "\n",
              "        const docLinkHtml = 'Like what you see? Visit the ' +\n",
              "          '<a target=\"_blank\" href=https://colab.research.google.com/notebooks/data_table.ipynb>data table notebook</a>'\n",
              "          + ' to learn more about interactive tables.';\n",
              "        element.innerHTML = '';\n",
              "        dataTable['output_type'] = 'display_data';\n",
              "        await google.colab.output.renderOutput(dataTable, element);\n",
              "        const docLink = document.createElement('div');\n",
              "        docLink.innerHTML = docLinkHtml;\n",
              "        element.appendChild(docLink);\n",
              "      }\n",
              "    </script>\n",
              "  </div>\n",
              "\n",
              "\n",
              "<div id=\"df-e99b8a0b-b1a2-4ba7-b32f-32db40bd59cf\">\n",
              "  <button class=\"colab-df-quickchart\" onclick=\"quickchart('df-e99b8a0b-b1a2-4ba7-b32f-32db40bd59cf')\"\n",
              "            title=\"Suggest charts\"\n",
              "            style=\"display:none;\">\n",
              "\n",
              "<svg xmlns=\"http://www.w3.org/2000/svg\" height=\"24px\"viewBox=\"0 0 24 24\"\n",
              "     width=\"24px\">\n",
              "    <g>\n",
              "        <path d=\"M19 3H5c-1.1 0-2 .9-2 2v14c0 1.1.9 2 2 2h14c1.1 0 2-.9 2-2V5c0-1.1-.9-2-2-2zM9 17H7v-7h2v7zm4 0h-2V7h2v10zm4 0h-2v-4h2v4z\"/>\n",
              "    </g>\n",
              "</svg>\n",
              "  </button>\n",
              "\n",
              "<style>\n",
              "  .colab-df-quickchart {\n",
              "      --bg-color: #E8F0FE;\n",
              "      --fill-color: #1967D2;\n",
              "      --hover-bg-color: #E2EBFA;\n",
              "      --hover-fill-color: #174EA6;\n",
              "      --disabled-fill-color: #AAA;\n",
              "      --disabled-bg-color: #DDD;\n",
              "  }\n",
              "\n",
              "  [theme=dark] .colab-df-quickchart {\n",
              "      --bg-color: #3B4455;\n",
              "      --fill-color: #D2E3FC;\n",
              "      --hover-bg-color: #434B5C;\n",
              "      --hover-fill-color: #FFFFFF;\n",
              "      --disabled-bg-color: #3B4455;\n",
              "      --disabled-fill-color: #666;\n",
              "  }\n",
              "\n",
              "  .colab-df-quickchart {\n",
              "    background-color: var(--bg-color);\n",
              "    border: none;\n",
              "    border-radius: 50%;\n",
              "    cursor: pointer;\n",
              "    display: none;\n",
              "    fill: var(--fill-color);\n",
              "    height: 32px;\n",
              "    padding: 0;\n",
              "    width: 32px;\n",
              "  }\n",
              "\n",
              "  .colab-df-quickchart:hover {\n",
              "    background-color: var(--hover-bg-color);\n",
              "    box-shadow: 0 1px 2px rgba(60, 64, 67, 0.3), 0 1px 3px 1px rgba(60, 64, 67, 0.15);\n",
              "    fill: var(--button-hover-fill-color);\n",
              "  }\n",
              "\n",
              "  .colab-df-quickchart-complete:disabled,\n",
              "  .colab-df-quickchart-complete:disabled:hover {\n",
              "    background-color: var(--disabled-bg-color);\n",
              "    fill: var(--disabled-fill-color);\n",
              "    box-shadow: none;\n",
              "  }\n",
              "\n",
              "  .colab-df-spinner {\n",
              "    border: 2px solid var(--fill-color);\n",
              "    border-color: transparent;\n",
              "    border-bottom-color: var(--fill-color);\n",
              "    animation:\n",
              "      spin 1s steps(1) infinite;\n",
              "  }\n",
              "\n",
              "  @keyframes spin {\n",
              "    0% {\n",
              "      border-color: transparent;\n",
              "      border-bottom-color: var(--fill-color);\n",
              "      border-left-color: var(--fill-color);\n",
              "    }\n",
              "    20% {\n",
              "      border-color: transparent;\n",
              "      border-left-color: var(--fill-color);\n",
              "      border-top-color: var(--fill-color);\n",
              "    }\n",
              "    30% {\n",
              "      border-color: transparent;\n",
              "      border-left-color: var(--fill-color);\n",
              "      border-top-color: var(--fill-color);\n",
              "      border-right-color: var(--fill-color);\n",
              "    }\n",
              "    40% {\n",
              "      border-color: transparent;\n",
              "      border-right-color: var(--fill-color);\n",
              "      border-top-color: var(--fill-color);\n",
              "    }\n",
              "    60% {\n",
              "      border-color: transparent;\n",
              "      border-right-color: var(--fill-color);\n",
              "    }\n",
              "    80% {\n",
              "      border-color: transparent;\n",
              "      border-right-color: var(--fill-color);\n",
              "      border-bottom-color: var(--fill-color);\n",
              "    }\n",
              "    90% {\n",
              "      border-color: transparent;\n",
              "      border-bottom-color: var(--fill-color);\n",
              "    }\n",
              "  }\n",
              "</style>\n",
              "\n",
              "  <script>\n",
              "    async function quickchart(key) {\n",
              "      const quickchartButtonEl =\n",
              "        document.querySelector('#' + key + ' button');\n",
              "      quickchartButtonEl.disabled = true;  // To prevent multiple clicks.\n",
              "      quickchartButtonEl.classList.add('colab-df-spinner');\n",
              "      try {\n",
              "        const charts = await google.colab.kernel.invokeFunction(\n",
              "            'suggestCharts', [key], {});\n",
              "      } catch (error) {\n",
              "        console.error('Error during call to suggestCharts:', error);\n",
              "      }\n",
              "      quickchartButtonEl.classList.remove('colab-df-spinner');\n",
              "      quickchartButtonEl.classList.add('colab-df-quickchart-complete');\n",
              "    }\n",
              "    (() => {\n",
              "      let quickchartButtonEl =\n",
              "        document.querySelector('#df-e99b8a0b-b1a2-4ba7-b32f-32db40bd59cf button');\n",
              "      quickchartButtonEl.style.display =\n",
              "        google.colab.kernel.accessAllowed ? 'block' : 'none';\n",
              "    })();\n",
              "  </script>\n",
              "</div>\n",
              "\n",
              "    </div>\n",
              "  </div>\n"
            ],
            "application/vnd.google.colaboratory.intrinsic+json": {
              "type": "dataframe",
              "variable_name": "df",
              "summary": "{\n  \"name\": \"df\",\n  \"rows\": 1513,\n  \"fields\": [\n    {\n      \"column\": \"Unnamed: 0\",\n      \"properties\": {\n        \"dtype\": \"number\",\n        \"std\": 437,\n        \"min\": 0,\n        \"max\": 1516,\n        \"num_unique_values\": 1513,\n        \"samples\": [\n          1002,\n          619,\n          807\n        ],\n        \"semantic_type\": \"\",\n        \"description\": \"\"\n      }\n    },\n    {\n      \"column\": \"id_komentar\",\n      \"properties\": {\n        \"dtype\": \"string\",\n        \"num_unique_values\": 1513,\n        \"samples\": [\n          \"Ugzh19jpMWtcVmB9UoJ4AaABAg\",\n          \"Ugwpz5d2DUk6vXrNtDF4AaABAg\",\n          \"UgzbxpKIMarQaRh6s_l4AaABAg\"\n        ],\n        \"semantic_type\": \"\",\n        \"description\": \"\"\n      }\n    },\n    {\n      \"column\": \"nama_akun\",\n      \"properties\": {\n        \"dtype\": \"string\",\n        \"num_unique_values\": 1512,\n        \"samples\": [\n          \"Johandi Suryadi\",\n          \"Yadi Yadi\",\n          \"Deny Noegraha\"\n        ],\n        \"semantic_type\": \"\",\n        \"description\": \"\"\n      }\n    },\n    {\n      \"column\": \"tanggal\",\n      \"properties\": {\n        \"dtype\": \"object\",\n        \"num_unique_values\": 1510,\n        \"samples\": [\n          \"2023-06-07 04:56:10+00:00\",\n          \"2023-06-08 00:28:16+00:00\",\n          \"2023-06-07 04:16:45+00:00\"\n        ],\n        \"semantic_type\": \"\",\n        \"description\": \"\"\n      }\n    },\n    {\n      \"column\": \"text_cleaning\",\n      \"properties\": {\n        \"dtype\": \"string\",\n        \"num_unique_values\": 1512,\n        \"samples\": [\n          \"biaya mahal blm biaya pasang ev charging rumah   mahal station isi daya jg blm banyak lebih baik perintah utama   kendara angkut umum dulu banyak angkut umum lebih utama\",\n          \"mahal banyak gaya banyak mafia\",\n          \"lebih pilih kendara bahan bakar fosil\"\n        ],\n        \"semantic_type\": \"\",\n        \"description\": \"\"\n      }\n    },\n    {\n      \"column\": \"text_cleaning_cleaned\",\n      \"properties\": {\n        \"dtype\": \"string\",\n        \"num_unique_values\": 1496,\n        \"samples\": [\n          \"tani subsidi\",\n          \"motor uji bandel motor bahan bakar minyak\",\n          \"rakyat sembako murah\"\n        ],\n        \"semantic_type\": \"\",\n        \"description\": \"\"\n      }\n    },\n    {\n      \"column\": \"sentimen\",\n      \"properties\": {\n        \"dtype\": \"category\",\n        \"num_unique_values\": 3,\n        \"samples\": [\n          \"positif\",\n          \"negatif\",\n          \"netral\"\n        ],\n        \"semantic_type\": \"\",\n        \"description\": \"\"\n      }\n    },\n    {\n      \"column\": \"text_cleaning_initial\",\n      \"properties\": {\n        \"dtype\": \"string\",\n        \"num_unique_values\": 1512,\n        \"samples\": [\n          \"biaya mahal belum biaya pasang ev charging rumah   mahal station isi daya juga belum banyak lebih baik perintah utama   kendara angkut umum dulu banyak angkut umum lebih utama\",\n          \"mahal banyak gaya banyak mafia\",\n          \"lebih pilih kendara bahan bakar fosil\"\n        ],\n        \"semantic_type\": \"\",\n        \"description\": \"\"\n      }\n    }\n  ]\n}"
            }
          },
          "metadata": {},
          "execution_count": 22
        }
      ],
      "source": [
        "df.head()"
      ]
    },
    {
      "cell_type": "markdown",
      "source": [
        "#Pickle"
      ],
      "metadata": {
        "id": "cSB5Y2XWnaRX"
      }
    },
    {
      "cell_type": "code",
      "source": [
        "# prompt: save tf idf using pickle\n",
        "\n",
        "import pickle\n",
        "\n",
        "# Save the TF-IDF model\n",
        "with open('tfidf_model.pkl', 'wb') as f:\n",
        "  pickle.dump(tfidf_vectorizer, f)\n",
        "\n",
        "# Save the TF-IDF matrix\n",
        "with open('tfidf_matrix.pkl', 'wb') as f:\n",
        "  pickle.dump(tfidf_matrix, f)\n"
      ],
      "metadata": {
        "id": "qN-0_AS_nZw9"
      },
      "execution_count": null,
      "outputs": []
    },
    {
      "cell_type": "code",
      "source": [
        "import pickle\n",
        "\n",
        "# Load the TF-IDF model\n",
        "with open('tfidf_model.pkl', 'rb') as f:\n",
        "  tfidf_vectorizer = pickle.load(f)\n",
        "\n",
        "# Load the TF-IDF matrix\n",
        "with open('tfidf_matrix.pkl', 'rb') as f:\n",
        "  tfidf_matrix = pickle.load(f)\n"
      ],
      "metadata": {
        "id": "naiugKeYnZuk"
      },
      "execution_count": null,
      "outputs": []
    },
    {
      "cell_type": "code",
      "source": [
        "print(tfidf_matrix)"
      ],
      "metadata": {
        "colab": {
          "base_uri": "https://localhost:8080/"
        },
        "id": "suUZ9n4TNenP",
        "outputId": "8b314437-ce8f-41d0-e56e-92df37ac5fe3"
      },
      "execution_count": null,
      "outputs": [
        {
          "output_type": "stream",
          "name": "stdout",
          "text": [
            "  (0, 1652)\t0.39130125581184805\n",
            "  (0, 1500)\t0.3485936680963921\n",
            "  (0, 399)\t0.4211533798261171\n",
            "  (0, 1079)\t0.5038942346274959\n",
            "  (0, 958)\t0.17165043104413638\n",
            "  (0, 338)\t0.2953847878899353\n",
            "  (0, 2462)\t0.4211533798261171\n",
            "  (1, 878)\t0.3130588188652883\n",
            "  (1, 1044)\t0.36920807843124137\n",
            "  (1, 555)\t0.30767392102398883\n",
            "  (1, 460)\t0.2608429810531164\n",
            "  (1, 2966)\t0.20607513689393275\n",
            "  (1, 1899)\t0.2983556014289082\n",
            "  (1, 682)\t0.38993109949602783\n",
            "  (1, 1434)\t0.25883843948197194\n",
            "  (1, 2670)\t0.3138350742191698\n",
            "  (1, 2248)\t0.36920807843124137\n",
            "  (1, 958)\t0.1328291468853312\n",
            "  (2, 1150)\t0.34934809886156115\n",
            "  (2, 2051)\t0.4110878589236787\n",
            "  (2, 1839)\t0.4359293829396435\n",
            "  (2, 1267)\t0.3353019952454169\n",
            "  (2, 1434)\t0.6375741706983296\n",
            "  (3, 550)\t0.5523001847428567\n",
            "  (3, 1616)\t0.2116975872361511\n",
            "  :\t:\n",
            "  (1509, 81)\t0.30453554747011913\n",
            "  (1510, 771)\t0.5386104078409479\n",
            "  (1510, 2615)\t0.5957763122873414\n",
            "  (1510, 202)\t0.5957763122873414\n",
            "  (1511, 483)\t0.4183525753186917\n",
            "  (1511, 1111)\t0.34030698116251473\n",
            "  (1511, 2103)\t0.34322334858684234\n",
            "  (1511, 1935)\t0.3250990650519643\n",
            "  (1511, 2034)\t0.2035244976453514\n",
            "  (1511, 1415)\t0.2701595851165122\n",
            "  (1511, 1108)\t0.22977235532659993\n",
            "  (1511, 1784)\t0.22468395623839177\n",
            "  (1511, 188)\t0.2126407505978583\n",
            "  (1511, 174)\t0.2168477982881725\n",
            "  (1511, 1899)\t0.3829903816585742\n",
            "  (1511, 958)\t0.17050890084635328\n",
            "  (1512, 2500)\t0.4435761132448221\n",
            "  (1512, 1954)\t0.4729387651960647\n",
            "  (1512, 1882)\t0.2629586616797479\n",
            "  (1512, 780)\t0.25246294395037067\n",
            "  (1512, 1229)\t0.3270251096814517\n",
            "  (1512, 2159)\t0.25660219681851093\n",
            "  (1512, 284)\t0.19862451974576711\n",
            "  (1512, 2308)\t0.23607397873470148\n",
            "  (1512, 1899)\t0.4227429801413926\n"
          ]
        }
      ]
    },
    {
      "cell_type": "code",
      "source": [],
      "metadata": {
        "id": "gjwQbJJZOB6l"
      },
      "execution_count": null,
      "outputs": []
    },
    {
      "cell_type": "code",
      "execution_count": null,
      "metadata": {
        "colab": {
          "base_uri": "https://localhost:8080/",
          "height": 472
        },
        "id": "Kn4nAYLwEjJe",
        "outputId": "b3400215-b0ca-4db5-c2eb-f8c848f02782"
      },
      "outputs": [
        {
          "output_type": "display_data",
          "data": {
            "text/plain": [
              "<Figure size 640x480 with 1 Axes>"
            ],
            "image/png": "[encoded data removed]"
          },
          "metadata": {}
        }
      ],
      "source": [
        "import seaborn as sns\n",
        "import matplotlib.pyplot as plt\n",
        "\n",
        "# Count the occurrences of each sentiment category\n",
        "sentiment_counts = df['sentimen'].value_counts()\n",
        "plot = sns.barplot(x=sentiment_counts.index, y=sentiment_counts.values)\n",
        "plt.xlabel('Sentiment')\n",
        "plt.ylabel('Count')\n",
        "plt.title('Distribution of Sentiments')\n",
        "plt.show()"
      ]
    },
    {
      "cell_type": "markdown",
      "metadata": {
        "id": "4u9i6OkQSM-o"
      },
      "source": [
        "Nilai antar label jomplang *(imbalance data)*, sehingga harus ditangani dengan **SMOTE atau Undersampling**"
      ]
    },
    {
      "cell_type": "code",
      "execution_count": null,
      "metadata": {
        "colab": {
          "base_uri": "https://localhost:8080/",
          "height": 253
        },
        "id": "NTPcckLuQfGT",
        "outputId": "e292e62d-5669-483f-b060-9710e5871572"
      },
      "outputs": [
        {
          "output_type": "execute_result",
          "data": {
            "text/plain": [
              "      Unnamed: 0                 id_komentar nama_akun  \\\n",
              "976          976  UgzrIme6uSs4MNMLKPF4AaABAg    Albert   \n",
              "1420        1420  UgzdMErvwsK1yxsHxZd4AaABAg    Albert   \n",
              "\n",
              "                        tanggal  \\\n",
              "976   2023-06-07 03:03:23+00:00   \n",
              "1420  2023-03-16 07:40:11+00:00   \n",
              "\n",
              "                                          text_cleaning  \\\n",
              "976   title berita tak laku at the same time tampil ...   \n",
              "1420  suka banget kak shania bawain berita si cantik...   \n",
              "\n",
              "                                  text_cleaning_cleaned sentimen  \\\n",
              "976   title berita laku at the time tampil data jual...  negatif   \n",
              "1420        suka kak shania bawain berita cantik cerdas  negatif   \n",
              "\n",
              "                                  text_cleaning_initial  user_counts  \n",
              "976   title berita tak laku at the sama time tampil ...            2  \n",
              "1420  suka banget kak shania bawain berita sih canti...            2  "
            ],
            "text/html": [
              "\n",
              "  <div id=\"df-d0fa955a-0923-4fd7-b2d0-a8207b663153\" class=\"colab-df-container\">\n",
              "    <div>\n",
              "<style scoped>\n",
              "    .dataframe tbody tr th:only-of-type {\n",
              "        vertical-align: middle;\n",
              "    }\n",
              "\n",
              "    .dataframe tbody tr th {\n",
              "        vertical-align: top;\n",
              "    }\n",
              "\n",
              "    .dataframe thead th {\n",
              "        text-align: right;\n",
              "    }\n",
              "</style>\n",
              "<table border=\"1\" class=\"dataframe\">\n",
              "  <thead>\n",
              "    <tr style=\"text-align: right;\">\n",
              "      <th></th>\n",
              "      <th>Unnamed: 0</th>\n",
              "      <th>id_komentar</th>\n",
              "      <th>nama_akun</th>\n",
              "      <th>tanggal</th>\n",
              "      <th>text_cleaning</th>\n",
              "      <th>text_cleaning_cleaned</th>\n",
              "      <th>sentimen</th>\n",
              "      <th>text_cleaning_initial</th>\n",
              "      <th>user_counts</th>\n",
              "    </tr>\n",
              "  </thead>\n",
              "  <tbody>\n",
              "    <tr>\n",
              "      <th>976</th>\n",
              "      <td>976</td>\n",
              "      <td>UgzrIme6uSs4MNMLKPF4AaABAg</td>\n",
              "      <td>Albert</td>\n",
              "      <td>2023-06-07 03:03:23+00:00</td>\n",
              "      <td>title berita tak laku at the same time tampil ...</td>\n",
              "      <td>title berita laku at the time tampil data jual...</td>\n",
              "      <td>negatif</td>\n",
              "      <td>title berita tak laku at the sama time tampil ...</td>\n",
              "      <td>2</td>\n",
              "    </tr>\n",
              "    <tr>\n",
              "      <th>1420</th>\n",
              "      <td>1420</td>\n",
              "      <td>UgzdMErvwsK1yxsHxZd4AaABAg</td>\n",
              "      <td>Albert</td>\n",
              "      <td>2023-03-16 07:40:11+00:00</td>\n",
              "      <td>suka banget kak shania bawain berita si cantik...</td>\n",
              "      <td>suka kak shania bawain berita cantik cerdas</td>\n",
              "      <td>negatif</td>\n",
              "      <td>suka banget kak shania bawain berita sih canti...</td>\n",
              "      <td>2</td>\n",
              "    </tr>\n",
              "  </tbody>\n",
              "</table>\n",
              "</div>\n",
              "    <div class=\"colab-df-buttons\">\n",
              "\n",
              "  <div class=\"colab-df-container\">\n",
              "    <button class=\"colab-df-convert\" onclick=\"convertToInteractive('df-d0fa955a-0923-4fd7-b2d0-a8207b663153')\"\n",
              "            title=\"Convert this dataframe to an interactive table.\"\n",
              "            style=\"display:none;\">\n",
              "\n",
              "  <svg xmlns=\"http://www.w3.org/2000/svg\" height=\"24px\" viewBox=\"0 -960 960 960\">\n",
              "    <path d=\"M120-120v-720h720v720H120Zm60-500h600v-160H180v160Zm220 220h160v-160H400v160Zm0 220h160v-160H400v160ZM180-400h160v-160H180v160Zm440 0h160v-160H620v160ZM180-180h160v-160H180v160Zm440 0h160v-160H620v160Z\"/>\n",
              "  </svg>\n",
              "    </button>\n",
              "\n",
              "  <style>\n",
              "    .colab-df-container {\n",
              "      display:flex;\n",
              "      gap: 12px;\n",
              "    }\n",
              "\n",
              "    .colab-df-convert {\n",
              "      background-color: #E8F0FE;\n",
              "      border: none;\n",
              "      border-radius: 50%;\n",
              "      cursor: pointer;\n",
              "      display: none;\n",
              "      fill: #1967D2;\n",
              "      height: 32px;\n",
              "      padding: 0 0 0 0;\n",
              "      width: 32px;\n",
              "    }\n",
              "\n",
              "    .colab-df-convert:hover {\n",
              "      background-color: #E2EBFA;\n",
              "      box-shadow: 0px 1px 2px rgba(60, 64, 67, 0.3), 0px 1px 3px 1px rgba(60, 64, 67, 0.15);\n",
              "      fill: #174EA6;\n",
              "    }\n",
              "\n",
              "    .colab-df-buttons div {\n",
              "      margin-bottom: 4px;\n",
              "    }\n",
              "\n",
              "    [theme=dark] .colab-df-convert {\n",
              "      background-color: #3B4455;\n",
              "      fill: #D2E3FC;\n",
              "    }\n",
              "\n",
              "    [theme=dark] .colab-df-convert:hover {\n",
              "      background-color: #434B5C;\n",
              "      box-shadow: 0px 1px 3px 1px rgba(0, 0, 0, 0.15);\n",
              "      filter: drop-shadow(0px 1px 2px rgba(0, 0, 0, 0.3));\n",
              "      fill: #FFFFFF;\n",
              "    }\n",
              "  </style>\n",
              "\n",
              "    <script>\n",
              "      const buttonEl =\n",
              "        document.querySelector('#df-d0fa955a-0923-4fd7-b2d0-a8207b663153 button.colab-df-convert');\n",
              "      buttonEl.style.display =\n",
              "        google.colab.kernel.accessAllowed ? 'block' : 'none';\n",
              "\n",
              "      async function convertToInteractive(key) {\n",
              "        const element = document.querySelector('#df-d0fa955a-0923-4fd7-b2d0-a8207b663153');\n",
              "        const dataTable =\n",
              "          await google.colab.kernel.invokeFunction('convertToInteractive',\n",
              "                                                    [key], {});\n",
              "        if (!dataTable) return;\n",
              "\n",
              "        const docLinkHtml = 'Like what you see? Visit the ' +\n",
              "          '<a target=\"_blank\" href=https://colab.research.google.com/notebooks/data_table.ipynb>data table notebook</a>'\n",
              "          + ' to learn more about interactive tables.';\n",
              "        element.innerHTML = '';\n",
              "        dataTable['output_type'] = 'display_data';\n",
              "        await google.colab.output.renderOutput(dataTable, element);\n",
              "        const docLink = document.createElement('div');\n",
              "        docLink.innerHTML = docLinkHtml;\n",
              "        element.appendChild(docLink);\n",
              "      }\n",
              "    </script>\n",
              "  </div>\n",
              "\n",
              "\n",
              "<div id=\"df-845b6786-b527-47f5-b77a-b5bec77cf726\">\n",
              "  <button class=\"colab-df-quickchart\" onclick=\"quickchart('df-845b6786-b527-47f5-b77a-b5bec77cf726')\"\n",
              "            title=\"Suggest charts\"\n",
              "            style=\"display:none;\">\n",
              "\n",
              "<svg xmlns=\"http://www.w3.org/2000/svg\" height=\"24px\"viewBox=\"0 0 24 24\"\n",
              "     width=\"24px\">\n",
              "    <g>\n",
              "        <path d=\"M19 3H5c-1.1 0-2 .9-2 2v14c0 1.1.9 2 2 2h14c1.1 0 2-.9 2-2V5c0-1.1-.9-2-2-2zM9 17H7v-7h2v7zm4 0h-2V7h2v10zm4 0h-2v-4h2v4z\"/>\n",
              "    </g>\n",
              "</svg>\n",
              "  </button>\n",
              "\n",
              "<style>\n",
              "  .colab-df-quickchart {\n",
              "      --bg-color: #E8F0FE;\n",
              "      --fill-color: #1967D2;\n",
              "      --hover-bg-color: #E2EBFA;\n",
              "      --hover-fill-color: #174EA6;\n",
              "      --disabled-fill-color: #AAA;\n",
              "      --disabled-bg-color: #DDD;\n",
              "  }\n",
              "\n",
              "  [theme=dark] .colab-df-quickchart {\n",
              "      --bg-color: #3B4455;\n",
              "      --fill-color: #D2E3FC;\n",
              "      --hover-bg-color: #434B5C;\n",
              "      --hover-fill-color: #FFFFFF;\n",
              "      --disabled-bg-color: #3B4455;\n",
              "      --disabled-fill-color: #666;\n",
              "  }\n",
              "\n",
              "  .colab-df-quickchart {\n",
              "    background-color: var(--bg-color);\n",
              "    border: none;\n",
              "    border-radius: 50%;\n",
              "    cursor: pointer;\n",
              "    display: none;\n",
              "    fill: var(--fill-color);\n",
              "    height: 32px;\n",
              "    padding: 0;\n",
              "    width: 32px;\n",
              "  }\n",
              "\n",
              "  .colab-df-quickchart:hover {\n",
              "    background-color: var(--hover-bg-color);\n",
              "    box-shadow: 0 1px 2px rgba(60, 64, 67, 0.3), 0 1px 3px 1px rgba(60, 64, 67, 0.15);\n",
              "    fill: var(--button-hover-fill-color);\n",
              "  }\n",
              "\n",
              "  .colab-df-quickchart-complete:disabled,\n",
              "  .colab-df-quickchart-complete:disabled:hover {\n",
              "    background-color: var(--disabled-bg-color);\n",
              "    fill: var(--disabled-fill-color);\n",
              "    box-shadow: none;\n",
              "  }\n",
              "\n",
              "  .colab-df-spinner {\n",
              "    border: 2px solid var(--fill-color);\n",
              "    border-color: transparent;\n",
              "    border-bottom-color: var(--fill-color);\n",
              "    animation:\n",
              "      spin 1s steps(1) infinite;\n",
              "  }\n",
              "\n",
              "  @keyframes spin {\n",
              "    0% {\n",
              "      border-color: transparent;\n",
              "      border-bottom-color: var(--fill-color);\n",
              "      border-left-color: var(--fill-color);\n",
              "    }\n",
              "    20% {\n",
              "      border-color: transparent;\n",
              "      border-left-color: var(--fill-color);\n",
              "      border-top-color: var(--fill-color);\n",
              "    }\n",
              "    30% {\n",
              "      border-color: transparent;\n",
              "      border-left-color: var(--fill-color);\n",
              "      border-top-color: var(--fill-color);\n",
              "      border-right-color: var(--fill-color);\n",
              "    }\n",
              "    40% {\n",
              "      border-color: transparent;\n",
              "      border-right-color: var(--fill-color);\n",
              "      border-top-color: var(--fill-color);\n",
              "    }\n",
              "    60% {\n",
              "      border-color: transparent;\n",
              "      border-right-color: var(--fill-color);\n",
              "    }\n",
              "    80% {\n",
              "      border-color: transparent;\n",
              "      border-right-color: var(--fill-color);\n",
              "      border-bottom-color: var(--fill-color);\n",
              "    }\n",
              "    90% {\n",
              "      border-color: transparent;\n",
              "      border-bottom-color: var(--fill-color);\n",
              "    }\n",
              "  }\n",
              "</style>\n",
              "\n",
              "  <script>\n",
              "    async function quickchart(key) {\n",
              "      const quickchartButtonEl =\n",
              "        document.querySelector('#' + key + ' button');\n",
              "      quickchartButtonEl.disabled = true;  // To prevent multiple clicks.\n",
              "      quickchartButtonEl.classList.add('colab-df-spinner');\n",
              "      try {\n",
              "        const charts = await google.colab.kernel.invokeFunction(\n",
              "            'suggestCharts', [key], {});\n",
              "      } catch (error) {\n",
              "        console.error('Error during call to suggestCharts:', error);\n",
              "      }\n",
              "      quickchartButtonEl.classList.remove('colab-df-spinner');\n",
              "      quickchartButtonEl.classList.add('colab-df-quickchart-complete');\n",
              "    }\n",
              "    (() => {\n",
              "      let quickchartButtonEl =\n",
              "        document.querySelector('#df-845b6786-b527-47f5-b77a-b5bec77cf726 button');\n",
              "      quickchartButtonEl.style.display =\n",
              "        google.colab.kernel.accessAllowed ? 'block' : 'none';\n",
              "    })();\n",
              "  </script>\n",
              "</div>\n",
              "\n",
              "    </div>\n",
              "  </div>\n"
            ],
            "application/vnd.google.colaboratory.intrinsic+json": {
              "type": "dataframe",
              "repr_error": "0"
            }
          },
          "metadata": {},
          "execution_count": 27
        }
      ],
      "source": [
        "# Calculate value counts for each 'nama_akun'\n",
        "df['user_counts'] = df['nama_akun'].map(df['nama_akun'].value_counts())\n",
        "\n",
        "# Filter rows where 'user_counts' > 0\n",
        "df[df['user_counts'] > 1]"
      ]
    },
    {
      "cell_type": "markdown",
      "metadata": {
        "id": "JaWuM_FlSAkI"
      },
      "source": [
        "Tidak ada anomali seperti bot yang berkomentar, karena tidak ada akun yang komen banyak, hanya 2 kali saja"
      ]
    },
    {
      "cell_type": "markdown",
      "metadata": {
        "id": "3L8cT36m0U7e"
      },
      "source": [
        "Mencari kata yang paling banyak muncul"
      ]
    },
    {
      "cell_type": "code",
      "execution_count": null,
      "metadata": {
        "colab": {
          "base_uri": "https://localhost:8080/",
          "height": 422
        },
        "id": "afCu7Gdg0gPA",
        "outputId": "7aa69d71-2585-4e4e-f934-e1ff9b6a2c08"
      },
      "outputs": [
        {
          "output_type": "display_data",
          "data": {
            "text/plain": [
              "<Figure size 1000x500 with 1 Axes>"
            ],
            "image/png": "[encoded data removed]"
          },
          "metadata": {}
        }
      ],
      "source": [
        "from wordcloud import WordCloud\n",
        "\n",
        "# Combine all text into a single string\n",
        "all_text = ' '.join(df['text_cleaning_cleaned'])\n",
        "\n",
        "# Create a WordCloud object\n",
        "wordcloud = WordCloud(width=800, height=400, background_color='white').generate(all_text)\n",
        "\n",
        "# Display the generated image\n",
        "plt.figure(figsize=(10, 5))\n",
        "plt.imshow(wordcloud, interpolation='bilinear')\n",
        "plt.axis(\"off\")\n",
        "plt.show()"
      ]
    },
    {
      "cell_type": "markdown",
      "metadata": {
        "id": "tcBZPM7v2Ist"
      },
      "source": [
        "Dapat dilhat bahwa kata yang paling banyak muncul adalah subsidi, beli, harga, kendara, mahal, ev, dan lainnya"
      ]
    },
    {
      "cell_type": "code",
      "execution_count": null,
      "metadata": {
        "id": "Ci2E5S3QWKCd"
      },
      "outputs": [],
      "source": []
    },
    {
      "cell_type": "code",
      "execution_count": null,
      "metadata": {
        "id": "LOLmWtEyWKAG"
      },
      "outputs": [],
      "source": []
    },
    {
      "cell_type": "code",
      "execution_count": null,
      "metadata": {
        "id": "UulXLVIzWJ92"
      },
      "outputs": [],
      "source": []
    },
    {
      "cell_type": "code",
      "execution_count": null,
      "metadata": {
        "id": "cEdBqUe8WJ7U"
      },
      "outputs": [],
      "source": []
    },
    {
      "cell_type": "code",
      "execution_count": null,
      "metadata": {
        "id": "e0v9aRxNWJ5Q"
      },
      "outputs": [],
      "source": []
    },
    {
      "cell_type": "code",
      "execution_count": null,
      "metadata": {
        "id": "078d-PEFWJ3B"
      },
      "outputs": [],
      "source": []
    },
    {
      "cell_type": "code",
      "execution_count": null,
      "metadata": {
        "id": "8ikJkldgP5Jl"
      },
      "outputs": [],
      "source": []
    },
    {
      "cell_type": "markdown",
      "metadata": {
        "id": "HyJrrQE3WPZ9"
      },
      "source": [
        "##Data Preprocessing"
      ]
    },
    {
      "cell_type": "code",
      "source": [
        "df['sentimen_code'] = df['sentimen'].map({'negatif': 0, 'netral': 1, 'positif': 2})\n",
        "df.head()"
      ],
      "metadata": {
        "colab": {
          "base_uri": "https://localhost:8080/",
          "height": 504
        },
        "id": "VlRI4UacQAhR",
        "outputId": "a093bfb8-3df8-483c-aea1-58e58824842f"
      },
      "execution_count": null,
      "outputs": [
        {
          "output_type": "execute_result",
          "data": {
            "text/plain": [
              "   Unnamed: 0                 id_komentar        nama_akun  \\\n",
              "0           0  Ugzbll5eyrIy3-gdUUJ4AaABAg          Sqn Ldr   \n",
              "1           1  UgzEDUiV3OTrV943p8p4AaABAg       lushen ace   \n",
              "2           2  UgwqJqu6JMF4EH2CsVV4AaABAg  Fatih Al-Ayyubi   \n",
              "3           3  UgyYicCMR1rKwuOj2Y14AaABAg        yp office   \n",
              "4           4  UgxKAcLuAwZOQK6es-x4AaABAg    Lembur Kuring   \n",
              "\n",
              "                     tanggal  \\\n",
              "0  2023-08-06 12:54:49+00:00   \n",
              "1  2023-08-04 12:16:23+00:00   \n",
              "2  2023-08-04 10:17:57+00:00   \n",
              "3  2023-08-04 08:29:54+00:00   \n",
              "4  2023-08-04 07:55:37+00:00   \n",
              "\n",
              "                                       text_cleaning  \\\n",
              "0  saran sih bikin   harga ionic sama kayak brio ...   \n",
              "1  problem subsidi kualitas diturunin harga dinai...   \n",
              "2  baik kualitas kembang dulu baik kualitas motor...   \n",
              "3       model jelek kwalitas buruk harga mahal croot   \n",
              "4  syarat   ngaco woy anak muda   blom punya ruma...   \n",
              "\n",
              "                               text_cleaning_cleaned sentimen  \\\n",
              "0           saran bikin harga ionic brio laris manis  positif   \n",
              "1  problem subsidi kualitas diturunin harga naik ...  negatif   \n",
              "2  kualitas kembang kualitas motor motor pabrikan...  positif   \n",
              "3        model jelek kualitas buruk harga mahal crot  negatif   \n",
              "4  syarat kacau anak muda rumah usaha mikro tenga...  negatif   \n",
              "\n",
              "                               text_cleaning_initial  user_counts  \\\n",
              "0  saran sih bikin   harga ionic sama kayak brio ...            1   \n",
              "1  problem subsidi kualitas diturunin harga dinai...            1   \n",
              "2  baik kualitas kembang dulu baik kualitas motor...            1   \n",
              "3        model jelek kualitas buruk harga mahal crot            1   \n",
              "4  syarat   kacau oi anak muda   belum punya ruma...            1   \n",
              "\n",
              "   sentimen_code  \n",
              "0              2  \n",
              "1              0  \n",
              "2              2  \n",
              "3              0  \n",
              "4              0  "
            ],
            "text/html": [
              "\n",
              "  <div id=\"df-2a35c1e8-1297-4cdc-a744-bdfd780894a4\" class=\"colab-df-container\">\n",
              "    <div>\n",
              "<style scoped>\n",
              "    .dataframe tbody tr th:only-of-type {\n",
              "        vertical-align: middle;\n",
              "    }\n",
              "\n",
              "    .dataframe tbody tr th {\n",
              "        vertical-align: top;\n",
              "    }\n",
              "\n",
              "    .dataframe thead th {\n",
              "        text-align: right;\n",
              "    }\n",
              "</style>\n",
              "<table border=\"1\" class=\"dataframe\">\n",
              "  <thead>\n",
              "    <tr style=\"text-align: right;\">\n",
              "      <th></th>\n",
              "      <th>Unnamed: 0</th>\n",
              "      <th>id_komentar</th>\n",
              "      <th>nama_akun</th>\n",
              "      <th>tanggal</th>\n",
              "      <th>text_cleaning</th>\n",
              "      <th>text_cleaning_cleaned</th>\n",
              "      <th>sentimen</th>\n",
              "      <th>text_cleaning_initial</th>\n",
              "      <th>user_counts</th>\n",
              "      <th>sentimen_code</th>\n",
              "    </tr>\n",
              "  </thead>\n",
              "  <tbody>\n",
              "    <tr>\n",
              "      <th>0</th>\n",
              "      <td>0</td>\n",
              "      <td>Ugzbll5eyrIy3-gdUUJ4AaABAg</td>\n",
              "      <td>Sqn Ldr</td>\n",
              "      <td>2023-08-06 12:54:49+00:00</td>\n",
              "      <td>saran sih bikin   harga ionic sama kayak brio ...</td>\n",
              "      <td>saran bikin harga ionic brio laris manis</td>\n",
              "      <td>positif</td>\n",
              "      <td>saran sih bikin   harga ionic sama kayak brio ...</td>\n",
              "      <td>1</td>\n",
              "      <td>2</td>\n",
              "    </tr>\n",
              "    <tr>\n",
              "      <th>1</th>\n",
              "      <td>1</td>\n",
              "      <td>UgzEDUiV3OTrV943p8p4AaABAg</td>\n",
              "      <td>lushen ace</td>\n",
              "      <td>2023-08-04 12:16:23+00:00</td>\n",
              "      <td>problem subsidi kualitas diturunin harga dinai...</td>\n",
              "      <td>problem subsidi kualitas diturunin harga naik ...</td>\n",
              "      <td>negatif</td>\n",
              "      <td>problem subsidi kualitas diturunin harga dinai...</td>\n",
              "      <td>1</td>\n",
              "      <td>0</td>\n",
              "    </tr>\n",
              "    <tr>\n",
              "      <th>2</th>\n",
              "      <td>2</td>\n",
              "      <td>UgwqJqu6JMF4EH2CsVV4AaABAg</td>\n",
              "      <td>Fatih Al-Ayyubi</td>\n",
              "      <td>2023-08-04 10:17:57+00:00</td>\n",
              "      <td>baik kualitas kembang dulu baik kualitas motor...</td>\n",
              "      <td>kualitas kembang kualitas motor motor pabrikan...</td>\n",
              "      <td>positif</td>\n",
              "      <td>baik kualitas kembang dulu baik kualitas motor...</td>\n",
              "      <td>1</td>\n",
              "      <td>2</td>\n",
              "    </tr>\n",
              "    <tr>\n",
              "      <th>3</th>\n",
              "      <td>3</td>\n",
              "      <td>UgyYicCMR1rKwuOj2Y14AaABAg</td>\n",
              "      <td>yp office</td>\n",
              "      <td>2023-08-04 08:29:54+00:00</td>\n",
              "      <td>model jelek kwalitas buruk harga mahal croot</td>\n",
              "      <td>model jelek kualitas buruk harga mahal crot</td>\n",
              "      <td>negatif</td>\n",
              "      <td>model jelek kualitas buruk harga mahal crot</td>\n",
              "      <td>1</td>\n",
              "      <td>0</td>\n",
              "    </tr>\n",
              "    <tr>\n",
              "      <th>4</th>\n",
              "      <td>4</td>\n",
              "      <td>UgxKAcLuAwZOQK6es-x4AaABAg</td>\n",
              "      <td>Lembur Kuring</td>\n",
              "      <td>2023-08-04 07:55:37+00:00</td>\n",
              "      <td>syarat   ngaco woy anak muda   blom punya ruma...</td>\n",
              "      <td>syarat kacau anak muda rumah usaha mikro tenga...</td>\n",
              "      <td>negatif</td>\n",
              "      <td>syarat   kacau oi anak muda   belum punya ruma...</td>\n",
              "      <td>1</td>\n",
              "      <td>0</td>\n",
              "    </tr>\n",
              "  </tbody>\n",
              "</table>\n",
              "</div>\n",
              "    <div class=\"colab-df-buttons\">\n",
              "\n",
              "  <div class=\"colab-df-container\">\n",
              "    <button class=\"colab-df-convert\" onclick=\"convertToInteractive('df-2a35c1e8-1297-4cdc-a744-bdfd780894a4')\"\n",
              "            title=\"Convert this dataframe to an interactive table.\"\n",
              "            style=\"display:none;\">\n",
              "\n",
              "  <svg xmlns=\"http://www.w3.org/2000/svg\" height=\"24px\" viewBox=\"0 -960 960 960\">\n",
              "    <path d=\"M120-120v-720h720v720H120Zm60-500h600v-160H180v160Zm220 220h160v-160H400v160Zm0 220h160v-160H400v160ZM180-400h160v-160H180v160Zm440 0h160v-160H620v160ZM180-180h160v-160H180v160Zm440 0h160v-160H620v160Z\"/>\n",
              "  </svg>\n",
              "    </button>\n",
              "\n",
              "  <style>\n",
              "    .colab-df-container {\n",
              "      display:flex;\n",
              "      gap: 12px;\n",
              "    }\n",
              "\n",
              "    .colab-df-convert {\n",
              "      background-color: #E8F0FE;\n",
              "      border: none;\n",
              "      border-radius: 50%;\n",
              "      cursor: pointer;\n",
              "      display: none;\n",
              "      fill: #1967D2;\n",
              "      height: 32px;\n",
              "      padding: 0 0 0 0;\n",
              "      width: 32px;\n",
              "    }\n",
              "\n",
              "    .colab-df-convert:hover {\n",
              "      background-color: #E2EBFA;\n",
              "      box-shadow: 0px 1px 2px rgba(60, 64, 67, 0.3), 0px 1px 3px 1px rgba(60, 64, 67, 0.15);\n",
              "      fill: #174EA6;\n",
              "    }\n",
              "\n",
              "    .colab-df-buttons div {\n",
              "      margin-bottom: 4px;\n",
              "    }\n",
              "\n",
              "    [theme=dark] .colab-df-convert {\n",
              "      background-color: #3B4455;\n",
              "      fill: #D2E3FC;\n",
              "    }\n",
              "\n",
              "    [theme=dark] .colab-df-convert:hover {\n",
              "      background-color: #434B5C;\n",
              "      box-shadow: 0px 1px 3px 1px rgba(0, 0, 0, 0.15);\n",
              "      filter: drop-shadow(0px 1px 2px rgba(0, 0, 0, 0.3));\n",
              "      fill: #FFFFFF;\n",
              "    }\n",
              "  </style>\n",
              "\n",
              "    <script>\n",
              "      const buttonEl =\n",
              "        document.querySelector('#df-2a35c1e8-1297-4cdc-a744-bdfd780894a4 button.colab-df-convert');\n",
              "      buttonEl.style.display =\n",
              "        google.colab.kernel.accessAllowed ? 'block' : 'none';\n",
              "\n",
              "      async function convertToInteractive(key) {\n",
              "        const element = document.querySelector('#df-2a35c1e8-1297-4cdc-a744-bdfd780894a4');\n",
              "        const dataTable =\n",
              "          await google.colab.kernel.invokeFunction('convertToInteractive',\n",
              "                                                    [key], {});\n",
              "        if (!dataTable) return;\n",
              "\n",
              "        const docLinkHtml = 'Like what you see? Visit the ' +\n",
              "          '<a target=\"_blank\" href=https://colab.research.google.com/notebooks/data_table.ipynb>data table notebook</a>'\n",
              "          + ' to learn more about interactive tables.';\n",
              "        element.innerHTML = '';\n",
              "        dataTable['output_type'] = 'display_data';\n",
              "        await google.colab.output.renderOutput(dataTable, element);\n",
              "        const docLink = document.createElement('div');\n",
              "        docLink.innerHTML = docLinkHtml;\n",
              "        element.appendChild(docLink);\n",
              "      }\n",
              "    </script>\n",
              "  </div>\n",
              "\n",
              "\n",
              "<div id=\"df-35d87f5c-8d12-482b-bdc8-35660252960a\">\n",
              "  <button class=\"colab-df-quickchart\" onclick=\"quickchart('df-35d87f5c-8d12-482b-bdc8-35660252960a')\"\n",
              "            title=\"Suggest charts\"\n",
              "            style=\"display:none;\">\n",
              "\n",
              "<svg xmlns=\"http://www.w3.org/2000/svg\" height=\"24px\"viewBox=\"0 0 24 24\"\n",
              "     width=\"24px\">\n",
              "    <g>\n",
              "        <path d=\"M19 3H5c-1.1 0-2 .9-2 2v14c0 1.1.9 2 2 2h14c1.1 0 2-.9 2-2V5c0-1.1-.9-2-2-2zM9 17H7v-7h2v7zm4 0h-2V7h2v10zm4 0h-2v-4h2v4z\"/>\n",
              "    </g>\n",
              "</svg>\n",
              "  </button>\n",
              "\n",
              "<style>\n",
              "  .colab-df-quickchart {\n",
              "      --bg-color: #E8F0FE;\n",
              "      --fill-color: #1967D2;\n",
              "      --hover-bg-color: #E2EBFA;\n",
              "      --hover-fill-color: #174EA6;\n",
              "      --disabled-fill-color: #AAA;\n",
              "      --disabled-bg-color: #DDD;\n",
              "  }\n",
              "\n",
              "  [theme=dark] .colab-df-quickchart {\n",
              "      --bg-color: #3B4455;\n",
              "      --fill-color: #D2E3FC;\n",
              "      --hover-bg-color: #434B5C;\n",
              "      --hover-fill-color: #FFFFFF;\n",
              "      --disabled-bg-color: #3B4455;\n",
              "      --disabled-fill-color: #666;\n",
              "  }\n",
              "\n",
              "  .colab-df-quickchart {\n",
              "    background-color: var(--bg-color);\n",
              "    border: none;\n",
              "    border-radius: 50%;\n",
              "    cursor: pointer;\n",
              "    display: none;\n",
              "    fill: var(--fill-color);\n",
              "    height: 32px;\n",
              "    padding: 0;\n",
              "    width: 32px;\n",
              "  }\n",
              "\n",
              "  .colab-df-quickchart:hover {\n",
              "    background-color: var(--hover-bg-color);\n",
              "    box-shadow: 0 1px 2px rgba(60, 64, 67, 0.3), 0 1px 3px 1px rgba(60, 64, 67, 0.15);\n",
              "    fill: var(--button-hover-fill-color);\n",
              "  }\n",
              "\n",
              "  .colab-df-quickchart-complete:disabled,\n",
              "  .colab-df-quickchart-complete:disabled:hover {\n",
              "    background-color: var(--disabled-bg-color);\n",
              "    fill: var(--disabled-fill-color);\n",
              "    box-shadow: none;\n",
              "  }\n",
              "\n",
              "  .colab-df-spinner {\n",
              "    border: 2px solid var(--fill-color);\n",
              "    border-color: transparent;\n",
              "    border-bottom-color: var(--fill-color);\n",
              "    animation:\n",
              "      spin 1s steps(1) infinite;\n",
              "  }\n",
              "\n",
              "  @keyframes spin {\n",
              "    0% {\n",
              "      border-color: transparent;\n",
              "      border-bottom-color: var(--fill-color);\n",
              "      border-left-color: var(--fill-color);\n",
              "    }\n",
              "    20% {\n",
              "      border-color: transparent;\n",
              "      border-left-color: var(--fill-color);\n",
              "      border-top-color: var(--fill-color);\n",
              "    }\n",
              "    30% {\n",
              "      border-color: transparent;\n",
              "      border-left-color: var(--fill-color);\n",
              "      border-top-color: var(--fill-color);\n",
              "      border-right-color: var(--fill-color);\n",
              "    }\n",
              "    40% {\n",
              "      border-color: transparent;\n",
              "      border-right-color: var(--fill-color);\n",
              "      border-top-color: var(--fill-color);\n",
              "    }\n",
              "    60% {\n",
              "      border-color: transparent;\n",
              "      border-right-color: var(--fill-color);\n",
              "    }\n",
              "    80% {\n",
              "      border-color: transparent;\n",
              "      border-right-color: var(--fill-color);\n",
              "      border-bottom-color: var(--fill-color);\n",
              "    }\n",
              "    90% {\n",
              "      border-color: transparent;\n",
              "      border-bottom-color: var(--fill-color);\n",
              "    }\n",
              "  }\n",
              "</style>\n",
              "\n",
              "  <script>\n",
              "    async function quickchart(key) {\n",
              "      const quickchartButtonEl =\n",
              "        document.querySelector('#' + key + ' button');\n",
              "      quickchartButtonEl.disabled = true;  // To prevent multiple clicks.\n",
              "      quickchartButtonEl.classList.add('colab-df-spinner');\n",
              "      try {\n",
              "        const charts = await google.colab.kernel.invokeFunction(\n",
              "            'suggestCharts', [key], {});\n",
              "      } catch (error) {\n",
              "        console.error('Error during call to suggestCharts:', error);\n",
              "      }\n",
              "      quickchartButtonEl.classList.remove('colab-df-spinner');\n",
              "      quickchartButtonEl.classList.add('colab-df-quickchart-complete');\n",
              "    }\n",
              "    (() => {\n",
              "      let quickchartButtonEl =\n",
              "        document.querySelector('#df-35d87f5c-8d12-482b-bdc8-35660252960a button');\n",
              "      quickchartButtonEl.style.display =\n",
              "        google.colab.kernel.accessAllowed ? 'block' : 'none';\n",
              "    })();\n",
              "  </script>\n",
              "</div>\n",
              "\n",
              "    </div>\n",
              "  </div>\n"
            ],
            "application/vnd.google.colaboratory.intrinsic+json": {
              "type": "dataframe",
              "variable_name": "df",
              "summary": "{\n  \"name\": \"df\",\n  \"rows\": 1513,\n  \"fields\": [\n    {\n      \"column\": \"Unnamed: 0\",\n      \"properties\": {\n        \"dtype\": \"number\",\n        \"std\": 437,\n        \"min\": 0,\n        \"max\": 1516,\n        \"num_unique_values\": 1513,\n        \"samples\": [\n          1002,\n          619,\n          807\n        ],\n        \"semantic_type\": \"\",\n        \"description\": \"\"\n      }\n    },\n    {\n      \"column\": \"id_komentar\",\n      \"properties\": {\n        \"dtype\": \"string\",\n        \"num_unique_values\": 1513,\n        \"samples\": [\n          \"Ugzh19jpMWtcVmB9UoJ4AaABAg\",\n          \"Ugwpz5d2DUk6vXrNtDF4AaABAg\",\n          \"UgzbxpKIMarQaRh6s_l4AaABAg\"\n        ],\n        \"semantic_type\": \"\",\n        \"description\": \"\"\n      }\n    },\n    {\n      \"column\": \"nama_akun\",\n      \"properties\": {\n        \"dtype\": \"string\",\n        \"num_unique_values\": 1512,\n        \"samples\": [\n          \"Johandi Suryadi\",\n          \"Yadi Yadi\",\n          \"Deny Noegraha\"\n        ],\n        \"semantic_type\": \"\",\n        \"description\": \"\"\n      }\n    },\n    {\n      \"column\": \"tanggal\",\n      \"properties\": {\n        \"dtype\": \"object\",\n        \"num_unique_values\": 1510,\n        \"samples\": [\n          \"2023-06-07 04:56:10+00:00\",\n          \"2023-06-08 00:28:16+00:00\",\n          \"2023-06-07 04:16:45+00:00\"\n        ],\n        \"semantic_type\": \"\",\n        \"description\": \"\"\n      }\n    },\n    {\n      \"column\": \"text_cleaning\",\n      \"properties\": {\n        \"dtype\": \"string\",\n        \"num_unique_values\": 1512,\n        \"samples\": [\n          \"biaya mahal blm biaya pasang ev charging rumah   mahal station isi daya jg blm banyak lebih baik perintah utama   kendara angkut umum dulu banyak angkut umum lebih utama\",\n          \"mahal banyak gaya banyak mafia\",\n          \"lebih pilih kendara bahan bakar fosil\"\n        ],\n        \"semantic_type\": \"\",\n        \"description\": \"\"\n      }\n    },\n    {\n      \"column\": \"text_cleaning_cleaned\",\n      \"properties\": {\n        \"dtype\": \"string\",\n        \"num_unique_values\": 1496,\n        \"samples\": [\n          \"tani subsidi\",\n          \"motor uji bandel motor bahan bakar minyak\",\n          \"rakyat sembako murah\"\n        ],\n        \"semantic_type\": \"\",\n        \"description\": \"\"\n      }\n    },\n    {\n      \"column\": \"sentimen\",\n      \"properties\": {\n        \"dtype\": \"category\",\n        \"num_unique_values\": 3,\n        \"samples\": [\n          \"positif\",\n          \"negatif\",\n          \"netral\"\n        ],\n        \"semantic_type\": \"\",\n        \"description\": \"\"\n      }\n    },\n    {\n      \"column\": \"text_cleaning_initial\",\n      \"properties\": {\n        \"dtype\": \"string\",\n        \"num_unique_values\": 1512,\n        \"samples\": [\n          \"biaya mahal belum biaya pasang ev charging rumah   mahal station isi daya juga belum banyak lebih baik perintah utama   kendara angkut umum dulu banyak angkut umum lebih utama\",\n          \"mahal banyak gaya banyak mafia\",\n          \"lebih pilih kendara bahan bakar fosil\"\n        ],\n        \"semantic_type\": \"\",\n        \"description\": \"\"\n      }\n    },\n    {\n      \"column\": \"user_counts\",\n      \"properties\": {\n        \"dtype\": \"number\",\n        \"std\": 0,\n        \"min\": 1,\n        \"max\": 2,\n        \"num_unique_values\": 2,\n        \"samples\": [\n          2,\n          1\n        ],\n        \"semantic_type\": \"\",\n        \"description\": \"\"\n      }\n    },\n    {\n      \"column\": \"sentimen_code\",\n      \"properties\": {\n        \"dtype\": \"number\",\n        \"std\": 0,\n        \"min\": 0,\n        \"max\": 2,\n        \"num_unique_values\": 3,\n        \"samples\": [\n          2,\n          0\n        ],\n        \"semantic_type\": \"\",\n        \"description\": \"\"\n      }\n    }\n  ]\n}"
            }
          },
          "metadata": {},
          "execution_count": 29
        }
      ]
    },
    {
      "cell_type": "code",
      "execution_count": null,
      "metadata": {
        "id": "CWMXd6CHWkSd"
      },
      "outputs": [],
      "source": [
        "# df_preprocessed = df.copy()\n",
        "# df_preprocessed = df_preprocessed.drop(columns=['id_komentar', 'nama_akun', 'tanggal', 'text_cleaning', 'user_counts'])\n",
        "\n",
        "X = tfidf_matrix\n",
        "y = df['sentimen_code']\n",
        "\n",
        "# df_preprocessed.head()"
      ]
    },
    {
      "cell_type": "code",
      "execution_count": null,
      "metadata": {
        "id": "zt3-5obcWQQB"
      },
      "outputs": [],
      "source": [
        "from sklearn.model_selection import train_test_split\n",
        "\n",
        "X_train, X_test, y_train, y_test = train_test_split(tfidf_matrix, y, test_size=0.35, random_state=42)"
      ]
    },
    {
      "cell_type": "markdown",
      "metadata": {
        "id": "5WGsVlNvXwcB"
      },
      "source": [
        "Mengatasi imbalance data dengan SMOTE pada data train"
      ]
    },
    {
      "cell_type": "code",
      "execution_count": null,
      "metadata": {
        "id": "EwBWwQVhWQNz"
      },
      "outputs": [],
      "source": [
        "from imblearn.over_sampling import SMOTE\n",
        "\n",
        "# Terapkan SMOTE pada data pelatihan\n",
        "smote = SMOTE(random_state=42)\n",
        "X_train_smote, y_train_smote = smote.fit_resample(X_train, y_train)"
      ]
    },
    {
      "cell_type": "code",
      "source": [
        "X_train_smote"
      ],
      "metadata": {
        "colab": {
          "base_uri": "https://localhost:8080/"
        },
        "id": "9GkQt9nYOp0B",
        "outputId": "23af0033-cc50-41ef-816f-417b2644cac9"
      },
      "execution_count": null,
      "outputs": [
        {
          "output_type": "execute_result",
          "data": {
            "text/plain": [
              "<1707x3042 sparse matrix of type '<class 'numpy.float64'>'\n",
              "\twith 18044 stored elements in Compressed Sparse Row format>"
            ]
          },
          "metadata": {},
          "execution_count": 33
        }
      ]
    },
    {
      "cell_type": "code",
      "execution_count": null,
      "metadata": {
        "colab": {
          "base_uri": "https://localhost:8080/",
          "height": 472
        },
        "id": "AmO8RSaOWQLb",
        "outputId": "7b93e1a3-685c-427f-ba04-dbc666b01a19"
      },
      "outputs": [
        {
          "output_type": "display_data",
          "data": {
            "text/plain": [
              "<Figure size 640x480 with 1 Axes>"
            ],
            "image/png": "[encoded data removed]"
          },
          "metadata": {}
        }
      ],
      "source": [
        "import seaborn as sns\n",
        "import matplotlib.pyplot as plt\n",
        "\n",
        "# Count the occurrences of each sentiment category\n",
        "sentiment_counts_smote = y_train_smote.value_counts()\n",
        "plot = sns.barplot(x=sentiment_counts_smote.index, y=sentiment_counts_smote.values)\n",
        "plt.xlabel('Sentiment')\n",
        "plt.ylabel('Count')\n",
        "plt.title('Distribution of Sentiments')\n",
        "plt.show()"
      ]
    },
    {
      "cell_type": "markdown",
      "metadata": {
        "id": "NO9P5wZ5ZwGi"
      },
      "source": [
        "Label tiap kelas sudah seimbang, maka dapat dilanjutkan dengan modeling"
      ]
    },
    {
      "cell_type": "markdown",
      "metadata": {
        "id": "o4oHHfBIEOb0"
      },
      "source": [
        "#Modeling & Evaluation"
      ]
    },
    {
      "cell_type": "code",
      "execution_count": null,
      "metadata": {
        "colab": {
          "base_uri": "https://localhost:8080/",
          "height": 74
        },
        "id": "B4i5WyhXZv_J",
        "outputId": "f869b437-0df7-4ec4-8534-b324107105f7"
      },
      "outputs": [
        {
          "output_type": "execute_result",
          "data": {
            "text/plain": [
              "LogisticRegression()"
            ],
            "text/html": [
              "<style>#sk-container-id-1 {color: black;}#sk-container-id-1 pre{padding: 0;}#sk-container-id-1 div.sk-toggleable {background-color: white;}#sk-container-id-1 label.sk-toggleable__label {cursor: pointer;display: block;width: 100%;margin-bottom: 0;padding: 0.3em;box-sizing: border-box;text-align: center;}#sk-container-id-1 label.sk-toggleable__label-arrow:before {content: \"▸\";float: left;margin-right: 0.25em;color: #696969;}#sk-container-id-1 label.sk-toggleable__label-arrow:hover:before {color: black;}#sk-container-id-1 div.sk-estimator:hover label.sk-toggleable__label-arrow:before {color: black;}#sk-container-id-1 div.sk-toggleable__content {max-height: 0;max-width: 0;overflow: hidden;text-align: left;background-color: #f0f8ff;}#sk-container-id-1 div.sk-toggleable__content pre {margin: 0.2em;color: black;border-radius: 0.25em;background-color: #f0f8ff;}#sk-container-id-1 input.sk-toggleable__control:checked~div.sk-toggleable__content {max-height: 200px;max-width: 100%;overflow: auto;}#sk-container-id-1 input.sk-toggleable__control:checked~label.sk-toggleable__label-arrow:before {content: \"▾\";}#sk-container-id-1 div.sk-estimator input.sk-toggleable__control:checked~label.sk-toggleable__label {background-color: #d4ebff;}#sk-container-id-1 div.sk-label input.sk-toggleable__control:checked~label.sk-toggleable__label {background-color: #d4ebff;}#sk-container-id-1 input.sk-hidden--visually {border: 0;clip: rect(1px 1px 1px 1px);clip: rect(1px, 1px, 1px, 1px);height: 1px;margin: -1px;overflow: hidden;padding: 0;position: absolute;width: 1px;}#sk-container-id-1 div.sk-estimator {font-family: monospace;background-color: #f0f8ff;border: 1px dotted black;border-radius: 0.25em;box-sizing: border-box;margin-bottom: 0.5em;}#sk-container-id-1 div.sk-estimator:hover {background-color: #d4ebff;}#sk-container-id-1 div.sk-parallel-item::after {content: \"\";width: 100%;border-bottom: 1px solid gray;flex-grow: 1;}#sk-container-id-1 div.sk-label:hover label.sk-toggleable__label {background-color: #d4ebff;}#sk-container-id-1 div.sk-serial::before {content: \"\";position: absolute;border-left: 1px solid gray;box-sizing: border-box;top: 0;bottom: 0;left: 50%;z-index: 0;}#sk-container-id-1 div.sk-serial {display: flex;flex-direction: column;align-items: center;background-color: white;padding-right: 0.2em;padding-left: 0.2em;position: relative;}#sk-container-id-1 div.sk-item {position: relative;z-index: 1;}#sk-container-id-1 div.sk-parallel {display: flex;align-items: stretch;justify-content: center;background-color: white;position: relative;}#sk-container-id-1 div.sk-item::before, #sk-container-id-1 div.sk-parallel-item::before {content: \"\";position: absolute;border-left: 1px solid gray;box-sizing: border-box;top: 0;bottom: 0;left: 50%;z-index: -1;}#sk-container-id-1 div.sk-parallel-item {display: flex;flex-direction: column;z-index: 1;position: relative;background-color: white;}#sk-container-id-1 div.sk-parallel-item:first-child::after {align-self: flex-end;width: 50%;}#sk-container-id-1 div.sk-parallel-item:last-child::after {align-self: flex-start;width: 50%;}#sk-container-id-1 div.sk-parallel-item:only-child::after {width: 0;}#sk-container-id-1 div.sk-dashed-wrapped {border: 1px dashed gray;margin: 0 0.4em 0.5em 0.4em;box-sizing: border-box;padding-bottom: 0.4em;background-color: white;}#sk-container-id-1 div.sk-label label {font-family: monospace;font-weight: bold;display: inline-block;line-height: 1.2em;}#sk-container-id-1 div.sk-label-container {text-align: center;}#sk-container-id-1 div.sk-container {/* jupyter's `normalize.less` sets `[hidden] { display: none; }` but bootstrap.min.css set `[hidden] { display: none !important; }` so we also need the `!important` here to be able to override the default hidden behavior on the sphinx rendered scikit-learn.org. See: https://github.com/scikit-learn/scikit-learn/issues/21755 */display: inline-block !important;position: relative;}#sk-container-id-1 div.sk-text-repr-fallback {display: none;}</style><div id=\"sk-container-id-1\" class=\"sk-top-container\"><div class=\"sk-text-repr-fallback\"><pre>LogisticRegression()</pre><b>In a Jupyter environment, please rerun this cell to show the HTML representation or trust the notebook. <br />On GitHub, the HTML representation is unable to render, please try loading this page with nbviewer.org.</b></div><div class=\"sk-container\" hidden><div class=\"sk-item\"><div class=\"sk-estimator sk-toggleable\"><input class=\"sk-toggleable__control sk-hidden--visually\" id=\"sk-estimator-id-1\" type=\"checkbox\" checked><label for=\"sk-estimator-id-1\" class=\"sk-toggleable__label sk-toggleable__label-arrow\">LogisticRegression</label><div class=\"sk-toggleable__content\"><pre>LogisticRegression()</pre></div></div></div></div></div>"
            ]
          },
          "metadata": {},
          "execution_count": 35
        }
      ],
      "source": [
        "from sklearn.linear_model import LogisticRegression\n",
        "\n",
        "# Buat dan latih model\n",
        "model = LogisticRegression()\n",
        "model.fit(X_train_smote, y_train_smote)"
      ]
    },
    {
      "cell_type": "code",
      "execution_count": null,
      "metadata": {
        "colab": {
          "base_uri": "https://localhost:8080/"
        },
        "id": "0TLpYaKiZajK",
        "outputId": "55b414dd-e609-4eca-b260-abe97a6eab90"
      },
      "outputs": [
        {
          "output_type": "execute_result",
          "data": {
            "text/plain": [
              "array([2, 0, 0, 0, 0, 0, 0, 0, 2, 0, 1, 2, 2, 0, 0, 0, 0, 2, 0, 0, 0, 0,\n",
              "       0, 0, 0, 0, 0, 2, 0, 2, 2, 0, 0, 0, 0, 2, 2, 2, 0, 0, 2, 0, 0, 0,\n",
              "       0, 0, 0, 0, 0, 0, 2, 0, 0, 2, 0, 2, 0, 2, 0, 0, 0, 0, 0, 0, 0, 0,\n",
              "       1, 2, 0, 0, 0, 0, 0, 0, 0, 0, 2, 2, 2, 0, 2, 0, 0, 0, 2, 0, 0, 0,\n",
              "       0, 2, 0, 0, 0, 2, 0, 2, 2, 2, 0, 0, 2, 0, 2, 0, 2, 0, 0, 1, 0, 2,\n",
              "       2, 0, 0, 1, 2, 1, 2, 1, 0, 0, 1, 0, 0, 2, 0, 1, 0, 0, 0, 0, 2, 0,\n",
              "       0, 0, 0, 0, 0, 0, 1, 0, 2, 0, 0, 2, 2, 2, 2, 0, 2, 2, 1, 0, 0, 0,\n",
              "       0, 0, 0, 2, 2, 0, 0, 0, 2, 0, 2, 2, 0, 0, 2, 2, 2, 0, 0, 0, 0, 2,\n",
              "       0, 2, 0, 0, 2, 2, 0, 2, 2, 0, 0, 2, 0, 0, 0, 0, 0, 0, 0, 1, 0, 0,\n",
              "       1, 2, 0, 0, 0, 0, 1, 0, 0, 1, 0, 0, 0, 1, 2, 0, 0, 0, 0, 2, 2, 0,\n",
              "       0, 0, 0, 0, 2, 0, 2, 0, 0, 0, 0, 0, 0, 0, 0, 0, 2, 1, 0, 0, 2, 1,\n",
              "       1, 0, 0, 2, 2, 2, 0, 0, 0, 0, 2, 2, 0, 1, 2, 2, 0, 2, 0, 2, 2, 0,\n",
              "       2, 0, 0, 2, 0, 0, 2, 1, 0, 1, 0, 0, 1, 0, 2, 0, 1, 2, 0, 0, 0, 2,\n",
              "       1, 0, 0, 2, 0, 1, 0, 1, 1, 0, 0, 0, 0, 2, 2, 2, 0, 0, 2, 2, 1, 2,\n",
              "       0, 2, 0, 2, 0, 0, 0, 0, 0, 0, 0, 2, 1, 0, 0, 0, 0, 0, 0, 2, 0, 0,\n",
              "       1, 0, 0, 2, 0, 0, 0, 2, 2, 2, 0, 2, 0, 0, 0, 0, 0, 0, 0, 0, 0, 0,\n",
              "       0, 2, 0, 0, 0, 2, 0, 2, 0, 0, 2, 0, 0, 0, 0, 2, 0, 0, 0, 0, 0, 2,\n",
              "       2, 2, 0, 0, 2, 2, 1, 0, 0, 2, 0, 0, 0, 0, 0, 2, 1, 0, 0, 0, 0, 0,\n",
              "       0, 0, 1, 0, 2, 1, 2, 0, 0, 0, 2, 0, 0, 0, 0, 0, 0, 0, 2, 0, 0, 0,\n",
              "       0, 0, 0, 0, 0, 0, 0, 0, 0, 2, 2, 0, 2, 1, 0, 0, 2, 0, 2, 0, 1, 2,\n",
              "       0, 2, 1, 2, 0, 0, 0, 2, 0, 2, 0, 2, 2, 2, 1, 0, 0, 0, 0, 0, 0, 0,\n",
              "       0, 0, 0, 2, 0, 0, 2, 0, 0, 0, 0, 2, 0, 2, 2, 0, 2, 0, 2, 0, 0, 2,\n",
              "       0, 0, 2, 1, 0, 0, 0, 0, 0, 0, 2, 0, 2, 0, 2, 0, 0, 2, 0, 2, 1, 0,\n",
              "       0, 0, 0, 0, 0, 0, 2, 2, 2, 0, 1, 0, 0, 0, 2, 0, 2, 0, 0, 2, 2, 2,\n",
              "       2, 0])"
            ]
          },
          "metadata": {},
          "execution_count": 36
        }
      ],
      "source": [
        "model.predict(X_test)"
      ]
    },
    {
      "cell_type": "code",
      "execution_count": null,
      "metadata": {
        "colab": {
          "base_uri": "https://localhost:8080/"
        },
        "id": "_Ku-jEwIWP1k",
        "outputId": "3bb3452d-376c-4913-aab5-31fadaef877a"
      },
      "outputs": [
        {
          "output_type": "stream",
          "name": "stdout",
          "text": [
            "Accuracy: 0.6509433962264151\n",
            "Precision: 0.6366935750773436\n",
            "Recall: 0.6509433962264151\n",
            "F1-score: 0.6403426860744862\n",
            "Confusion Matrix:\n",
            " [[240  17  42]\n",
            " [ 28  11  14]\n",
            " [ 71  13  94]]\n"
          ]
        }
      ],
      "source": [
        "from sklearn.metrics import accuracy_score, precision_score, recall_score, f1_score, confusion_matrix\n",
        "\n",
        "# Prediksi pada data uji\n",
        "y_pred = model.predict(X_test)\n",
        "\n",
        "# Hitung metrik evaluasi\n",
        "accuracy = accuracy_score(y_test, y_pred)\n",
        "precision = precision_score(y_test, y_pred, average='weighted')\n",
        "recall = recall_score(y_test, y_pred, average='weighted')\n",
        "f1 = f1_score(y_test, y_pred, average='weighted')\n",
        "\n",
        "# Tampilkan metrik evaluasi\n",
        "print(f'Accuracy: {accuracy}')\n",
        "print(f'Precision: {precision}')\n",
        "print(f'Recall: {recall}')\n",
        "print(f'F1-score: {f1}')\n",
        "\n",
        "# Tampilkan confusion matrix\n",
        "cm = confusion_matrix(y_test, y_pred)\n",
        "print(f'Confusion Matrix:\\n {cm}')\n"
      ]
    },
    {
      "cell_type": "code",
      "source": [
        "# prompt: Aesthetics confusion matrix\n",
        "\n",
        "# Plot the confusion matrix\n",
        "plt.figure(figsize=(8, 6))\n",
        "sns.heatmap(cm, annot=True, fmt=\"d\", cmap=\"Blues\",\n",
        "            xticklabels=['Negatif', 'Netral', 'Positif'],\n",
        "            yticklabels=['Negatif', 'Netral', 'Positif'])\n",
        "plt.title('Confusion Matrix')\n",
        "plt.xlabel('Predicted Label')\n",
        "plt.ylabel('True Label')\n",
        "plt.show()\n"
      ],
      "metadata": {
        "colab": {
          "base_uri": "https://localhost:8080/",
          "height": 564
        },
        "id": "7FWGqVa1XFIZ",
        "outputId": "466448d5-591d-435f-d100-342a97794441"
      },
      "execution_count": null,
      "outputs": [
        {
          "output_type": "display_data",
          "data": {
            "text/plain": [
              "<Figure size 800x600 with 2 Axes>"
            ],
            "image/png": "[encoded data removed]"
          },
          "metadata": {}
        }
      ]
    },
    {
      "cell_type": "code",
      "execution_count": null,
      "metadata": {
        "colab": {
          "base_uri": "https://localhost:8080/"
        },
        "id": "U-olUGV0QflW",
        "outputId": "fd30faba-138d-4939-e79e-c667e62c3cd7"
      },
      "outputs": [
        {
          "output_type": "stream",
          "name": "stdout",
          "text": [
            "                     Model  Accuracy  Precision    Recall  F1-score\n",
            "0      Logistic Regression  0.650943   0.636694  0.650943  0.640343\n",
            "1  Multinomial Naive Bayes  0.596226   0.621983  0.596226  0.607402\n",
            "2   Support Vector Machine  0.639623   0.627908  0.639623  0.580223\n",
            "3            Decision Tree  0.558491   0.556810  0.558491  0.557530\n",
            "4            Random Forest  0.632075   0.599888  0.632075  0.597684\n",
            "5                  XGBoost  0.641509   0.606809  0.641509  0.617100\n"
          ]
        }
      ],
      "source": [
        "# prompt: use 5 model to compare the best model\n",
        "\n",
        "from sklearn.naive_bayes import MultinomialNB\n",
        "from sklearn.svm import SVC\n",
        "from sklearn.tree import DecisionTreeClassifier\n",
        "from sklearn.ensemble import RandomForestClassifier\n",
        "from xgboost import XGBClassifier\n",
        "\n",
        "# Define models\n",
        "models = [\n",
        "    ('Logistic Regression', LogisticRegression()),\n",
        "    ('Multinomial Naive Bayes', MultinomialNB()),\n",
        "    ('Support Vector Machine', SVC()),\n",
        "    ('Decision Tree', DecisionTreeClassifier()),\n",
        "    ('Random Forest', RandomForestClassifier()),\n",
        "    ('XGBoost', XGBClassifier())\n",
        "]\n",
        "\n",
        "# Train and evaluate each model\n",
        "results = []\n",
        "for name, model in models:\n",
        "  model.fit(X_train_smote, y_train_smote)\n",
        "  y_pred = model.predict(X_test)\n",
        "  accuracy = accuracy_score(y_test, y_pred)\n",
        "  precision = precision_score(y_test, y_pred, average='weighted')\n",
        "  recall = recall_score(y_test, y_pred, average='weighted')\n",
        "  f1 = f1_score(y_test, y_pred, average='weighted')\n",
        "  results.append([name, accuracy, precision, recall, f1])\n",
        "\n",
        "# Create a DataFrame from the results\n",
        "results_df = pd.DataFrame(results, columns=['Model', 'Accuracy', 'Precision', 'Recall', 'F1-score'])\n",
        "\n",
        "# Print the results\n",
        "print(results_df)"
      ]
    },
    {
      "cell_type": "code",
      "source": [
        "# from tensorflow.keras.models import Sequential\n",
        "# from tensorflow.keras.layers import Embedding, LSTM, Dense, Dropout\n",
        "# from tensorflow.keras.optimizers import Adam\n",
        "\n",
        "# # Define the LSTM model\n",
        "# model = Sequential()\n",
        "# model.add(Embedding(input_dim=y_train_smote.shape[1], output_dim=128))\n",
        "# model.add(LSTM(64))\n",
        "# model.add(Dense(3, activation='softmax'))  # 3 output units for 3 sentiment classes\n",
        "\n",
        "# # Compile the model with a custom learning rate\n",
        "# optimizer = Adam(learning_rate=0.01)  # Set a custom learning rate\n",
        "# model.compile(loss='sparse_categorical_crossentropy', optimizer=optimizer, metrics=['accuracy'])\n",
        "\n",
        "# # Train the model\n",
        "# model.fit(X_train_smote, y_train_smote, epochs=30, batch_size=32)  # Adjust epochs and batch_size\n",
        "\n",
        "# # Evaluate the model\n",
        "# loss, accuracy = model.evaluate(X_test, y_test)\n",
        "# print('Test accuracy:', accuracy)\n"
      ],
      "metadata": {
        "id": "Bs_Qy8VM9Y7e"
      },
      "execution_count": null,
      "outputs": []
    },
    {
      "cell_type": "code",
      "execution_count": null,
      "metadata": {
        "id": "-vCzeL01Ejq1",
        "colab": {
          "base_uri": "https://localhost:8080/"
        },
        "outputId": "b1a0986f-efa5-4065-d513-01cc84257a00"
      },
      "outputs": [
        {
          "output_type": "stream",
          "name": "stdout",
          "text": [
            "\u001b[?25l   \u001b[90m━━━━━━━━━━━━━━━━━━━━━━━━━━━━━━━━━━━━━━━━\u001b[0m \u001b[32m0.0/129.1 kB\u001b[0m \u001b[31m?\u001b[0m eta \u001b[36m-:--:--\u001b[0m\r\u001b[2K   \u001b[90m━━━━━━━━━━━━━━━━━━━━━━━━━━━━━━━━━━━━━━━━\u001b[0m \u001b[32m129.1/129.1 kB\u001b[0m \u001b[31m5.5 MB/s\u001b[0m eta \u001b[36m0:00:00\u001b[0m\n",
            "\u001b[?25h"
          ]
        },
        {
          "output_type": "stream",
          "name": "stderr",
          "text": [
            "<ipython-input-48-a372cc353e2a>:3: DeprecationWarning: `import kerastuner` is deprecated, please use `import keras_tuner`.\n",
            "  from kerastuner import HyperModel, RandomSearch\n"
          ]
        },
        {
          "output_type": "stream",
          "name": "stdout",
          "text": [
            "\n",
            "Search: Running Trial #1\n",
            "\n",
            "Value             |Best Value So Far |Hyperparameter\n",
            "128               |128               |embedding_dim\n",
            "288               |288               |units\n",
            "0.3               |0.3               |dropout\n",
            "0.3               |0.3               |recurrent_dropout\n",
            "0.01              |0.01              |learning_rate\n",
            "\n",
            "Epoch 1/10\n",
            "\u001b[1m27/27\u001b[0m \u001b[32m━━━━━━━━━━━━━━━━━━━━\u001b[0m\u001b[37m\u001b[0m \u001b[1m172s\u001b[0m 6s/step - accuracy: 0.3201 - loss: 1.1465 - val_accuracy: 0.5642 - val_loss: 0.9675\n",
            "Epoch 2/10\n",
            "\u001b[1m27/27\u001b[0m \u001b[32m━━━━━━━━━━━━━━━━━━━━\u001b[0m\u001b[37m\u001b[0m \u001b[1m202s\u001b[0m 6s/step - accuracy: 0.3121 - loss: 1.1453 - val_accuracy: 0.3358 - val_loss: 1.0254\n",
            "Epoch 3/10\n",
            "\u001b[1m27/27\u001b[0m \u001b[32m━━━━━━━━━━━━━━━━━━━━\u001b[0m\u001b[37m\u001b[0m \u001b[1m201s\u001b[0m 6s/step - accuracy: 0.3273 - loss: 1.1386 - val_accuracy: 0.3358 - val_loss: 1.0537\n",
            "Epoch 4/10\n",
            "\u001b[1m27/27\u001b[0m \u001b[32m━━━━━━━━━━━━━━━━━━━━\u001b[0m\u001b[37m\u001b[0m \u001b[1m170s\u001b[0m 6s/step - accuracy: 0.3237 - loss: 1.1202 - val_accuracy: 0.5642 - val_loss: 0.9691\n",
            "Epoch 5/10\n",
            "\u001b[1m27/27\u001b[0m \u001b[32m━━━━━━━━━━━━━━━━━━━━\u001b[0m\u001b[37m\u001b[0m \u001b[1m211s\u001b[0m 7s/step - accuracy: 0.3489 - loss: 1.1166 - val_accuracy: 0.5642 - val_loss: 1.0629\n",
            "Epoch 6/10\n",
            "\u001b[1m27/27\u001b[0m \u001b[32m━━━━━━━━━━━━━━━━━━━━\u001b[0m\u001b[37m\u001b[0m \u001b[1m191s\u001b[0m 6s/step - accuracy: 0.3372 - loss: 1.1074 - val_accuracy: 0.1000 - val_loss: 1.2695\n",
            "Epoch 7/10\n",
            "\u001b[1m27/27\u001b[0m \u001b[32m━━━━━━━━━━━━━━━━━━━━\u001b[0m\u001b[37m\u001b[0m \u001b[1m202s\u001b[0m 6s/step - accuracy: 0.3124 - loss: 1.1582 - val_accuracy: 0.3358 - val_loss: 1.2824\n",
            "Epoch 8/10\n",
            "\u001b[1m27/27\u001b[0m \u001b[32m━━━━━━━━━━━━━━━━━━━━\u001b[0m\u001b[37m\u001b[0m \u001b[1m205s\u001b[0m 6s/step - accuracy: 0.3267 - loss: 1.1828 - val_accuracy: 0.1000 - val_loss: 1.3220\n",
            "Epoch 9/10\n",
            "\u001b[1m27/27\u001b[0m \u001b[32m━━━━━━━━━━━━━━━━━━━━\u001b[0m\u001b[37m\u001b[0m \u001b[1m213s\u001b[0m 7s/step - accuracy: 0.3339 - loss: 1.1339 - val_accuracy: 0.1000 - val_loss: 1.1248\n",
            "Epoch 10/10\n",
            "\u001b[1m27/27\u001b[0m \u001b[32m━━━━━━━━━━━━━━━━━━━━\u001b[0m\u001b[37m\u001b[0m \u001b[1m189s\u001b[0m 6s/step - accuracy: 0.3344 - loss: 1.1226 - val_accuracy: 0.3358 - val_loss: 1.0992\n",
            "Epoch 1/10\n",
            "\u001b[1m27/27\u001b[0m \u001b[32m━━━━━━━━━━━━━━━━━━━━\u001b[0m\u001b[37m\u001b[0m \u001b[1m173s\u001b[0m 6s/step - accuracy: 0.3337 - loss: 1.2916 - val_accuracy: 0.5642 - val_loss: 1.0184\n",
            "Epoch 2/10\n",
            "\u001b[1m27/27\u001b[0m \u001b[32m━━━━━━━━━━━━━━━━━━━━\u001b[0m\u001b[37m\u001b[0m \u001b[1m175s\u001b[0m 6s/step - accuracy: 0.3029 - loss: 1.1551 - val_accuracy: 0.1000 - val_loss: 1.2585\n",
            "Epoch 3/10\n",
            "\u001b[1m27/27\u001b[0m \u001b[32m━━━━━━━━━━━━━━━━━━━━\u001b[0m\u001b[37m\u001b[0m \u001b[1m179s\u001b[0m 7s/step - accuracy: 0.3338 - loss: 1.1456 - val_accuracy: 0.3358 - val_loss: 1.0807\n",
            "Epoch 4/10\n",
            "\u001b[1m27/27\u001b[0m \u001b[32m━━━━━━━━━━━━━━━━━━━━\u001b[0m\u001b[37m\u001b[0m \u001b[1m194s\u001b[0m 6s/step - accuracy: 0.3132 - loss: 1.1138 - val_accuracy: 0.5642 - val_loss: 1.0474\n",
            "Epoch 5/10\n",
            "\u001b[1m27/27\u001b[0m \u001b[32m━━━━━━━━━━━━━━━━━━━━\u001b[0m\u001b[37m\u001b[0m \u001b[1m170s\u001b[0m 6s/step - accuracy: 0.3463 - loss: 1.1191 - val_accuracy: 0.5642 - val_loss: 1.1319\n",
            "Epoch 6/10\n",
            "\u001b[1m27/27\u001b[0m \u001b[32m━━━━━━━━━━━━━━━━━━━━\u001b[0m\u001b[37m\u001b[0m \u001b[1m170s\u001b[0m 6s/step - accuracy: 0.3066 - loss: 1.1492 - val_accuracy: 0.3358 - val_loss: 1.1042\n",
            "Epoch 7/10\n",
            "\u001b[1m27/27\u001b[0m \u001b[32m━━━━━━━━━━━━━━━━━━━━\u001b[0m\u001b[37m\u001b[0m \u001b[1m170s\u001b[0m 6s/step - accuracy: 0.3559 - loss: 1.1022 - val_accuracy: 0.3358 - val_loss: 1.0908\n",
            "Epoch 8/10\n",
            "\u001b[1m27/27\u001b[0m \u001b[32m━━━━━━━━━━━━━━━━━━━━\u001b[0m\u001b[37m\u001b[0m \u001b[1m167s\u001b[0m 6s/step - accuracy: 0.3192 - loss: 1.1178 - val_accuracy: 0.5642 - val_loss: 1.0207\n",
            "Epoch 9/10\n",
            "\u001b[1m27/27\u001b[0m \u001b[32m━━━━━━━━━━━━━━━━━━━━\u001b[0m\u001b[37m\u001b[0m \u001b[1m170s\u001b[0m 6s/step - accuracy: 0.3098 - loss: 1.1165 - val_accuracy: 0.3358 - val_loss: 1.1237\n",
            "Epoch 10/10\n",
            "\u001b[1m27/27\u001b[0m \u001b[32m━━━━━━━━━━━━━━━━━━━━\u001b[0m\u001b[37m\u001b[0m \u001b[1m174s\u001b[0m 6s/step - accuracy: 0.3003 - loss: 1.1211 - val_accuracy: 0.1000 - val_loss: 1.2298\n",
            "Epoch 1/10\n",
            "\u001b[1m27/27\u001b[0m \u001b[32m━━━━━━━━━━━━━━━━━━━━\u001b[0m\u001b[37m\u001b[0m \u001b[1m0s\u001b[0m 6s/step - accuracy: 0.3401 - loss: 1.1773"
          ]
        }
      ],
      "source": [
        "# !pip install keras-tuner -q  # Install Keras Tuner\n",
        "\n",
        "# from kerastuner import HyperModel, RandomSearch\n",
        "# from tensorflow.keras.models import Sequential\n",
        "# from tensorflow.keras.layers import Embedding, LSTM, Dense, Dropout\n",
        "# from tensorflow.keras.optimizers import Adam\n",
        "\n",
        "# class MyLSTMHyperModel(HyperModel):\n",
        "#     def build(self, hp):\n",
        "#         model = Sequential()\n",
        "#         model.add(Embedding(input_dim=tfidf_matrix.shape[1], output_dim=hp.Choice('embedding_dim', [64, 128, 256])))\n",
        "#         model.add(LSTM(units=hp.Int('units', min_value=32, max_value=512, step=32),\n",
        "#                        dropout=hp.Float('dropout', min_value=0.0, max_value=0.5, step=0.1),\n",
        "#                        recurrent_dropout=hp.Float('recurrent_dropout', min_value=0.0, max_value=0.5, step=0.1)))\n",
        "#         model.add(Dense(3, activation='softmax'))\n",
        "\n",
        "#         model.compile(\n",
        "#             optimizer=Adam(hp.Choice('learning_rate', [1e-2, 1e-3, 1e-4])),\n",
        "#             loss='sparse_categorical_crossentropy',\n",
        "#             metrics=['accuracy'])\n",
        "#         return model\n",
        "\n",
        "# # Instantiate tuner\n",
        "# tuner = RandomSearch(\n",
        "#     MyLSTMHyperModel(),\n",
        "#     objective='val_accuracy',\n",
        "#     max_trials=5,\n",
        "#     executions_per_trial=3,\n",
        "#     directory='my_dir',\n",
        "#     project_name='lstm_tuning'\n",
        "# )\n",
        "\n",
        "# # Start tuning\n",
        "# tuner.search(X_train_smote, y_train_smote, epochs=10, batch_size=64, validation_data=(X_test, y_test))\n",
        "\n",
        "# # Get the optimal hyperparameters\n",
        "# best_hps = tuner.get_best_hyperparameters(num_trials=1)[0]\n",
        "\n",
        "# print(f\"Optimal number of units in LSTM layer: {best_hps.get('units')}\")\n",
        "# print(f\"Optimal dropout: {best_hps.get('dropout')}\")\n",
        "# print(f\"Optimal recurrent_dropout: {best_hps.get('recurrent_dropout')}\")\n",
        "# print(f\"Optimal learning_rate: {best_hps.get('learning_rate')}\")\n"
      ]
    },
    {
      "cell_type": "code",
      "source": [
        "import numpy as np\n",
        "import matplotlib.pyplot as plt\n",
        "from sklearn.datasets import make_classification\n",
        "from sklearn.linear_model import LogisticRegression\n",
        "from sklearn.model_selection import train_test_split\n",
        "from sklearn.metrics import roc_curve, auc\n",
        "\n",
        "# Membuat data yang tidak seimbang\n",
        "X, y = make_classification(n_samples=1000, n_features=2, n_informative=2, n_redundant=0,\n",
        "                           n_clusters_per_class=1, weights=[0.9, 0.1], flip_y=0, random_state=1)\n",
        "\n",
        "# Membagi data menjadi train dan test\n",
        "X_train, X_test, y_train, y_test = train_test_split(X, y, test_size=0.3, random_state=42)\n",
        "\n",
        "# Melatih model logistik\n",
        "model = LogisticRegression()\n",
        "model.fit(X_train, y_train)\n",
        "\n",
        "# Prediksi probabilitas\n",
        "y_pred_prob = model.predict_proba(X_test)[:, 1]\n",
        "\n",
        "# Visualisasi distribusi probabilitas prediksi\n",
        "plt.hist(y_pred_prob[y_test == 0], bins=20, color='blue', alpha=0.7, label='Kelas Mayoritas (0)')\n",
        "plt.hist(y_pred_prob[y_test == 1], bins=20, color='red', alpha=0.7, label='Kelas Minoritas (1)')\n",
        "plt.axvline(0.5, color='black', linestyle='--', label='Threshold 0.5')\n",
        "plt.title('Distribusi Probabilitas Prediksi pada Data Tidak Seimbang')\n",
        "plt.xlabel('Probabilitas Prediksi Kelas 1')\n",
        "plt.ylabel('Frekuensi')\n",
        "plt.legend()\n",
        "plt.show()\n"
      ],
      "metadata": {
        "id": "W07zJabpZS-K",
        "colab": {
          "base_uri": "https://localhost:8080/",
          "height": 472
        },
        "outputId": "6cc69dbd-91ed-4e76-d35e-83dbd932b157"
      },
      "execution_count": null,
      "outputs": [
        {
          "output_type": "display_data",
          "data": {
            "text/plain": [
              "<Figure size 640x480 with 1 Axes>"
            ],
            "image/png": "[encoded data removed]"
          },
          "metadata": {}
        }
      ]
    },
    {
      "cell_type": "code",
      "source": [
        "# prompt: use cloglog\n",
        "\n",
        "from sklearn.metrics import roc_curve, auc\n",
        "\n",
        "# ... (previous code) ...\n",
        "\n",
        "# Get predicted probabilities for the positive class\n",
        "y_pred_prob = model.predict_proba(X_test)[:, 1]\n",
        "\n",
        "# Calculate ROC curve\n",
        "fpr, tpr, thresholds = roc_curve(y_test, y_pred_prob)\n",
        "\n",
        "# Calculate AUC\n",
        "roc_auc = auc(fpr, tpr)\n",
        "\n",
        "# Plot ROC curve\n",
        "plt.figure()\n",
        "plt.plot(fpr, tpr, color='darkorange', lw=2, label='ROC curve (area = %0.2f)' % roc_auc)\n",
        "plt.plot([0, 1], [0, 1], color='navy', lw=2, linestyle='--')\n",
        "plt.xlim([0.0, 1.0])\n",
        "plt.ylim([0.0, 1.05])\n",
        "plt.xlabel('False Positive Rate')\n",
        "plt.ylabel('True Positive Rate')\n",
        "plt.title('Receiver Operating Characteristic (ROC)')\n",
        "plt.legend(loc=\"lower right\")\n",
        "plt.show()\n"
      ],
      "metadata": {
        "colab": {
          "base_uri": "https://localhost:8080/",
          "height": 472
        },
        "id": "WLBiYxThXLbE",
        "outputId": "5c178697-2972-4889-d099-09fdf72c90e6"
      },
      "execution_count": null,
      "outputs": [
        {
          "output_type": "display_data",
          "data": {
            "text/plain": [
              "<Figure size 640x480 with 1 Axes>"
            ],
            "image/png": "[encoded data removed]"
          },
          "metadata": {}
        }
      ]
    },
    {
      "cell_type": "code",
      "source": [],
      "metadata": {
        "id": "VQVXJTI-Xajw"
      },
      "execution_count": null,
      "outputs": []
    }
  ],
  "metadata": {
    "colab": {
      "provenance": [],
      "gpuType": "T4",
      "toc_visible": true
    },
    "kernelspec": {
      "display_name": "Python 3",
      "name": "python3"
    },
    "language_info": {
      "name": "python"
    },
    "accelerator": "GPU"
  },
  "nbformat": 4,
  "nbformat_minor": 0
}