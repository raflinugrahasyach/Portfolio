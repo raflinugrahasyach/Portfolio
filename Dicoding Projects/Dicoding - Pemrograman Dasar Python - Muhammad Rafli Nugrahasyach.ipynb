{
  "cells": [
    {
      "cell_type": "markdown",
      "metadata": {
        "id": "H9wADwK78DCz"
      },
      "source": [
        "# Proyek Analisis Data: [E-Commerce Public Dataset]\n",
        "- **Nama:** [Muhammad Rafli Nugrahasyach]\n",
        "- **Email:** [raflinugrahasyach26@gmail.com]\n",
        "- **ID Dicoding:** [raflinugrahas]"
      ]
    },
    {
      "cell_type": "markdown",
      "metadata": {
        "id": "eE0raob58DC0"
      },
      "source": [
        "## Menentukan Pertanyaan Bisnis"
      ]
    },
    {
      "cell_type": "markdown",
      "metadata": {
        "id": "GmQeQ5YF8DC0"
      },
      "source": [
        "- Bagaimana kinerja order atau pengiriman barang bisa mempengaruhi kepuasan para customer pada tahun 2016-2018?\n",
        "- Bagaimana karakteristik kota yang membeli suatu produk tertentu pada 2016-2018?"
      ]
    },
    {
      "cell_type": "markdown",
      "metadata": {
        "id": "H-z4QGlO8DC1"
      },
      "source": [
        "## Import Semua Packages/Library yang Digunakan"
      ]
    },
    {
      "cell_type": "code",
      "execution_count": null,
      "metadata": {
        "id": "FVYwaObI8DC1",
        "tags": []
      },
      "outputs": [],
      "source": [
        "import numpy as np\n",
        "import pandas as pd\n",
        "import matplotlib.pyplot as plt\n",
        "import seaborn as sns"
      ]
    },
    {
      "cell_type": "markdown",
      "metadata": {
        "id": "h_Sh51Xy8DC1"
      },
      "source": [
        "## Data Wrangling"
      ]
    },
    {
      "cell_type": "markdown",
      "metadata": {
        "id": "sXU2GBYu8DC1"
      },
      "source": [
        "### Gathering Data"
      ]
    },
    {
      "cell_type": "code",
      "execution_count": null,
      "metadata": {
        "id": "zjCBk1BI8DC1",
        "tags": []
      },
      "outputs": [],
      "source": [
        "df_reviews = pd.read_csv('olist_order_reviews_dataset.csv') # Sebagai variabel respon (Y)\n",
        "df_cust = pd.read_csv('olist_customers_dataset.csv')\n",
        "df_orders = pd.read_csv('olist_orders_dataset.csv')\n",
        "df_order_items = pd.read_csv('olist_order_items_dataset.csv')\n",
        "df_geo = pd.read_csv('olist_geolocation_dataset.csv')\n",
        "df_products = pd.read_csv('olist_products_dataset.csv')\n",
        "df_seller = pd.read_csv('olist_sellers_dataset.csv')"
      ]
    },
    {
      "cell_type": "markdown",
      "metadata": {
        "id": "FHSiqaZp8DC1"
      },
      "source": [
        "### Assessing Data"
      ]
    },
    {
      "cell_type": "code",
      "execution_count": null,
      "metadata": {
        "colab": {
          "base_uri": "https://localhost:8080/",
          "height": 163
        },
        "id": "KzULzcOTmHYu",
        "outputId": "a5c5edfb-db64-49ec-f76a-4ac7d3d8d3f5",
        "tags": []
      },
      "outputs": [
        {
          "data": {
            "text/html": [
              "<div>\n",
              "<style scoped>\n",
              "    .dataframe tbody tr th:only-of-type {\n",
              "        vertical-align: middle;\n",
              "    }\n",
              "\n",
              "    .dataframe tbody tr th {\n",
              "        vertical-align: top;\n",
              "    }\n",
              "\n",
              "    .dataframe thead th {\n",
              "        text-align: right;\n",
              "    }\n",
              "</style>\n",
              "<table border=\"1\" class=\"dataframe\">\n",
              "  <thead>\n",
              "    <tr style=\"text-align: right;\">\n",
              "      <th></th>\n",
              "      <th>product_id</th>\n",
              "      <th>product_category_name</th>\n",
              "      <th>product_name_lenght</th>\n",
              "      <th>product_description_lenght</th>\n",
              "      <th>product_photos_qty</th>\n",
              "      <th>product_weight_g</th>\n",
              "      <th>product_length_cm</th>\n",
              "      <th>product_height_cm</th>\n",
              "      <th>product_width_cm</th>\n",
              "    </tr>\n",
              "  </thead>\n",
              "  <tbody>\n",
              "    <tr>\n",
              "      <th>0</th>\n",
              "      <td>1e9e8ef04dbcff4541ed26657ea517e5</td>\n",
              "      <td>perfumaria</td>\n",
              "      <td>40.0</td>\n",
              "      <td>287.0</td>\n",
              "      <td>1.0</td>\n",
              "      <td>225.0</td>\n",
              "      <td>16.0</td>\n",
              "      <td>10.0</td>\n",
              "      <td>14.0</td>\n",
              "    </tr>\n",
              "    <tr>\n",
              "      <th>1</th>\n",
              "      <td>3aa071139cb16b67ca9e5dea641aaa2f</td>\n",
              "      <td>artes</td>\n",
              "      <td>44.0</td>\n",
              "      <td>276.0</td>\n",
              "      <td>1.0</td>\n",
              "      <td>1000.0</td>\n",
              "      <td>30.0</td>\n",
              "      <td>18.0</td>\n",
              "      <td>20.0</td>\n",
              "    </tr>\n",
              "    <tr>\n",
              "      <th>2</th>\n",
              "      <td>96bd76ec8810374ed1b65e291975717f</td>\n",
              "      <td>esporte_lazer</td>\n",
              "      <td>46.0</td>\n",
              "      <td>250.0</td>\n",
              "      <td>1.0</td>\n",
              "      <td>154.0</td>\n",
              "      <td>18.0</td>\n",
              "      <td>9.0</td>\n",
              "      <td>15.0</td>\n",
              "    </tr>\n",
              "  </tbody>\n",
              "</table>\n",
              "</div>"
            ],
            "text/plain": [
              "                         product_id product_category_name  \\\n",
              "0  1e9e8ef04dbcff4541ed26657ea517e5            perfumaria   \n",
              "1  3aa071139cb16b67ca9e5dea641aaa2f                 artes   \n",
              "2  96bd76ec8810374ed1b65e291975717f         esporte_lazer   \n",
              "\n",
              "   product_name_lenght  product_description_lenght  product_photos_qty  \\\n",
              "0                 40.0                       287.0                 1.0   \n",
              "1                 44.0                       276.0                 1.0   \n",
              "2                 46.0                       250.0                 1.0   \n",
              "\n",
              "   product_weight_g  product_length_cm  product_height_cm  product_width_cm  \n",
              "0             225.0               16.0               10.0              14.0  \n",
              "1            1000.0               30.0               18.0              20.0  \n",
              "2             154.0               18.0                9.0              15.0  "
            ]
          },
          "execution_count": 3,
          "metadata": {},
          "output_type": "execute_result"
        }
      ],
      "source": [
        "df_products.head(3)"
      ]
    },
    {
      "cell_type": "code",
      "execution_count": null,
      "metadata": {
        "id": "dwluTKD-jFOv",
        "tags": []
      },
      "outputs": [],
      "source": [
        "df_reviews_cust = pd.merge(df_orders, df_reviews, on='order_id', how='inner')"
      ]
    },
    {
      "cell_type": "markdown",
      "metadata": {
        "id": "Et3fmDjq_epE",
        "jp-MarkdownHeadingCollapsed": true,
        "tags": []
      },
      "source": [
        "#### Pertanyaan 1"
      ]
    },
    {
      "cell_type": "code",
      "execution_count": null,
      "metadata": {
        "colab": {
          "base_uri": "https://localhost:8080/"
        },
        "id": "x70js0pbWVFG",
        "outputId": "ccf1debb-ed5f-440f-9bdd-c449cda1f462",
        "tags": []
      },
      "outputs": [
        {
          "name": "stdout",
          "output_type": "stream",
          "text": [
            "<class 'pandas.core.frame.DataFrame'>\n",
            "RangeIndex: 99224 entries, 0 to 99223\n",
            "Data columns (total 14 columns):\n",
            " #   Column                         Non-Null Count  Dtype         \n",
            "---  ------                         --------------  -----         \n",
            " 0   order_id                       99224 non-null  object        \n",
            " 1   customer_id                    99224 non-null  object        \n",
            " 2   order_status                   99224 non-null  object        \n",
            " 3   order_purchase_timestamp       99224 non-null  object        \n",
            " 4   order_approved_at              99068 non-null  object        \n",
            " 5   order_delivered_carrier_date   97468 non-null  object        \n",
            " 6   order_delivered_customer_date  96359 non-null  datetime64[ns]\n",
            " 7   order_estimated_delivery_date  99224 non-null  datetime64[ns]\n",
            " 8   review_id                      99224 non-null  object        \n",
            " 9   review_score                   99224 non-null  float32       \n",
            " 10  review_comment_title           11568 non-null  object        \n",
            " 11  review_comment_message         40977 non-null  object        \n",
            " 12  review_creation_date           99224 non-null  object        \n",
            " 13  review_answer_timestamp        99224 non-null  object        \n",
            "dtypes: datetime64[ns](2), float32(1), object(11)\n",
            "memory usage: 10.2+ MB\n",
            "None\n",
            "99224\n"
          ]
        }
      ],
      "source": [
        "# Mengubah data type masing-masing fitur\n",
        "\n",
        "df_reviews_cust['review_score'] = df_reviews_cust['review_score'].astype(np.float32)\n",
        "df_reviews_cust['order_estimated_delivery_date'] = pd.to_datetime(df_reviews_cust['order_estimated_delivery_date'])\n",
        "df_reviews_cust['order_delivered_customer_date'] = pd.to_datetime(df_reviews_cust['order_delivered_customer_date'])\n",
        "\n",
        "# Menambahkan kolom baru untuk selisih antara estimasi dengan delivery order\n",
        "df_order_duration = df_reviews_cust['order_estimated_delivery_date'] - df_reviews_cust['order_delivered_customer_date']\n",
        "df_order_duration = pd.DataFrame(df_order_duration, columns=['order_duration'])\n",
        "\n",
        "print(df_reviews_cust.info())\n",
        "print(len(df_reviews_cust))"
      ]
    },
    {
      "cell_type": "code",
      "execution_count": null,
      "metadata": {
        "colab": {
          "base_uri": "https://localhost:8080/"
        },
        "id": "ax-3tEjc9Cj1",
        "outputId": "1c03edf0-cade-42b5-d5b9-0b7e8b4079e5",
        "tags": []
      },
      "outputs": [
        {
          "data": {
            "text/plain": [
              "order_id                             0\n",
              "customer_id                          0\n",
              "order_status                         0\n",
              "order_purchase_timestamp             0\n",
              "order_approved_at                  156\n",
              "order_delivered_carrier_date      1756\n",
              "order_delivered_customer_date     2865\n",
              "order_estimated_delivery_date        0\n",
              "review_id                            0\n",
              "review_score                         0\n",
              "review_comment_title             87656\n",
              "review_comment_message           58247\n",
              "review_creation_date                 0\n",
              "review_answer_timestamp              0\n",
              "dtype: int64"
            ]
          },
          "execution_count": 6,
          "metadata": {},
          "output_type": "execute_result"
        }
      ],
      "source": [
        "df_reviews_cust.isna().sum()"
      ]
    },
    {
      "cell_type": "code",
      "execution_count": null,
      "metadata": {
        "colab": {
          "base_uri": "https://localhost:8080/",
          "height": 300
        },
        "id": "UmzaKZh7WU_D",
        "outputId": "670e24f0-d045-4d81-d26c-f22477f4aa82",
        "tags": []
      },
      "outputs": [
        {
          "data": {
            "text/html": [
              "<div>\n",
              "<style scoped>\n",
              "    .dataframe tbody tr th:only-of-type {\n",
              "        vertical-align: middle;\n",
              "    }\n",
              "\n",
              "    .dataframe tbody tr th {\n",
              "        vertical-align: top;\n",
              "    }\n",
              "\n",
              "    .dataframe thead th {\n",
              "        text-align: right;\n",
              "    }\n",
              "</style>\n",
              "<table border=\"1\" class=\"dataframe\">\n",
              "  <thead>\n",
              "    <tr style=\"text-align: right;\">\n",
              "      <th></th>\n",
              "      <th>order_duration</th>\n",
              "    </tr>\n",
              "  </thead>\n",
              "  <tbody>\n",
              "    <tr>\n",
              "      <th>count</th>\n",
              "      <td>96359</td>\n",
              "    </tr>\n",
              "    <tr>\n",
              "      <th>mean</th>\n",
              "      <td>11 days 05:16:48.424028891</td>\n",
              "    </tr>\n",
              "    <tr>\n",
              "      <th>std</th>\n",
              "      <td>10 days 02:47:38.331570028</td>\n",
              "    </tr>\n",
              "    <tr>\n",
              "      <th>min</th>\n",
              "      <td>-189 days +00:35:53</td>\n",
              "    </tr>\n",
              "    <tr>\n",
              "      <th>25%</th>\n",
              "      <td>6 days 09:51:08.500000</td>\n",
              "    </tr>\n",
              "    <tr>\n",
              "      <th>50%</th>\n",
              "      <td>11 days 23:23:29</td>\n",
              "    </tr>\n",
              "    <tr>\n",
              "      <th>75%</th>\n",
              "      <td>16 days 06:01:59.500000</td>\n",
              "    </tr>\n",
              "    <tr>\n",
              "      <th>max</th>\n",
              "      <td>146 days 00:23:13</td>\n",
              "    </tr>\n",
              "  </tbody>\n",
              "</table>\n",
              "</div>"
            ],
            "text/plain": [
              "                   order_duration\n",
              "count                       96359\n",
              "mean   11 days 05:16:48.424028891\n",
              "std    10 days 02:47:38.331570028\n",
              "min           -189 days +00:35:53\n",
              "25%        6 days 09:51:08.500000\n",
              "50%              11 days 23:23:29\n",
              "75%       16 days 06:01:59.500000\n",
              "max             146 days 00:23:13"
            ]
          },
          "execution_count": 7,
          "metadata": {},
          "output_type": "execute_result"
        }
      ],
      "source": [
        "df_order_vis = pd.concat((df_order_duration, df_reviews_cust['review_score']), axis = 1)\n",
        "df_order_duration.describe()"
      ]
    },
    {
      "cell_type": "code",
      "execution_count": null,
      "metadata": {
        "colab": {
          "base_uri": "https://localhost:8080/"
        },
        "id": "s0HfIgqt7R3U",
        "outputId": "0766262c-b304-4686-8617-66fc9514da78",
        "tags": []
      },
      "outputs": [
        {
          "name": "stdout",
          "output_type": "stream",
          "text": [
            "order_duration    0\n",
            "review_score      0\n",
            "dtype: int64\n",
            "0\n",
            "order_duration    0\n",
            "review_score      0\n",
            "dtype: int64\n",
            "93903\n"
          ]
        }
      ],
      "source": [
        "# Handling missing value dan duplikasi data\n",
        "\n",
        "# Missing value\n",
        "df_order_vis = df_order_vis.dropna()\n",
        "print(df_order_vis.isna().sum())\n",
        "\n",
        "# Duplikasi data\n",
        "df_order_vis = df_order_vis.drop_duplicates()\n",
        "print(df_order_vis.duplicated().sum())\n",
        "\n",
        "print(df_order_vis.isna().sum())\n",
        "print(len(df_order_vis))"
      ]
    },
    {
      "cell_type": "markdown",
      "metadata": {
        "id": "3EqCDcU4_mgU"
      },
      "source": [
        "#### Pertanyaan 2"
      ]
    },
    {
      "cell_type": "code",
      "execution_count": null,
      "metadata": {
        "id": "zsPsifZjmcww",
        "tags": []
      },
      "outputs": [],
      "source": [
        "df_prod_o_items = pd.merge(df_products, df_order_items, on='product_id', how='inner')\n",
        "df_o_items_seller = pd.merge(df_prod_o_items, df_seller, on='seller_id', how='inner')\n",
        "df_seller_geo = pd.merge(df_o_items_seller, df_geo, left_on='seller_zip_code_prefix', right_on='geolocation_zip_code_prefix', how='inner')"
      ]
    },
    {
      "cell_type": "code",
      "execution_count": null,
      "metadata": {
        "id": "yb863MsmpYo6",
        "tags": []
      },
      "outputs": [],
      "source": [
        "df1 = df_cust[['customer_zip_code_prefix', 'customer_city']]\n",
        "df2 = df_seller_geo[['geolocation_zip_code_prefix', 'product_category_name']]"
      ]
    },
    {
      "cell_type": "code",
      "execution_count": null,
      "metadata": {
        "id": "eUSZMU5dspUf",
        "tags": []
      },
      "outputs": [],
      "source": [
        "df_cust_seller_geo = pd.merge(\n",
        "    df1,\n",
        "    df2,\n",
        "    left_on='customer_zip_code_prefix',\n",
        "    right_on='geolocation_zip_code_prefix',\n",
        "    how='inner'\n",
        ")"
      ]
    },
    {
      "cell_type": "code",
      "execution_count": null,
      "metadata": {
        "colab": {
          "base_uri": "https://localhost:8080/",
          "height": 192
        },
        "id": "y9n7foVZoWX1",
        "outputId": "e82e5411-cbe2-4ed9-fc47-0a15f287cee7",
        "tags": []
      },
      "outputs": [
        {
          "data": {
            "text/plain": [
              "391754978"
            ]
          },
          "execution_count": 12,
          "metadata": {},
          "output_type": "execute_result"
        }
      ],
      "source": [
        "df_cust_seller_geo.duplicated().sum()"
      ]
    },
    {
      "cell_type": "code",
      "execution_count": null,
      "metadata": {
        "tags": [],
        "id": "CeCMIRNCjOzh"
      },
      "outputs": [],
      "source": [
        "df_cust_seller_geo = df_cust_seller_geo.drop_duplicates()"
      ]
    },
    {
      "cell_type": "code",
      "execution_count": null,
      "metadata": {
        "colab": {
          "base_uri": "https://localhost:8080/",
          "height": 180
        },
        "id": "DmltNe2gofY6",
        "outputId": "88936f73-d53c-4ee2-bd63-f9f572f6dcce"
      },
      "outputs": [
        {
          "data": {
            "text/html": [
              "<div>\n",
              "<style scoped>\n",
              "    .dataframe tbody tr th:only-of-type {\n",
              "        vertical-align: middle;\n",
              "    }\n",
              "\n",
              "    .dataframe tbody tr th {\n",
              "        vertical-align: top;\n",
              "    }\n",
              "\n",
              "    .dataframe thead th {\n",
              "        text-align: right;\n",
              "    }\n",
              "</style>\n",
              "<table border=\"1\" class=\"dataframe\">\n",
              "  <thead>\n",
              "    <tr style=\"text-align: right;\">\n",
              "      <th></th>\n",
              "      <th>customer_id</th>\n",
              "      <th>customer_unique_id</th>\n",
              "      <th>customer_zip_code_prefix</th>\n",
              "      <th>customer_city</th>\n",
              "      <th>customer_state</th>\n",
              "    </tr>\n",
              "  </thead>\n",
              "  <tbody>\n",
              "    <tr>\n",
              "      <th>0</th>\n",
              "      <td>06b8999e2fba1a1fbc88172c00ba8bc7</td>\n",
              "      <td>861eff4711a542e4b93843c6dd7febb0</td>\n",
              "      <td>14409</td>\n",
              "      <td>franca</td>\n",
              "      <td>SP</td>\n",
              "    </tr>\n",
              "    <tr>\n",
              "      <th>1</th>\n",
              "      <td>18955e83d337fd6b2def6b18a428ac77</td>\n",
              "      <td>290c77bc529b7ac935b93aa66c333dc3</td>\n",
              "      <td>9790</td>\n",
              "      <td>sao bernardo do campo</td>\n",
              "      <td>SP</td>\n",
              "    </tr>\n",
              "    <tr>\n",
              "      <th>2</th>\n",
              "      <td>4e7b3e00288586ebd08712fdd0374a03</td>\n",
              "      <td>060e732b5b29e8181a18229c7b0b2b5e</td>\n",
              "      <td>1151</td>\n",
              "      <td>sao paulo</td>\n",
              "      <td>SP</td>\n",
              "    </tr>\n",
              "  </tbody>\n",
              "</table>\n",
              "</div>"
            ],
            "text/plain": [
              "                        customer_id                customer_unique_id  \\\n",
              "0  06b8999e2fba1a1fbc88172c00ba8bc7  861eff4711a542e4b93843c6dd7febb0   \n",
              "1  18955e83d337fd6b2def6b18a428ac77  290c77bc529b7ac935b93aa66c333dc3   \n",
              "2  4e7b3e00288586ebd08712fdd0374a03  060e732b5b29e8181a18229c7b0b2b5e   \n",
              "\n",
              "   customer_zip_code_prefix          customer_city customer_state  \n",
              "0                     14409                 franca             SP  \n",
              "1                      9790  sao bernardo do campo             SP  \n",
              "2                      1151              sao paulo             SP  "
            ]
          },
          "execution_count": 14,
          "metadata": {},
          "output_type": "execute_result"
        }
      ],
      "source": [
        "df_cust.head(3)"
      ]
    },
    {
      "cell_type": "code",
      "execution_count": null,
      "metadata": {
        "colab": {
          "base_uri": "https://localhost:8080/",
          "height": 132
        },
        "id": "Oee28Oy2n7Y4",
        "outputId": "a1d8c6cb-9463-4a07-f56d-71535c91984a"
      },
      "outputs": [
        {
          "data": {
            "text/html": [
              "<div>\n",
              "<style scoped>\n",
              "    .dataframe tbody tr th:only-of-type {\n",
              "        vertical-align: middle;\n",
              "    }\n",
              "\n",
              "    .dataframe tbody tr th {\n",
              "        vertical-align: top;\n",
              "    }\n",
              "\n",
              "    .dataframe thead th {\n",
              "        text-align: right;\n",
              "    }\n",
              "</style>\n",
              "<table border=\"1\" class=\"dataframe\">\n",
              "  <thead>\n",
              "    <tr style=\"text-align: right;\">\n",
              "      <th></th>\n",
              "      <th>product_id</th>\n",
              "      <th>product_category_name</th>\n",
              "      <th>product_name_lenght</th>\n",
              "      <th>product_description_lenght</th>\n",
              "      <th>product_photos_qty</th>\n",
              "      <th>product_weight_g</th>\n",
              "      <th>product_length_cm</th>\n",
              "      <th>product_height_cm</th>\n",
              "      <th>product_width_cm</th>\n",
              "      <th>order_id</th>\n",
              "      <th>order_item_id</th>\n",
              "      <th>seller_id</th>\n",
              "      <th>shipping_limit_date</th>\n",
              "      <th>price</th>\n",
              "      <th>freight_value</th>\n",
              "      <th>seller_zip_code_prefix</th>\n",
              "      <th>seller_city</th>\n",
              "      <th>seller_state</th>\n",
              "    </tr>\n",
              "  </thead>\n",
              "  <tbody>\n",
              "    <tr>\n",
              "      <th>0</th>\n",
              "      <td>1e9e8ef04dbcff4541ed26657ea517e5</td>\n",
              "      <td>perfumaria</td>\n",
              "      <td>40.0</td>\n",
              "      <td>287.0</td>\n",
              "      <td>1.0</td>\n",
              "      <td>225.0</td>\n",
              "      <td>16.0</td>\n",
              "      <td>10.0</td>\n",
              "      <td>14.0</td>\n",
              "      <td>e17e4f88e31525f7deef66779844ddce</td>\n",
              "      <td>1</td>\n",
              "      <td>5670f4db5b62c43d542e1b2d56b0cf7c</td>\n",
              "      <td>2018-04-30 17:33:54</td>\n",
              "      <td>10.91</td>\n",
              "      <td>7.39</td>\n",
              "      <td>3694</td>\n",
              "      <td>sao paulo</td>\n",
              "      <td>SP</td>\n",
              "    </tr>\n",
              "    <tr>\n",
              "      <th>1</th>\n",
              "      <td>a035b83b3628decee6e3823924e0c10f</td>\n",
              "      <td>perfumaria</td>\n",
              "      <td>53.0</td>\n",
              "      <td>2235.0</td>\n",
              "      <td>3.0</td>\n",
              "      <td>1450.0</td>\n",
              "      <td>20.0</td>\n",
              "      <td>25.0</td>\n",
              "      <td>20.0</td>\n",
              "      <td>b18cb761efbe70da4838435a349abd07</td>\n",
              "      <td>1</td>\n",
              "      <td>5670f4db5b62c43d542e1b2d56b0cf7c</td>\n",
              "      <td>2018-07-06 19:31:03</td>\n",
              "      <td>268.38</td>\n",
              "      <td>21.07</td>\n",
              "      <td>3694</td>\n",
              "      <td>sao paulo</td>\n",
              "      <td>SP</td>\n",
              "    </tr>\n",
              "  </tbody>\n",
              "</table>\n",
              "</div>"
            ],
            "text/plain": [
              "                         product_id product_category_name  \\\n",
              "0  1e9e8ef04dbcff4541ed26657ea517e5            perfumaria   \n",
              "1  a035b83b3628decee6e3823924e0c10f            perfumaria   \n",
              "\n",
              "   product_name_lenght  product_description_lenght  product_photos_qty  \\\n",
              "0                 40.0                       287.0                 1.0   \n",
              "1                 53.0                      2235.0                 3.0   \n",
              "\n",
              "   product_weight_g  product_length_cm  product_height_cm  product_width_cm  \\\n",
              "0             225.0               16.0               10.0              14.0   \n",
              "1            1450.0               20.0               25.0              20.0   \n",
              "\n",
              "                           order_id  order_item_id  \\\n",
              "0  e17e4f88e31525f7deef66779844ddce              1   \n",
              "1  b18cb761efbe70da4838435a349abd07              1   \n",
              "\n",
              "                          seller_id  shipping_limit_date   price  \\\n",
              "0  5670f4db5b62c43d542e1b2d56b0cf7c  2018-04-30 17:33:54   10.91   \n",
              "1  5670f4db5b62c43d542e1b2d56b0cf7c  2018-07-06 19:31:03  268.38   \n",
              "\n",
              "   freight_value  seller_zip_code_prefix seller_city seller_state  \n",
              "0           7.39                    3694   sao paulo           SP  \n",
              "1          21.07                    3694   sao paulo           SP  "
            ]
          },
          "execution_count": 15,
          "metadata": {},
          "output_type": "execute_result"
        }
      ],
      "source": [
        "df_o_items_seller.head(2)"
      ]
    },
    {
      "cell_type": "code",
      "execution_count": null,
      "metadata": {
        "colab": {
          "base_uri": "https://localhost:8080/"
        },
        "id": "5MXeI3Be_ozB",
        "outputId": "5821cb7c-cc52-4a59-d41d-c07caa55edf4"
      },
      "outputs": [
        {
          "name": "stdout",
          "output_type": "stream",
          "text": [
            "   geolocation_zip_code_prefix  geolocation_lat  geolocation_lng  \\\n",
            "0                         1037       -23.545621       -46.639292   \n",
            "1                         1046       -23.546081       -46.644820   \n",
            "2                         1046       -23.546129       -46.642951   \n",
            "\n",
            "  geolocation_city geolocation_state  \n",
            "0        sao paulo                SP  \n",
            "1        sao paulo                SP  \n",
            "2        sao paulo                SP  \n"
          ]
        }
      ],
      "source": [
        "print(df_geo.head(3))"
      ]
    },
    {
      "cell_type": "code",
      "execution_count": null,
      "metadata": {
        "colab": {
          "base_uri": "https://localhost:8080/"
        },
        "id": "kyNKCAm5AOgX",
        "outputId": "809d72e6-df2a-4bed-f526-e070525024ef"
      },
      "outputs": [
        {
          "name": "stdout",
          "output_type": "stream",
          "text": [
            "                         product_id product_category_name  \\\n",
            "0  1e9e8ef04dbcff4541ed26657ea517e5            perfumaria   \n",
            "1  3aa071139cb16b67ca9e5dea641aaa2f                 artes   \n",
            "2  96bd76ec8810374ed1b65e291975717f         esporte_lazer   \n",
            "\n",
            "   product_name_lenght  product_description_lenght  product_photos_qty  \\\n",
            "0                 40.0                       287.0                 1.0   \n",
            "1                 44.0                       276.0                 1.0   \n",
            "2                 46.0                       250.0                 1.0   \n",
            "\n",
            "   product_weight_g  product_length_cm  product_height_cm  product_width_cm  \n",
            "0             225.0               16.0               10.0              14.0  \n",
            "1            1000.0               30.0               18.0              20.0  \n",
            "2             154.0               18.0                9.0              15.0  \n"
          ]
        }
      ],
      "source": [
        "print(df_products.head(3))"
      ]
    },
    {
      "cell_type": "markdown",
      "metadata": {
        "id": "EhN5R4hr8DC1"
      },
      "source": [
        "### Cleaning Data"
      ]
    },
    {
      "cell_type": "code",
      "execution_count": null,
      "metadata": {
        "id": "jVnYpprE9Evz",
        "tags": [],
        "outputId": "4d84088c-3e24-4d3c-d3f6-4daf48032aca"
      },
      "outputs": [
        {
          "name": "stdout",
          "output_type": "stream",
          "text": [
            "    order_duration  review_score\n",
            "0  7 days 02:34:47           4.0\n",
            "1  5 days 08:32:15           4.0\n",
            "2 17 days 05:53:31           5.0\n",
            "3 12 days 23:31:18           5.0\n",
            "4  9 days 05:42:58           5.0\n",
            "        customer_zip_code_prefix   customer_city  geolocation_zip_code_prefix  \\\n",
            "0                          13056        campinas                        13056   \n",
            "1570                       13056        campinas                        13056   \n",
            "105504                     89254  jaragua do sul                        89254   \n",
            "106092                     89254  jaragua do sul                        89254   \n",
            "108150                     89254  jaragua do sul                        89254   \n",
            "\n",
            "                    product_category_name  \n",
            "0                              perfumaria  \n",
            "1570    construcao_ferramentas_construcao  \n",
            "105504                         brinquedos  \n",
            "106092                         cool_stuff  \n",
            "108150                              bebes  \n"
          ]
        }
      ],
      "source": [
        "# Untuk pertanyaan 1\n",
        "print(df_order_vis.head())\n",
        "\n",
        "# Untuk pertanyaan 2\n",
        "print(df_cust_seller_geo.head())"
      ]
    },
    {
      "cell_type": "markdown",
      "metadata": {
        "id": "gp-Y6wU38DC1"
      },
      "source": [
        "## Exploratory Data Analysis (EDA)"
      ]
    },
    {
      "cell_type": "markdown",
      "metadata": {
        "id": "MW7WF2kr8DC1"
      },
      "source": [
        "### Explore ..."
      ]
    },
    {
      "cell_type": "markdown",
      "metadata": {
        "tags": [],
        "id": "gordrGVNjOzi"
      },
      "source": [
        "### Pertanyaan 1"
      ]
    },
    {
      "cell_type": "code",
      "execution_count": null,
      "metadata": {
        "tags": [],
        "id": "I_3HY6VhjOzi",
        "outputId": "761adfce-be1c-4eab-98fc-68360f5ae4e4"
      },
      "outputs": [
        {
          "data": {
            "text/html": [
              "<div>\n",
              "<style scoped>\n",
              "    .dataframe tbody tr th:only-of-type {\n",
              "        vertical-align: middle;\n",
              "    }\n",
              "\n",
              "    .dataframe tbody tr th {\n",
              "        vertical-align: top;\n",
              "    }\n",
              "\n",
              "    .dataframe thead th {\n",
              "        text-align: right;\n",
              "    }\n",
              "</style>\n",
              "<table border=\"1\" class=\"dataframe\">\n",
              "  <thead>\n",
              "    <tr style=\"text-align: right;\">\n",
              "      <th></th>\n",
              "      <th>order_duration</th>\n",
              "      <th>review_score</th>\n",
              "    </tr>\n",
              "  </thead>\n",
              "  <tbody>\n",
              "    <tr>\n",
              "      <th>0</th>\n",
              "      <td>7 days 02:34:47</td>\n",
              "      <td>4.0</td>\n",
              "    </tr>\n",
              "    <tr>\n",
              "      <th>1</th>\n",
              "      <td>5 days 08:32:15</td>\n",
              "      <td>4.0</td>\n",
              "    </tr>\n",
              "  </tbody>\n",
              "</table>\n",
              "</div>"
            ],
            "text/plain": [
              "   order_duration  review_score\n",
              "0 7 days 02:34:47           4.0\n",
              "1 5 days 08:32:15           4.0"
            ]
          },
          "execution_count": 19,
          "metadata": {},
          "output_type": "execute_result"
        }
      ],
      "source": [
        "df_order_vis.head(2)"
      ]
    },
    {
      "cell_type": "code",
      "execution_count": null,
      "metadata": {
        "id": "e9CQCZjk8DC2",
        "tags": [],
        "outputId": "317f28dd-f40d-42b2-de84-e88de7baea46"
      },
      "outputs": [
        {
          "data": {
            "text/plain": [
              "0        Sangat Cepat\n",
              "1               Cepat\n",
              "2        Sangat Cepat\n",
              "3        Sangat Cepat\n",
              "4        Sangat Cepat\n",
              "             ...     \n",
              "99219    Sangat Cepat\n",
              "99220           Cepat\n",
              "99221           Cepat\n",
              "99222    Sangat Cepat\n",
              "99223    Sangat Cepat\n",
              "Name: order_duration, Length: 93903, dtype: object"
            ]
          },
          "execution_count": 20,
          "metadata": {},
          "output_type": "execute_result"
        }
      ],
      "source": [
        "# Melakukan kategorisasi durasi order menjadi cepat, normal, dan lama\n",
        "# Sangat cepat: di atas 7 hari, Cepat: di atas 0 - 7 hari, Normal: 0, Lama: 0 hingga -7 hari, Sangat lama: di atas -7 hari\n",
        "# Kategorisasi ini bertujuan untuk mengetahui tingkat rating berdasarkan durasi pengiriman hingga sampai orderan tersebut\n",
        "\n",
        "def order_duration_cat(duration):\n",
        "    if duration > pd.Timedelta(days=7):\n",
        "        return 'Sangat Cepat'\n",
        "    elif pd.Timedelta(days=0) < duration <= pd.Timedelta(days=7):\n",
        "        return 'Cepat'\n",
        "    elif duration == pd.Timedelta(days=0):\n",
        "        return 'Normal'\n",
        "    elif pd.Timedelta(days=-7) <= duration < pd.Timedelta(days=0):\n",
        "        return 'Lama'\n",
        "    else:\n",
        "        return 'Sangat Lama'\n",
        "\n",
        "df_order_vis_cat = df_order_vis['order_duration'].apply(order_duration_cat)\n",
        "\n",
        "df_order_vis_cat"
      ]
    },
    {
      "cell_type": "code",
      "execution_count": null,
      "metadata": {
        "tags": [],
        "id": "iy1SrhLrjOzj",
        "outputId": "4920e18b-2500-42bd-b5ec-d01cefced2fe"
      },
      "outputs": [
        {
          "data": {
            "text/html": [
              "<div>\n",
              "<style scoped>\n",
              "    .dataframe tbody tr th:only-of-type {\n",
              "        vertical-align: middle;\n",
              "    }\n",
              "\n",
              "    .dataframe tbody tr th {\n",
              "        vertical-align: top;\n",
              "    }\n",
              "\n",
              "    .dataframe thead th {\n",
              "        text-align: right;\n",
              "    }\n",
              "</style>\n",
              "<table border=\"1\" class=\"dataframe\">\n",
              "  <thead>\n",
              "    <tr style=\"text-align: right;\">\n",
              "      <th></th>\n",
              "      <th>order_duration</th>\n",
              "    </tr>\n",
              "  </thead>\n",
              "  <tbody>\n",
              "    <tr>\n",
              "      <th>0</th>\n",
              "      <td>Sangat Cepat</td>\n",
              "    </tr>\n",
              "    <tr>\n",
              "      <th>1</th>\n",
              "      <td>Cepat</td>\n",
              "    </tr>\n",
              "    <tr>\n",
              "      <th>2</th>\n",
              "      <td>Sangat Cepat</td>\n",
              "    </tr>\n",
              "    <tr>\n",
              "      <th>3</th>\n",
              "      <td>Sangat Cepat</td>\n",
              "    </tr>\n",
              "    <tr>\n",
              "      <th>4</th>\n",
              "      <td>Sangat Cepat</td>\n",
              "    </tr>\n",
              "    <tr>\n",
              "      <th>...</th>\n",
              "      <td>...</td>\n",
              "    </tr>\n",
              "    <tr>\n",
              "      <th>99219</th>\n",
              "      <td>Sangat Cepat</td>\n",
              "    </tr>\n",
              "    <tr>\n",
              "      <th>99220</th>\n",
              "      <td>Cepat</td>\n",
              "    </tr>\n",
              "    <tr>\n",
              "      <th>99221</th>\n",
              "      <td>Cepat</td>\n",
              "    </tr>\n",
              "    <tr>\n",
              "      <th>99222</th>\n",
              "      <td>Sangat Cepat</td>\n",
              "    </tr>\n",
              "    <tr>\n",
              "      <th>99223</th>\n",
              "      <td>Sangat Cepat</td>\n",
              "    </tr>\n",
              "  </tbody>\n",
              "</table>\n",
              "<p>93903 rows × 1 columns</p>\n",
              "</div>"
            ],
            "text/plain": [
              "      order_duration\n",
              "0       Sangat Cepat\n",
              "1              Cepat\n",
              "2       Sangat Cepat\n",
              "3       Sangat Cepat\n",
              "4       Sangat Cepat\n",
              "...              ...\n",
              "99219   Sangat Cepat\n",
              "99220          Cepat\n",
              "99221          Cepat\n",
              "99222   Sangat Cepat\n",
              "99223   Sangat Cepat\n",
              "\n",
              "[93903 rows x 1 columns]"
            ]
          },
          "execution_count": 21,
          "metadata": {},
          "output_type": "execute_result"
        }
      ],
      "source": [
        "df_order_vis_cat['order_duration_cat'] = pd.DataFrame(df_order_vis_cat)\n",
        "df_order_vis_cat['order_duration_cat']"
      ]
    },
    {
      "cell_type": "code",
      "execution_count": null,
      "metadata": {
        "tags": [],
        "id": "HAMt7G3zjOzj",
        "outputId": "492e7a20-01f3-4ab8-a79e-1a35cbb78dc9"
      },
      "outputs": [
        {
          "data": {
            "text/plain": [
              "0        4.0\n",
              "1        4.0\n",
              "2        5.0\n",
              "3        5.0\n",
              "4        5.0\n",
              "        ... \n",
              "99219    5.0\n",
              "99220    4.0\n",
              "99221    5.0\n",
              "99222    2.0\n",
              "99223    5.0\n",
              "Name: review_score, Length: 93903, dtype: float32"
            ]
          },
          "execution_count": 22,
          "metadata": {},
          "output_type": "execute_result"
        }
      ],
      "source": [
        "df_order_vis['review_score']"
      ]
    },
    {
      "cell_type": "code",
      "execution_count": null,
      "metadata": {
        "tags": [],
        "id": "dFfa9q-5jOzj",
        "outputId": "478db796-765e-442c-d1f2-8684c7bc70d1"
      },
      "outputs": [
        {
          "data": {
            "text/html": [
              "<div>\n",
              "<style scoped>\n",
              "    .dataframe tbody tr th:only-of-type {\n",
              "        vertical-align: middle;\n",
              "    }\n",
              "\n",
              "    .dataframe tbody tr th {\n",
              "        vertical-align: top;\n",
              "    }\n",
              "\n",
              "    .dataframe thead th {\n",
              "        text-align: right;\n",
              "    }\n",
              "</style>\n",
              "<table border=\"1\" class=\"dataframe\">\n",
              "  <thead>\n",
              "    <tr style=\"text-align: right;\">\n",
              "      <th></th>\n",
              "      <th>order_duration</th>\n",
              "      <th>review_score</th>\n",
              "    </tr>\n",
              "  </thead>\n",
              "  <tbody>\n",
              "    <tr>\n",
              "      <th>0</th>\n",
              "      <td>Sangat Cepat</td>\n",
              "      <td>4.0</td>\n",
              "    </tr>\n",
              "    <tr>\n",
              "      <th>1</th>\n",
              "      <td>Cepat</td>\n",
              "      <td>4.0</td>\n",
              "    </tr>\n",
              "    <tr>\n",
              "      <th>2</th>\n",
              "      <td>Sangat Cepat</td>\n",
              "      <td>5.0</td>\n",
              "    </tr>\n",
              "    <tr>\n",
              "      <th>3</th>\n",
              "      <td>Sangat Cepat</td>\n",
              "      <td>5.0</td>\n",
              "    </tr>\n",
              "    <tr>\n",
              "      <th>4</th>\n",
              "      <td>Sangat Cepat</td>\n",
              "      <td>5.0</td>\n",
              "    </tr>\n",
              "    <tr>\n",
              "      <th>...</th>\n",
              "      <td>...</td>\n",
              "      <td>...</td>\n",
              "    </tr>\n",
              "    <tr>\n",
              "      <th>99219</th>\n",
              "      <td>Sangat Cepat</td>\n",
              "      <td>5.0</td>\n",
              "    </tr>\n",
              "    <tr>\n",
              "      <th>99220</th>\n",
              "      <td>Cepat</td>\n",
              "      <td>4.0</td>\n",
              "    </tr>\n",
              "    <tr>\n",
              "      <th>99221</th>\n",
              "      <td>Cepat</td>\n",
              "      <td>5.0</td>\n",
              "    </tr>\n",
              "    <tr>\n",
              "      <th>99222</th>\n",
              "      <td>Sangat Cepat</td>\n",
              "      <td>2.0</td>\n",
              "    </tr>\n",
              "    <tr>\n",
              "      <th>99223</th>\n",
              "      <td>Sangat Cepat</td>\n",
              "      <td>5.0</td>\n",
              "    </tr>\n",
              "  </tbody>\n",
              "</table>\n",
              "<p>93903 rows × 2 columns</p>\n",
              "</div>"
            ],
            "text/plain": [
              "      order_duration  review_score\n",
              "0       Sangat Cepat           4.0\n",
              "1              Cepat           4.0\n",
              "2       Sangat Cepat           5.0\n",
              "3       Sangat Cepat           5.0\n",
              "4       Sangat Cepat           5.0\n",
              "...              ...           ...\n",
              "99219   Sangat Cepat           5.0\n",
              "99220          Cepat           4.0\n",
              "99221          Cepat           5.0\n",
              "99222   Sangat Cepat           2.0\n",
              "99223   Sangat Cepat           5.0\n",
              "\n",
              "[93903 rows x 2 columns]"
            ]
          },
          "execution_count": 23,
          "metadata": {},
          "output_type": "execute_result"
        }
      ],
      "source": [
        "df_order_vis_all = pd.concat((df_order_vis_cat['order_duration_cat'], df_order_vis['review_score']), axis=1)\n",
        "df_order_vis_all = pd.DataFrame(df_order_vis_all)\n",
        "df_order_vis_all"
      ]
    },
    {
      "cell_type": "markdown",
      "metadata": {
        "id": "QjJQgHrfjOzj"
      },
      "source": [
        "### Pertanyaan 2"
      ]
    },
    {
      "cell_type": "code",
      "execution_count": null,
      "metadata": {
        "tags": [],
        "id": "_-q2ey3ZjOzj",
        "outputId": "8522ff82-93ac-41dc-d482-9969550ede14"
      },
      "outputs": [
        {
          "data": {
            "text/html": [
              "<div>\n",
              "<style scoped>\n",
              "    .dataframe tbody tr th:only-of-type {\n",
              "        vertical-align: middle;\n",
              "    }\n",
              "\n",
              "    .dataframe tbody tr th {\n",
              "        vertical-align: top;\n",
              "    }\n",
              "\n",
              "    .dataframe thead th {\n",
              "        text-align: right;\n",
              "    }\n",
              "</style>\n",
              "<table border=\"1\" class=\"dataframe\">\n",
              "  <thead>\n",
              "    <tr style=\"text-align: right;\">\n",
              "      <th></th>\n",
              "      <th>customer_zip_code_prefix</th>\n",
              "      <th>customer_city</th>\n",
              "      <th>geolocation_zip_code_prefix</th>\n",
              "      <th>product_category_name</th>\n",
              "    </tr>\n",
              "  </thead>\n",
              "  <tbody>\n",
              "    <tr>\n",
              "      <th>0</th>\n",
              "      <td>13056</td>\n",
              "      <td>campinas</td>\n",
              "      <td>13056</td>\n",
              "      <td>perfumaria</td>\n",
              "    </tr>\n",
              "    <tr>\n",
              "      <th>1570</th>\n",
              "      <td>13056</td>\n",
              "      <td>campinas</td>\n",
              "      <td>13056</td>\n",
              "      <td>construcao_ferramentas_construcao</td>\n",
              "    </tr>\n",
              "    <tr>\n",
              "      <th>105504</th>\n",
              "      <td>89254</td>\n",
              "      <td>jaragua do sul</td>\n",
              "      <td>89254</td>\n",
              "      <td>brinquedos</td>\n",
              "    </tr>\n",
              "    <tr>\n",
              "      <th>106092</th>\n",
              "      <td>89254</td>\n",
              "      <td>jaragua do sul</td>\n",
              "      <td>89254</td>\n",
              "      <td>cool_stuff</td>\n",
              "    </tr>\n",
              "    <tr>\n",
              "      <th>108150</th>\n",
              "      <td>89254</td>\n",
              "      <td>jaragua do sul</td>\n",
              "      <td>89254</td>\n",
              "      <td>bebes</td>\n",
              "    </tr>\n",
              "    <tr>\n",
              "      <th>...</th>\n",
              "      <td>...</td>\n",
              "      <td>...</td>\n",
              "      <td>...</td>\n",
              "      <td>...</td>\n",
              "    </tr>\n",
              "    <tr>\n",
              "      <th>391747652</th>\n",
              "      <td>9336</td>\n",
              "      <td>maua</td>\n",
              "      <td>9336</td>\n",
              "      <td>NaN</td>\n",
              "    </tr>\n",
              "    <tr>\n",
              "      <th>391747660</th>\n",
              "      <td>9336</td>\n",
              "      <td>maua</td>\n",
              "      <td>9336</td>\n",
              "      <td>utilidades_domesticas</td>\n",
              "    </tr>\n",
              "    <tr>\n",
              "      <th>391747668</th>\n",
              "      <td>7112</td>\n",
              "      <td>guarulhos</td>\n",
              "      <td>7112</td>\n",
              "      <td>automotivo</td>\n",
              "    </tr>\n",
              "    <tr>\n",
              "      <th>391760718</th>\n",
              "      <td>5315</td>\n",
              "      <td>sao paulo</td>\n",
              "      <td>5315</td>\n",
              "      <td>utilidades_domesticas</td>\n",
              "    </tr>\n",
              "    <tr>\n",
              "      <th>391760946</th>\n",
              "      <td>4319</td>\n",
              "      <td>sao paulo</td>\n",
              "      <td>4319</td>\n",
              "      <td>automotivo</td>\n",
              "    </tr>\n",
              "  </tbody>\n",
              "</table>\n",
              "<p>6040 rows × 4 columns</p>\n",
              "</div>"
            ],
            "text/plain": [
              "           customer_zip_code_prefix   customer_city  \\\n",
              "0                             13056        campinas   \n",
              "1570                          13056        campinas   \n",
              "105504                        89254  jaragua do sul   \n",
              "106092                        89254  jaragua do sul   \n",
              "108150                        89254  jaragua do sul   \n",
              "...                             ...             ...   \n",
              "391747652                      9336            maua   \n",
              "391747660                      9336            maua   \n",
              "391747668                      7112       guarulhos   \n",
              "391760718                      5315       sao paulo   \n",
              "391760946                      4319       sao paulo   \n",
              "\n",
              "           geolocation_zip_code_prefix              product_category_name  \n",
              "0                                13056                         perfumaria  \n",
              "1570                             13056  construcao_ferramentas_construcao  \n",
              "105504                           89254                         brinquedos  \n",
              "106092                           89254                         cool_stuff  \n",
              "108150                           89254                              bebes  \n",
              "...                                ...                                ...  \n",
              "391747652                         9336                                NaN  \n",
              "391747660                         9336              utilidades_domesticas  \n",
              "391747668                         7112                         automotivo  \n",
              "391760718                         5315              utilidades_domesticas  \n",
              "391760946                         4319                         automotivo  \n",
              "\n",
              "[6040 rows x 4 columns]"
            ]
          },
          "execution_count": 24,
          "metadata": {},
          "output_type": "execute_result"
        }
      ],
      "source": [
        "df_cust_seller_geo"
      ]
    },
    {
      "cell_type": "markdown",
      "metadata": {
        "id": "zsyZjqak8DC2"
      },
      "source": [
        "## Visualization & Explanatory Analysis"
      ]
    },
    {
      "cell_type": "markdown",
      "metadata": {
        "id": "HZxOiQ6n8DC2"
      },
      "source": [
        "### Pertanyaan 1:"
      ]
    },
    {
      "cell_type": "code",
      "execution_count": null,
      "metadata": {
        "id": "1swJUdAD8DC2"
      },
      "outputs": [],
      "source": [
        "x2 = pd.DataFrame(df_order_vis_all['order_duration'])\n",
        "y2 = pd.DataFrame(df_order_vis_all['review_score'])"
      ]
    },
    {
      "cell_type": "code",
      "execution_count": null,
      "metadata": {
        "tags": [],
        "id": "HfaUtGfujOzk",
        "outputId": "0f03d6d1-ee42-41b7-e4e0-07041bb95ddc"
      },
      "outputs": [
        {
          "name": "stdout",
          "output_type": "stream",
          "text": [
            "      order_duration\n",
            "0       Sangat Cepat\n",
            "1              Cepat\n",
            "2       Sangat Cepat\n",
            "3       Sangat Cepat\n",
            "4       Sangat Cepat\n",
            "...              ...\n",
            "99219   Sangat Cepat\n",
            "99220          Cepat\n",
            "99221          Cepat\n",
            "99222   Sangat Cepat\n",
            "99223   Sangat Cepat\n",
            "\n",
            "[93903 rows x 1 columns]\n"
          ]
        }
      ],
      "source": [
        "df_order_dur_vis = pd.DataFrame(df_order_vis_all['order_duration'])\n",
        "df_review_score_vis = pd.DataFrame(df_order_vis_all['review_score'])\n",
        "\n",
        "print(df_order_dur_vis)"
      ]
    },
    {
      "cell_type": "code",
      "execution_count": null,
      "metadata": {
        "tags": [],
        "id": "jRBI3MVGjOzk",
        "outputId": "5cae8765-b172-4826-add1-54a9570b835a"
      },
      "outputs": [
        {
          "data": {
            "text/html": [
              "<div>\n",
              "<style scoped>\n",
              "    .dataframe tbody tr th:only-of-type {\n",
              "        vertical-align: middle;\n",
              "    }\n",
              "\n",
              "    .dataframe tbody tr th {\n",
              "        vertical-align: top;\n",
              "    }\n",
              "\n",
              "    .dataframe thead th {\n",
              "        text-align: right;\n",
              "    }\n",
              "</style>\n",
              "<table border=\"1\" class=\"dataframe\">\n",
              "  <thead>\n",
              "    <tr style=\"text-align: right;\">\n",
              "      <th></th>\n",
              "      <th>review_score</th>\n",
              "    </tr>\n",
              "  </thead>\n",
              "  <tbody>\n",
              "    <tr>\n",
              "      <th>0</th>\n",
              "      <td>4.0</td>\n",
              "    </tr>\n",
              "    <tr>\n",
              "      <th>1</th>\n",
              "      <td>4.0</td>\n",
              "    </tr>\n",
              "    <tr>\n",
              "      <th>2</th>\n",
              "      <td>5.0</td>\n",
              "    </tr>\n",
              "    <tr>\n",
              "      <th>3</th>\n",
              "      <td>5.0</td>\n",
              "    </tr>\n",
              "    <tr>\n",
              "      <th>4</th>\n",
              "      <td>5.0</td>\n",
              "    </tr>\n",
              "    <tr>\n",
              "      <th>...</th>\n",
              "      <td>...</td>\n",
              "    </tr>\n",
              "    <tr>\n",
              "      <th>99219</th>\n",
              "      <td>5.0</td>\n",
              "    </tr>\n",
              "    <tr>\n",
              "      <th>99220</th>\n",
              "      <td>4.0</td>\n",
              "    </tr>\n",
              "    <tr>\n",
              "      <th>99221</th>\n",
              "      <td>5.0</td>\n",
              "    </tr>\n",
              "    <tr>\n",
              "      <th>99222</th>\n",
              "      <td>2.0</td>\n",
              "    </tr>\n",
              "    <tr>\n",
              "      <th>99223</th>\n",
              "      <td>5.0</td>\n",
              "    </tr>\n",
              "  </tbody>\n",
              "</table>\n",
              "<p>93903 rows × 1 columns</p>\n",
              "</div>"
            ],
            "text/plain": [
              "       review_score\n",
              "0               4.0\n",
              "1               4.0\n",
              "2               5.0\n",
              "3               5.0\n",
              "4               5.0\n",
              "...             ...\n",
              "99219           5.0\n",
              "99220           4.0\n",
              "99221           5.0\n",
              "99222           2.0\n",
              "99223           5.0\n",
              "\n",
              "[93903 rows x 1 columns]"
            ]
          },
          "execution_count": 27,
          "metadata": {},
          "output_type": "execute_result"
        }
      ],
      "source": [
        "df_review_score_vis"
      ]
    },
    {
      "cell_type": "code",
      "execution_count": null,
      "metadata": {
        "tags": [],
        "id": "uLehKJrHjOzk",
        "outputId": "92627a72-fe8a-4a79-f9a7-a645a93c0609"
      },
      "outputs": [
        {
          "data": {
            "image/png": "[encoded data removed]",
            "text/plain": [
              "<Figure size 640x480 with 1 Axes>"
            ]
          },
          "metadata": {},
          "output_type": "display_data"
        }
      ],
      "source": [
        "merged_df = pd.concat((df_review_score_vis, df_order_dur_vis), axis=1)\n",
        "\n",
        "# Membuat bar chart\n",
        "grouped_df = merged_df.groupby(['review_score', 'order_duration']).size().unstack(fill_value=0)\n",
        "grouped_df.plot(kind='bar', stacked=False)\n",
        "\n",
        "# Menambahkan label pada sumbu\n",
        "plt.xlabel('Review Score')\n",
        "plt.ylabel('Count')\n",
        "\n",
        "# Menambahkan judul\n",
        "plt.title('Bar Chart: Review Score vs Order Duration')\n",
        "\n",
        "# Menampilkan plot\n",
        "plt.show()"
      ]
    },
    {
      "cell_type": "markdown",
      "metadata": {
        "id": "DgHI7CiU8DC2"
      },
      "source": [
        "### Pertanyaan 2:"
      ]
    },
    {
      "cell_type": "code",
      "execution_count": null,
      "metadata": {
        "tags": [],
        "id": "KPNjR6dzjOzk",
        "outputId": "a17c0f81-ecaf-416a-984b-31ea03499761"
      },
      "outputs": [
        {
          "name": "stdout",
          "output_type": "stream",
          "text": [
            "<class 'pandas.core.frame.DataFrame'>\n",
            "Index: 6040 entries, 0 to 391760946\n",
            "Data columns (total 4 columns):\n",
            " #   Column                       Non-Null Count  Dtype \n",
            "---  ------                       --------------  ----- \n",
            " 0   customer_zip_code_prefix     6040 non-null   int64 \n",
            " 1   customer_city                6040 non-null   object\n",
            " 2   geolocation_zip_code_prefix  6040 non-null   int64 \n",
            " 3   product_category_name        5806 non-null   object\n",
            "dtypes: int64(2), object(2)\n",
            "memory usage: 235.9+ KB\n"
          ]
        }
      ],
      "source": [
        "df_cust_seller_geo.info()"
      ]
    },
    {
      "cell_type": "code",
      "execution_count": null,
      "metadata": {
        "id": "XxMJRFmijOzk"
      },
      "outputs": [],
      "source": [
        "x_cust = df_cust_seller_geo['customer_city']\n",
        "y_cust = df_cust_seller_geo['product_category_name']"
      ]
    },
    {
      "cell_type": "code",
      "execution_count": null,
      "metadata": {
        "tags": [],
        "id": "a1BQujRajOzk",
        "outputId": "c6dd898b-f095-4b43-a43e-ac18e7d22b8d"
      },
      "outputs": [
        {
          "name": "stderr",
          "output_type": "stream",
          "text": [
            "C:\\Users\\Rafli\\AppData\\Local\\Temp\\ipykernel_31564\\2687569068.py:23: MatplotlibDeprecationWarning: The get_cmap function was deprecated in Matplotlib 3.7 and will be removed two minor releases later. Use ``matplotlib.colormaps[name]`` or ``matplotlib.colormaps.get_cmap(obj)`` instead.\n",
            "  colors = plt.cm.get_cmap('tab10', len(df_filtered['product_category_name'].unique()))\n"
          ]
        },
        {
          "data": {
            "image/png": "[encoded data removed]",
            "text/plain": [
              "<Figure size 1400x600 with 1 Axes>"
            ]
          },
          "metadata": {},
          "output_type": "display_data"
        }
      ],
      "source": [
        "# Mengelompokkan berdasarkan kategori produk dan kota, kemudian menghitung jumlah frekuensi setiap kategori\n",
        "df_category_counts = df_cust_seller_geo.groupby(['product_category_name', 'customer_city']).size().reset_index(name='quantity')\n",
        "\n",
        "# Mengurutkan DataFrame berdasarkan jumlah quantity dari yang tertinggi ke terendah\n",
        "df_category_counts_sorted = df_category_counts.sort_values(by='quantity', ascending=False)\n",
        "\n",
        "# Memilih 10 kota teratas\n",
        "top_10_cities = df_category_counts_sorted['customer_city'].unique()[:10]\n",
        "\n",
        "# Memilih 4 kategori produk teratas\n",
        "top_4_categories = df_category_counts_sorted['product_category_name'].unique()[:4]\n",
        "\n",
        "# Memfilter DataFrame untuk hanya menyertakan data dari 10 kota teratas dan 4 kategori teratas\n",
        "df_filtered = df_category_counts_sorted[\n",
        "    (df_category_counts_sorted['customer_city'].isin(top_10_cities)) &\n",
        "    (df_category_counts_sorted['product_category_name'].isin(top_4_categories))\n",
        "]\n",
        "\n",
        "# Membuat bar chart\n",
        "fig, ax = plt.subplots(figsize=(14, 6))\n",
        "\n",
        "# Menggunakan warna berbeda untuk setiap kategori produk\n",
        "colors = plt.cm.get_cmap('tab10', len(df_filtered['product_category_name'].unique()))\n",
        "\n",
        "for i, (category, group) in enumerate(df_filtered.groupby('product_category_name')):\n",
        "    ax.bar(group['customer_city'], group['quantity'], color=colors(i), label=category)\n",
        "\n",
        "# Menambahkan label pada sumbu\n",
        "plt.xlabel('Customer City')\n",
        "plt.ylabel('Quantity')\n",
        "\n",
        "# Menambahkan judul\n",
        "plt.title('Bar Chart: Top 10 Kota & Top 4 Kategori Produk - Kuantitas per Kategori Produk')\n",
        "\n",
        "# Menambahkan legenda\n",
        "plt.legend()\n",
        "\n",
        "# Menampilkan plot\n",
        "plt.show()"
      ]
    },
    {
      "cell_type": "markdown",
      "metadata": {
        "id": "_WeHlCeX8DC2"
      },
      "source": [
        "## Conclusion"
      ]
    },
    {
      "cell_type": "markdown",
      "metadata": {
        "id": "ZTcyR48Y8DC2"
      },
      "source": [
        "- Pertanyaan 1: \"Bagaimana kinerja order bisa mempengaruhi kepuasan para customer pada tahun 2016-2018?\" didapatkan kesimpulan bahwa dengan pengiriman yang cepat hingga sangat cepat, ratingnya bisa menjadi tinggi, sedangkan pengiriman lambat membuat rating menjadi rendah. Maka dari itu, tindakan yang bisa diambil dan dipertimbangkan adalah melakukan pengontrolan pada bagian pengiriman supaya tidak terjadi keterlambatan\n",
        "\n",
        "- Pertanyaan 2: \"Bagaimana clustering wilayah yang membeli suatu produk tertentu pada 2016-2018?\" didapatkan kesimpulan bahwa kota Sao Paulo berada di tingkat pertama dengan pemesanan barang terbanyak yaitu kategori produk 'utilidades_domesticas', disusul dengan kota Rio de Janeiro, Curitiba, Belo Horizonte, dan Ribeirao Preto yang juga melakukan pemesanan barang dengan kategori produk 'utilidades_domesticas'. Tindakan yang dapat diambil adalah melakukan inovasi pada produk-produk yang mendapatkan transaksi terbanyak pada kota-kota yang melakukan pemesanan terbanyak pula, sehingga profit dapat semakin tinggi pada waktu-waktu yang akan datang."
      ]
    }
  ],
  "metadata": {
    "colab": {
      "provenance": []
    },
    "kernelspec": {
      "display_name": "Python 3 (ipykernel)",
      "language": "python",
      "name": "python3"
    },
    "language_info": {
      "codemirror_mode": {
        "name": "ipython",
        "version": 3
      },
      "file_extension": ".py",
      "mimetype": "text/x-python",
      "name": "python",
      "nbconvert_exporter": "python",
      "pygments_lexer": "ipython3",
      "version": "3.11.5"
    },
    "vscode": {
      "interpreter": {
        "hash": "972b3bf27e332e87b5379f2791f6ef9dfc79c71018c370b0d7423235e20fe4d7"
      }
    }
  },
  "nbformat": 4,
  "nbformat_minor": 0
}